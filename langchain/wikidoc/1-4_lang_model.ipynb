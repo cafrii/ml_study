{
 "cells": [
  {
   "cell_type": "markdown",
   "id": "f2be9f23",
   "metadata": {},
   "source": [
    "# 1-4. LangChain의 언어 모델 (Model)\n",
    "\n",
    "https://wikidocs.net/231344\n",
    "\n"
   ]
  },
  {
   "cell_type": "code",
   "execution_count": 1,
   "id": "99a1ca94",
   "metadata": {},
   "outputs": [],
   "source": [
    "!pip install -Uq langchain langchain-openai tiktoken\n"
   ]
  },
  {
   "cell_type": "markdown",
   "id": "6ff583f1",
   "metadata": {},
   "source": [
    "## 1-4-3-2. Gemini (Google)\n"
   ]
  },
  {
   "cell_type": "code",
   "execution_count": 3,
   "id": "041e939c",
   "metadata": {},
   "outputs": [],
   "source": [
    "!pip install -Uq langchain-google-genai"
   ]
  },
  {
   "cell_type": "code",
   "execution_count": null,
   "id": "570e7f08",
   "metadata": {},
   "outputs": [],
   "source": [
    "from langchain_google_genai import ChatGoogleGenerativeAI\n",
    "\n",
    "# 모델 로드\n",
    "llm = ChatGoogleGenerativeAI(\n",
    "    model=\"gemini-1.5-flash\",\n",
    "    temperature=0,\n",
    "    max_output_tokens=200,\n",
    "    google_api_key=\"인증키 입력\"\n",
    ")"
   ]
  },
  {
   "cell_type": "code",
   "execution_count": null,
   "id": "16717862",
   "metadata": {},
   "outputs": [],
   "source": [
    "messages=[\n",
    "    {\"role\": \"system\", \"content\": \"You are a helpful assistant.\"},\n",
    "    {\"role\": \"user\", \"content\": \"LLM은 어떤 원리로 작동하나요? 100자 이내로 설명해주세요.\"},\n",
    "]"
   ]
  },
  {
   "cell_type": "code",
   "execution_count": null,
   "id": "97aab7be",
   "metadata": {},
   "outputs": [],
   "source": [
    "ai_msg = llm.invoke(messages)\n",
    "print(ai_msg.content)"
   ]
  }
 ],
 "metadata": {
  "kernelspec": {
   "display_name": "ml_langchain",
   "language": "python",
   "name": "python3"
  },
  "language_info": {
   "codemirror_mode": {
    "name": "ipython",
    "version": 3
   },
   "file_extension": ".py",
   "mimetype": "text/x-python",
   "name": "python",
   "nbconvert_exporter": "python",
   "pygments_lexer": "ipython3",
   "version": "3.9.22"
  }
 },
 "nbformat": 4,
 "nbformat_minor": 5
}
