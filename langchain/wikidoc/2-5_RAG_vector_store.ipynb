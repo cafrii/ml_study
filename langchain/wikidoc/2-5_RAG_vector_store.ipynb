{
 "cells": [
  {
   "cell_type": "markdown",
   "id": "4f29d1da",
   "metadata": {},
   "source": [
    "# 2-5. RAG - Vector Store\n",
    "https://wikidocs.net/231433"
   ]
  }
 ],
 "metadata": {
  "kernelspec": {
   "display_name": "ml_langchain",
   "language": "python",
   "name": "python3"
  },
  "language_info": {
   "name": "python",
   "version": "3.9.22"
  }
 },
 "nbformat": 4,
 "nbformat_minor": 5
}
