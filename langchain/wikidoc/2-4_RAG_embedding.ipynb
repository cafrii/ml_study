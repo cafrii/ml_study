{
 "cells": [
  {
   "cell_type": "markdown",
   "id": "8b1b8901",
   "metadata": {},
   "source": [
    "# 2-4. RAG - Embedding\n",
    "https://wikidocs.net/231431\n"
   ]
  },
  {
   "cell_type": "code",
   "execution_count": 5,
   "id": "e6bc387a",
   "metadata": {},
   "outputs": [],
   "source": [
    "# 코사인 유사도\n",
    "import numpy as np\n",
    "from numpy import dot\n",
    "from numpy.linalg import norm\n",
    "\n",
    "def cos_sim(A, B):\n",
    "  return dot(A, B)/(norm(A)*norm(B))"
   ]
  },
  {
   "cell_type": "code",
   "execution_count": 2,
   "id": "57af4312",
   "metadata": {},
   "outputs": [],
   "source": [
    "!pip install -q langchain_google_genai\n"
   ]
  },
  {
   "cell_type": "code",
   "execution_count": 8,
   "id": "485d3650",
   "metadata": {},
   "outputs": [],
   "source": [
    "# 구글 인증키 로딩\n",
    "import os, dotenv\n",
    "dotenv.load_dotenv()\n",
    "GEMINI_API_KEY = os.getenv(\"GEMINI_API_KEY\")\n",
    "# GEMINI_API_KEY # 이 출력 결과도 커밋이 되지 않도록 해야 함.\n",
    "\n",
    "# langchain 객체들은 환경변수에 저장된 api key를 제대로 인식할 수 있다.\n",
    "# 이렇게 해 두면 매번 모델 생성 시 api key를 전달하지 않아도 되니 편하다.\n",
    "#\n",
    "os.environ['GOOGLE_API_KEY'] = GEMINI_API_KEY\n",
    "None"
   ]
  },
  {
   "cell_type": "markdown",
   "id": "39130d17",
   "metadata": {},
   "source": [
    "2-4-2.\n",
    "\n",
    "## HuggingFaceEmbeddings"
   ]
  },
  {
   "cell_type": "code",
   "execution_count": 2,
   "id": "feca60ab",
   "metadata": {},
   "outputs": [],
   "source": [
    "!pip install -q sentence-transformers\n"
   ]
  },
  {
   "cell_type": "code",
   "execution_count": null,
   "id": "4252ef3a",
   "metadata": {},
   "outputs": [
    {
     "name": "stderr",
     "output_type": "stream",
     "text": [
      "/var/folders/gk/5yll9c4s4574ff6wr892k56r0000gn/T/ipykernel_18589/251242760.py:3: LangChainDeprecationWarning: The class `HuggingFaceEmbeddings` was deprecated in LangChain 0.2.2 and will be removed in 1.0. An updated version of the class exists in the :class:`~langchain-huggingface package and should be used instead. To use it run `pip install -U :class:`~langchain-huggingface` and import as `from :class:`~langchain_huggingface import HuggingFaceEmbeddings``.\n",
      "  embeddings_model = HuggingFaceEmbeddings(\n",
      "/Users/yhlee/miniforge3/envs/ml_langchain/lib/python3.9/site-packages/tqdm/auto.py:21: TqdmWarning: IProgress not found. Please update jupyter and ipywidgets. See https://ipywidgets.readthedocs.io/en/stable/user_install.html\n",
      "  from .autonotebook import tqdm as notebook_tqdm\n"
     ]
    },
    {
     "data": {
      "text/plain": [
       "HuggingFaceEmbeddings(client=SentenceTransformer(\n",
       "  (0): Transformer({'max_seq_length': 128, 'do_lower_case': False}) with Transformer model: RobertaModel \n",
       "  (1): Pooling({'word_embedding_dimension': 768, 'pooling_mode_cls_token': False, 'pooling_mode_mean_tokens': True, 'pooling_mode_max_tokens': False, 'pooling_mode_mean_sqrt_len_tokens': False, 'pooling_mode_weightedmean_tokens': False, 'pooling_mode_lasttoken': False, 'include_prompt': True})\n",
       "), model_name='jhgan/ko-sroberta-nli', cache_folder=None, model_kwargs={'device': 'cpu'}, encode_kwargs={'normalize_embeddings': True}, multi_process=False, show_progress=False)"
      ]
     },
     "execution_count": 3,
     "metadata": {},
     "output_type": "execute_result"
    }
   ],
   "source": [
    "from langchain_community.embeddings import HuggingFaceEmbeddings\n",
    "\n",
    "embeddings_model = HuggingFaceEmbeddings(\n",
    "    model_name='jhgan/ko-sroberta-nli', # 한국어 자연어 추론에 최적화 된 모델이라고 함.\n",
    "    model_kwargs={'device':'cpu'},  # 나는 cuda 가 아니니...\n",
    "    encode_kwargs={'normalize_embeddings':True},\n",
    ")\n",
    "# 주의: 이 셀 실행에 시간이 많이 걸린다. 약 45초.\n",
    "embeddings_model"
   ]
  },
  {
   "cell_type": "code",
   "execution_count": 4,
   "id": "ebd005ac",
   "metadata": {},
   "outputs": [
    {
     "data": {
      "text/plain": [
       "(5, 768)"
      ]
     },
     "execution_count": 4,
     "metadata": {},
     "output_type": "execute_result"
    }
   ],
   "source": [
    "embeddings = embeddings_model.embed_documents(\n",
    "    [\n",
    "        '안녕하세요!',\n",
    "        '어! 오랜만이에요',\n",
    "        '이름이 어떻게 되세요?',\n",
    "        '날씨가 추워요',\n",
    "        'Hello LLM!'\n",
    "    ]\n",
    ")\n",
    "len(embeddings), len(embeddings[0])"
   ]
  },
  {
   "cell_type": "code",
   "execution_count": null,
   "id": "52fd902a",
   "metadata": {},
   "outputs": [
    {
     "name": "stdout",
     "output_type": "stream",
     "text": [
      "0.5899015798177862\n",
      "0.41826302433660056\n",
      "0.7240604100932585\n",
      "0.057026555734256024\n",
      "0.4316417109086967\n"
     ]
    }
   ],
   "source": [
    "embedded_query = embeddings_model.embed_query('첫인사를 하고 이름을 물어봤나요?')\n",
    "\n",
    "for embedding in embeddings:\n",
    "    print(cos_sim(embedding, embedded_query))"
   ]
  },
  {
   "cell_type": "markdown",
   "id": "a1d66a34",
   "metadata": {},
   "source": [
    "2-4-3\n",
    "## GoogleGenerativeAIEmbeddings\n"
   ]
  },
  {
   "cell_type": "code",
   "execution_count": 20,
   "id": "0d3d03c5",
   "metadata": {},
   "outputs": [
    {
     "name": "stdout",
     "output_type": "stream",
     "text": [
      "<class 'langchain_google_genai.embeddings.GoogleGenerativeAIEmbeddings'>\n"
     ]
    },
    {
     "data": {
      "text/plain": [
       "GoogleGenerativeAIEmbeddings(client=<google.ai.generativelanguage_v1beta.services.generative_service.client.GenerativeServiceClient object at 0x116157e50>, model='models/embedding-001', task_type=None, google_api_key=SecretStr('**********'), credentials=None, client_options=None, transport=None, request_options=None)"
      ]
     },
     "execution_count": 20,
     "metadata": {},
     "output_type": "execute_result"
    }
   ],
   "source": [
    "from langchain_google_genai import GoogleGenerativeAIEmbeddings\n",
    "\n",
    "embeddings_model = GoogleGenerativeAIEmbeddings(model='models/embedding-001')\n",
    "\n",
    "# 핵심 클래스는 GoogleGenerativeAIEmbeddings 이다.\n",
    "# 그런데 지정하는 '모델' 이름이 'embedding..' 이다? gemini 같은 것이 아니다?\n",
    "\n",
    "print(type(embeddings_model))\n",
    "embeddings_model"
   ]
  },
  {
   "cell_type": "code",
   "execution_count": null,
   "id": "7c5d1f0d",
   "metadata": {},
   "outputs": [
    {
     "name": "stdout",
     "output_type": "stream",
     "text": [
      "<class 'list'> <class 'list'>\n",
      "5\n",
      "768\n",
      "[768, 768, 768, 768, 768]\n"
     ]
    }
   ],
   "source": [
    "embeddings = embeddings_model.embed_documents(\n",
    "    [\n",
    "        '안녕하세요!',\n",
    "        '어! 오랜만이에요',\n",
    "        '이름이 어떻게 되세요?',\n",
    "        '날씨가 추워요',\n",
    "        'Hello LLM!'\n",
    "    ]\n",
    ")\n",
    "print(type(embeddings), type(embeddings[0])) # 타입은?\n",
    "\n",
    "print(len(embeddings))  # 임베딩 된 문서의 총 수. 위에서 제공한 리스트의 요소의 수?\n",
    "\n",
    "print(len(embeddings[0])) # 이게 왜 차원을 나타낸다고 하는 것인가?\n",
    "# 768\n",
    "\n",
    "print([ len(e) for e in embeddings ])\n",
    "# [768, 768, 768, 768, 768]\n",
    "# 모든 임베딩이 동일한 차원(?) 을 가지고 있다."
   ]
  },
  {
   "cell_type": "code",
   "execution_count": 19,
   "id": "06b80ee7",
   "metadata": {},
   "outputs": [],
   "source": [
    "# embeddings[0]\n",
    "'''\n",
    "다음과 같이 표시되는 다차원 벡터. 튜플이 아니라 리스트 형식이다.\n",
    "\n",
    "[0.03633681312203407,\n",
    " 0.006253337021917105,\n",
    " -0.06295967847108841,\n",
    "...\n",
    " 0.0001472131407354027,\n",
    " 0.02952706813812256]\n",
    "'''\n",
    "None"
   ]
  },
  {
   "cell_type": "code",
   "execution_count": 18,
   "id": "56e7a3b6",
   "metadata": {},
   "outputs": [
    {
     "name": "stdout",
     "output_type": "stream",
     "text": [
      "0.6051637037092901\n",
      "0.6202318357552694\n",
      "0.7160855818278375\n",
      "0.6574387493658048\n",
      "0.555273899712489\n"
     ]
    }
   ],
   "source": [
    "# 주어진 쿼리에 대한 임베딩을 생성.\n",
    "# embed_documents() 와 embed_query() 를 구분하는 이유는??\n",
    "\n",
    "embedded_query = embeddings_model.embed_query('첫인사를 하고 이름을 물어봤나요?')\n",
    "\n",
    "for embedding in embeddings:\n",
    "    print(cos_sim(embedding, embedded_query))\n",
    "\n",
    "'''\n",
    "0.6051637037092901   '안녕하세요!',\n",
    "0.6202318357552694   '어! 오랜만이에요',\n",
    "0.7160855818278375   '이름이 어떻게 되세요?',  <= 제일 큰 값\n",
    "0.6574387493658048   '날씨가 추워요',\n",
    "0.555273899712489    'Hello LLM!'\n",
    "'''\n",
    "None"
   ]
  }
 ],
 "metadata": {
  "kernelspec": {
   "display_name": "ml_langchain",
   "language": "python",
   "name": "python3"
  },
  "language_info": {
   "codemirror_mode": {
    "name": "ipython",
    "version": 3
   },
   "file_extension": ".py",
   "mimetype": "text/x-python",
   "name": "python",
   "nbconvert_exporter": "python",
   "pygments_lexer": "ipython3",
   "version": "3.9.22"
  }
 },
 "nbformat": 4,
 "nbformat_minor": 5
}
