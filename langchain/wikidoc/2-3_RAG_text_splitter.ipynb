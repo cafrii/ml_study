{
 "cells": [
  {
   "cell_type": "markdown",
   "id": "0fb14e5f",
   "metadata": {},
   "source": [
    "# 2-3. RAG - Text Splitter\n",
    "\n",
    "https://wikidocs.net/231430\n",
    "\n",
    "ml_langchain 커널 사용\n"
   ]
  },
  {
   "cell_type": "markdown",
   "id": "cf15177e",
   "metadata": {},
   "source": [
    "## 2-3-1. CharacterTextSplitter\n"
   ]
  },
  {
   "cell_type": "code",
   "execution_count": 1,
   "id": "7520916f",
   "metadata": {},
   "outputs": [],
   "source": [
    "from langchain_community.document_loaders import TextLoader"
   ]
  },
  {
   "cell_type": "code",
   "execution_count": 3,
   "id": "dad4d9c6",
   "metadata": {},
   "outputs": [
    {
     "name": "stdout",
     "output_type": "stream",
     "text": [
      "1236\n"
     ]
    },
    {
     "data": {
      "text/plain": [
       "'\\n한국의 역사는 수천 년에 걸쳐 이어져 온 긴 여정 속에서 다양한 문화와 전통이 형성되고 발전해 왔습니다. 고조선에서 시작해 삼국 시대의 경쟁, 그리고 통일 신라와 고려를 거쳐 조'"
      ]
     },
     "execution_count": 3,
     "metadata": {},
     "output_type": "execute_result"
    }
   ],
   "source": [
    "loader = TextLoader('history.txt')\n",
    "data = loader.load()\n",
    "\n",
    "print(len(data[0].page_content))\n",
    "data[0].page_content[:100]"
   ]
  },
  {
   "cell_type": "markdown",
   "id": "d8a6c295",
   "metadata": {},
   "source": [
    "### 1. 문서를 개별 문자를 단위로 나누기 (separator=\"\")\n"
   ]
  },
  {
   "cell_type": "code",
   "execution_count": 11,
   "id": "253f0c67",
   "metadata": {},
   "outputs": [],
   "source": [
    "from langchain_text_splitters import CharacterTextSplitter\n",
    "'''\n",
    "파이썬의 split() 함수와 유사.\n",
    "\n",
    "separator: 분할된 각 청크를 구분할 때 기준이 되는 문자열. 빈 문자열('')이면 각 글자를 기준으로 분할한다.\n",
    "chunk_size: 각 청크의 최대 길이. 여기서는 500 으로 설정. 최대 500자까지의 텍스트가 하나의 청크에 포함.\n",
    "chunk_overlap: 인접한 청크 사이에 중복으로 포함될 문자의 수입니다. 여기서는 100 으로 설정.\n",
    "length_function: 청크의 길이를 계산하는 함수. len 함수를 사용. 즉, 문자열의 길이를 기반으로 청크의 길이를 계산.\n",
    "'''\n",
    "\n",
    "# 각 문자를 구분하여 분할\n",
    "text_splitter = CharacterTextSplitter(\n",
    "    separator = '',\n",
    "    chunk_size = 500,\n",
    "    chunk_overlap  = 100,\n",
    "    length_function = len,\n",
    ")\n",
    "# 스플리터를 생성할 때 부터, 어떻게 분할 할 것인지가 고정되어 버린다?\n"
   ]
  },
  {
   "cell_type": "code",
   "execution_count": null,
   "id": "d3c63dc6",
   "metadata": {},
   "outputs": [
    {
     "name": "stdout",
     "output_type": "stream",
     "text": [
      "3\n",
      "[499, 499, 435]\n"
     ]
    }
   ],
   "source": [
    "# split_text()\n",
    "\n",
    "texts = text_splitter.split_text(data[0].page_content)\n",
    "\n",
    "print(len(texts))\n",
    "# 3\n",
    "\n",
    "print(list(map(len, texts)))\n",
    "# [499, 499, 435]\n",
    "# 왜 정확히 100 글자가 아니라 499 글자로 나누는가?"
   ]
  },
  {
   "cell_type": "markdown",
   "id": "db6cda7a",
   "metadata": {},
   "source": [
    "### 2. 문서를 특정 문자열을 기준으로 나누기 (separator=\"문자열\")\n"
   ]
  },
  {
   "cell_type": "code",
   "execution_count": null,
   "id": "ed014a57",
   "metadata": {},
   "outputs": [],
   "source": [
    "# 줄바꿈 문자를 기준으로 분할\n",
    "\n",
    "text_splitter = CharacterTextSplitter(\n",
    "    separator = '\\n',\n",
    "    chunk_size = 500,\n",
    "    chunk_overlap  = 100,\n",
    "    length_function = len,\n",
    ")\n",
    "# 줄바꿈 문자를 기준으로 최대 500자를 맞출 수 있는 위치를 찾아서 분할한다.\n",
    "# 즉, \"모든 줄바꿈 문자에서 다 자르는 게 아니다.\"\n"
   ]
  },
  {
   "cell_type": "code",
   "execution_count": null,
   "id": "ef3eab15",
   "metadata": {},
   "outputs": [
    {
     "name": "stdout",
     "output_type": "stream",
     "text": [
      "3 [411, 386, 427]\n"
     ]
    }
   ],
   "source": [
    "texts = text_splitter.split_text(data[0].page_content)\n",
    "\n",
    "print(len(texts), list(map(len, texts)))\n",
    "# 3 [411, 386, 427]"
   ]
  },
  {
   "cell_type": "code",
   "execution_count": 16,
   "id": "96357b62",
   "metadata": {},
   "outputs": [
    {
     "data": {
      "text/plain": [
       "'한국의 역사는 수천 년에 걸쳐 이어져 온 긴 여정 속에서 다양한 문화와 전통이 형성되고 발전해 왔습니다. 고조선에서 시작해 삼국 시대의 경쟁, 그리고 통일 신라와 고려를 거쳐 조선까지, 한반도는 많은 변화를 겪었습니다.\\n고조선은 기원전 2333년 단군왕검에 의해 세워졌다고 전해집니다. 이는 한국 역사상 최초의 국가로, 한민족의 시원이라 할 수 있습니다. 이후 기원전 1세기경에는 한반도와 만주 일대에서 여러 소국이 성장하며 삼한 시대로 접어듭니다.\\n4세기경, 고구려, 백제, 신라의 삼국이 한반도의 주요 세력으로 부상했습니다. 이 시기는 삼국이 각각 문화와 기술, 무력을 발전시키며 경쟁적으로 성장한 시기로, 한국 역사에서 중요한 전환점을 마련했습니다. 특히 고구려는 북방의 강대국으로 성장하여 중국과도 여러 차례 전쟁을 벌였습니다.'"
      ]
     },
     "execution_count": 16,
     "metadata": {},
     "output_type": "execute_result"
    }
   ],
   "source": [
    "texts[0]"
   ]
  },
  {
   "cell_type": "markdown",
   "id": "54e11ba3",
   "metadata": {},
   "source": [
    "## 2-3-2. RecursiveCharacterTextSplitter\n",
    "https://wikidocs.net/231569\n"
   ]
  },
  {
   "cell_type": "code",
   "execution_count": null,
   "id": "2171d85e",
   "metadata": {},
   "outputs": [
    {
     "data": {
      "text/plain": [
       "3"
      ]
     },
     "execution_count": 17,
     "metadata": {},
     "output_type": "execute_result"
    }
   ],
   "source": [
    "from langchain.text_splitter import RecursiveCharacterTextSplitter\n",
    "\n",
    "# 텍스트를 재귀적으로 분할하여 의미적으로 관련 있는 텍스트 조각들이 같이 있도록 하는 목적으로 설계.\n",
    "# 문자 리스트(['\\n\\n', '\\n', ' ', ''])의 문자를 순서대로 사용하여 텍스트를 분할.\n",
    "\n",
    "text_splitter = RecursiveCharacterTextSplitter(\n",
    "    chunk_size = 500,\n",
    "    chunk_overlap  = 100,\n",
    "    length_function = len,\n",
    ")\n",
    "\n",
    "texts = text_splitter.split_text(data[0].page_content)\n",
    "\n",
    "len(texts)"
   ]
  },
  {
   "cell_type": "code",
   "execution_count": 18,
   "id": "68159a0b",
   "metadata": {},
   "outputs": [
    {
     "data": {
      "text/plain": [
       "(413, 388, 429)"
      ]
     },
     "execution_count": 18,
     "metadata": {},
     "output_type": "execute_result"
    }
   ],
   "source": [
    "len(texts[0]), len(texts[1]), len(texts[2])\n"
   ]
  },
  {
   "cell_type": "code",
   "execution_count": 19,
   "id": "f0461361",
   "metadata": {},
   "outputs": [
    {
     "data": {
      "text/plain": [
       "'한국의 역사는 수천 년에 걸쳐 이어져 온 긴 여정 속에서 다양한 문화와 전통이 형성되고 발전해 왔습니다. 고조선에서 시작해 삼국 시대의 경쟁, 그리고 통일 신라와 고려를 거쳐 조선까지, 한반도는 많은 변화를 겪었습니다.\\n\\n고조선은 기원전 2333년 단군왕검에 의해 세워졌다고 전해집니다. 이는 한국 역사상 최초의 국가로, 한민족의 시원이라 할 수 있습니다. 이후 기원전 1세기경에는 한반도와 만주 일대에서 여러 소국이 성장하며 삼한 시대로 접어듭니다.\\n\\n4세기경, 고구려, 백제, 신라의 삼국이 한반도의 주요 세력으로 부상했습니다. 이 시기는 삼국이 각각 문화와 기술, 무력을 발전시키며 경쟁적으로 성장한 시기로, 한국 역사에서 중요한 전환점을 마련했습니다. 특히 고구려는 북방의 강대국으로 성장하여 중국과도 여러 차례 전쟁을 벌였습니다.'"
      ]
     },
     "execution_count": 19,
     "metadata": {},
     "output_type": "execute_result"
    }
   ],
   "source": [
    "texts[0]"
   ]
  },
  {
   "cell_type": "markdown",
   "id": "870b235d",
   "metadata": {},
   "source": [
    "## 2-3-3. 토큰 수를 기준으로 텍스트 분할 (Tokenizer 활용)\n"
   ]
  },
  {
   "cell_type": "code",
   "execution_count": 20,
   "id": "2c0cb607",
   "metadata": {},
   "outputs": [],
   "source": [
    "# TODO"
   ]
  }
 ],
 "metadata": {
  "kernelspec": {
   "display_name": "ml_langchain",
   "language": "python",
   "name": "python3"
  },
  "language_info": {
   "codemirror_mode": {
    "name": "ipython",
    "version": 3
   },
   "file_extension": ".py",
   "mimetype": "text/x-python",
   "name": "python",
   "nbconvert_exporter": "python",
   "pygments_lexer": "ipython3",
   "version": "3.9.22"
  }
 },
 "nbformat": 4,
 "nbformat_minor": 5
}
