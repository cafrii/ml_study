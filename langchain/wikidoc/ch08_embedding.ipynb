{
 "cells": [
  {
   "cell_type": "markdown",
   "id": "9f9746e2",
   "metadata": {},
   "source": [
    "# CH08 임베딩 (Embedding)\n",
    "\n",
    "https://wikidocs.net/233777"
   ]
  },
  {
   "cell_type": "markdown",
   "id": "bb048ebf",
   "metadata": {},
   "source": []
  }
 ],
 "metadata": {
  "language_info": {
   "name": "python"
  }
 },
 "nbformat": 4,
 "nbformat_minor": 5
}
