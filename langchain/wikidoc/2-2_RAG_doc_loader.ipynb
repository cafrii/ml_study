{
 "cells": [
  {
   "cell_type": "markdown",
   "id": "be0fc45f",
   "metadata": {},
   "source": [
    "## 2-2-1. 웹 문서\n",
    "\n",
    "- https://wikidocs.net/231644\n",
    "\n"
   ]
  },
  {
   "cell_type": "code",
   "execution_count": null,
   "id": "405f5ab8",
   "metadata": {},
   "outputs": [],
   "source": [
    "!pip install -q langchain_community\n",
    "!pip install -q bs4 #beautifulsoup4"
   ]
  },
  {
   "cell_type": "markdown",
   "id": "29ba84dc",
   "metadata": {},
   "source": [
    "### WebBaseLoader 이용하여 웹 페이지 데이터 가져오기\n",
    "\n"
   ]
  },
  {
   "cell_type": "code",
   "execution_count": null,
   "id": "cffade73",
   "metadata": {},
   "outputs": [],
   "source": [
    "import bs4\n",
    "from langchain_community.document_loaders import WebBaseLoader\n",
    "\n",
    "# 로드할 웹 페이지의 URL을 단일 문자열 또는 여러 개의 URL을 시퀀스 배열로 지정할 수 있습니다.\n",
    "\n",
    "# 여러 개의 url 지정 가능\n",
    "url1 = \"https://blog.langchain.dev/customers-replit/\"\n",
    "url2 = \"https://blog.langchain.dev/langgraph-v0-2/\"\n",
    "\n",
    "loader = WebBaseLoader(\n",
    "    web_paths=(url1, url2), # 리스트 이건, 튜플 이건 상관 없다. 시퀀스 이기만 하면 된다.\n",
    "\n",
    "    # BeautifulSoup 을 사용하여 HTML을 파싱할 때 사용되는 인자들\n",
    "    bs_kwargs=dict(\n",
    "        parse_only=bs4.SoupStrainer(\n",
    "            class_=(\"article-header\", \"article-content\")\n",
    "            # 특정 클래스 이름을 가진 HTML 요소만 파싱\n",
    "        )\n",
    "    ),\n",
    ")\n",
    "docs = loader.load()\n",
    "# 로드 된 문서들의 \"배열\"\n",
    "\n",
    "len(docs)"
   ]
  },
  {
   "cell_type": "markdown",
   "id": "e34339cf",
   "metadata": {},
   "source": [
    "### TextLoader 이용하여 텍스트 파일 데이터 가져오기\n"
   ]
  },
  {
   "cell_type": "code",
   "execution_count": 2,
   "id": "27324a4c",
   "metadata": {},
   "outputs": [],
   "source": [
    "from langchain_community.document_loaders import TextLoader"
   ]
  },
  {
   "cell_type": "code",
   "execution_count": 13,
   "id": "26dd66f6",
   "metadata": {},
   "outputs": [
    {
     "name": "stdout",
     "output_type": "stream",
     "text": [
      "<class 'list'>\n",
      "<class 'langchain_core.documents.base.Document'>\n",
      "1\n"
     ]
    }
   ],
   "source": [
    "loader = TextLoader('history.txt')\n",
    "data = loader.load()\n",
    "\n",
    "print(type(data))\n",
    "\n",
    "if isinstance(data, list): print(type(data[0]))\n",
    "# <class 'langchain_core.documents.base.Document'>\n",
    "print(len(data))"
   ]
  },
  {
   "cell_type": "code",
   "execution_count": null,
   "id": "8cfe54e0",
   "metadata": {},
   "outputs": [
    {
     "name": "stdout",
     "output_type": "stream",
     "text": [
      "1236 <class 'str'>\n",
      "\n",
      "한국의 역사는 수천 년에 걸쳐 이어져 온 긴 여정 속에서 다양한 문화와 전통이 형성되고 \n"
     ]
    }
   ],
   "source": [
    "# 문서 정보 확인하기\n",
    "\n",
    "d = data[0]\n",
    "print(len(d.page_content), type(d.page_content))\n",
    "print(d.page_content[:50])"
   ]
  },
  {
   "cell_type": "code",
   "execution_count": null,
   "id": "c4921ca9",
   "metadata": {},
   "outputs": [
    {
     "data": {
      "text/plain": [
       "{'source': 'history.txt'}"
      ]
     },
     "execution_count": 15,
     "metadata": {},
     "output_type": "execute_result"
    }
   ],
   "source": [
    "# 메타데이터 정보\n",
    "\n",
    "d.metadata"
   ]
  },
  {
   "cell_type": "markdown",
   "id": "da6777ac",
   "metadata": {},
   "source": [
    "### DirectoryLoader 이용하여 특정 폴더의 모든 파일을 가져오기"
   ]
  },
  {
   "cell_type": "code",
   "execution_count": null,
   "id": "b61471cf",
   "metadata": {},
   "outputs": [],
   "source": [
    "# TODO"
   ]
  },
  {
   "cell_type": "markdown",
   "id": "6aadf623",
   "metadata": {},
   "source": [
    "### CSVLoader 이용하여 CSV 파일 데이터 가져오기\n"
   ]
  },
  {
   "cell_type": "code",
   "execution_count": null,
   "id": "44045fff",
   "metadata": {},
   "outputs": [],
   "source": [
    "# TODO"
   ]
  },
  {
   "cell_type": "markdown",
   "id": "8288a883",
   "metadata": {},
   "source": [
    "### PyPDFLoader 이용하여 PDF 파일 데이터 가져오기\n"
   ]
  }
 ],
 "metadata": {
  "kernelspec": {
   "display_name": "ml_langchain",
   "language": "python",
   "name": "python3"
  },
  "language_info": {
   "codemirror_mode": {
    "name": "ipython",
    "version": 3
   },
   "file_extension": ".py",
   "mimetype": "text/x-python",
   "name": "python",
   "nbconvert_exporter": "python",
   "pygments_lexer": "ipython3",
   "version": "3.9.22"
  }
 },
 "nbformat": 4,
 "nbformat_minor": 5
}
