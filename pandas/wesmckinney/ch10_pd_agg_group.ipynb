{
 "cells": [
  {
   "cell_type": "markdown",
   "id": "d7ead2d8",
   "metadata": {},
   "source": [
    "# 10 데이터 집계 및 그룹 작업\n"
   ]
  },
  {
   "cell_type": "code",
   "execution_count": 1,
   "id": "8de03b10",
   "metadata": {},
   "outputs": [],
   "source": [
    "!pip install -Uqq numpy pandas"
   ]
  },
  {
   "cell_type": "markdown",
   "id": "75caf019",
   "metadata": {},
   "source": [
    "## 10.1 그룹 운영에 대한 생각\n",
    "\n",
    "### 그룹 반복\n",
    "### 열 또는 열 하위 집합 선택\n",
    "### 사전 및 시리즈를 사용한 그룹화\n",
    "### 함수를 사용한 그룹화\n",
    "### 인덱스 수준별 그룹화\n"
   ]
  },
  {
   "cell_type": "markdown",
   "id": "9dfe0fd7",
   "metadata": {},
   "source": [
    "\n",
    "## 10.2 데이터 집계\n"
   ]
  },
  {
   "cell_type": "markdown",
   "id": "a7ada4f5",
   "metadata": {},
   "source": [
    "\n",
    "## 10.3 적용: 일반 분할-적용-결합\n"
   ]
  },
  {
   "cell_type": "markdown",
   "id": "d14b1fa2",
   "metadata": {},
   "source": [
    "\n",
    "## 10.4 그룹 변환 및 \"풀린\" 그룹화\n"
   ]
  },
  {
   "cell_type": "markdown",
   "id": "6cd35568",
   "metadata": {},
   "source": [
    "\n",
    "## 10.5 피벗 테이블 및 교차 분석\n"
   ]
  }
 ],
 "metadata": {
  "kernelspec": {
   "display_name": "ml_torch",
   "language": "python",
   "name": "python3"
  },
  "language_info": {
   "codemirror_mode": {
    "name": "ipython",
    "version": 3
   },
   "file_extension": ".py",
   "mimetype": "text/x-python",
   "name": "python",
   "nbconvert_exporter": "python",
   "pygments_lexer": "ipython3",
   "version": "3.9.21"
  }
 },
 "nbformat": 4,
 "nbformat_minor": 5
}
