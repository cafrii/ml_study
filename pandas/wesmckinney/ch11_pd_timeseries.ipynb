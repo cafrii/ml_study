{
 "cells": [
  {
   "cell_type": "markdown",
   "id": "6622a814",
   "metadata": {},
   "source": [
    "# 8장, 시계열\n",
    "\n",
    "https://wesmckinney.com/book/time-series"
   ]
  },
  {
   "cell_type": "code",
   "execution_count": 1,
   "id": "f74f2804",
   "metadata": {},
   "outputs": [],
   "source": [
    "!pip install -Uqq numpy pandas"
   ]
  },
  {
   "cell_type": "code",
   "execution_count": 2,
   "id": "0c5b5d77",
   "metadata": {},
   "outputs": [],
   "source": [
    "import numpy as np\n",
    "import pandas as pd"
   ]
  },
  {
   "cell_type": "markdown",
   "id": "30a06773",
   "metadata": {},
   "source": [
    "판다스는 다양한 내장 시계열 도구와 알고리즘을 제공합니다. \n",
    "\n",
    "대용량 시계열을 효율적으로 처리하고, 불규칙 및 고정 빈도 시계열을 쪼개고 분석하고, 집계하고, 재샘플링할 수 있습니다. \n",
    "\n",
    "이러한 도구 중 일부는 금융 및 경제 애플리케이션에 유용하지만, **서버 로그 데이터 분석**에도 사용할 수 있습니다."
   ]
  },
  {
   "cell_type": "markdown",
   "id": "f54f8595",
   "metadata": {},
   "source": [
    "## 11.1 날짜 및 시간 데이터 유형과 도구\n",
    "\n",
    "datetime, time, calendar 모듈이 주요 시작점입니다. \n",
    "\n",
    "datetime.datetime 유형, 또는 간단히 datetime이 널리 사용됩니다."
   ]
  },
  {
   "cell_type": "code",
   "execution_count": null,
   "id": "6a3550a8",
   "metadata": {},
   "outputs": [
    {
     "name": "stdout",
     "output_type": "stream",
     "text": [
      "2025-05-06 22:25:23.975159\n"
     ]
    },
    {
     "data": {
      "text/plain": [
       "(2025, 5, 6)"
      ]
     },
     "execution_count": 10,
     "metadata": {},
     "output_type": "execute_result"
    }
   ],
   "source": [
    "from datetime import datetime\n",
    "\n",
    "now = datetime.now()\n",
    "# now\n",
    "# datetime.datetime(2025, 5, 6, 22, 24, 9, 469496)\n",
    "print(now)\n",
    "# 2025-05-06 22:24:41.878510\n",
    "\n",
    "now.year, now.month, now.day\n",
    "# (2025, 5, 6)"
   ]
  },
  {
   "cell_type": "code",
   "execution_count": 11,
   "id": "718a7d51",
   "metadata": {},
   "outputs": [
    {
     "data": {
      "text/plain": [
       "datetime.timedelta(days=926, seconds=56700)"
      ]
     },
     "execution_count": 11,
     "metadata": {},
     "output_type": "execute_result"
    }
   ],
   "source": [
    "# 마이크로 초 까지 저장\n",
    "\n",
    "# 두 시간 객체 간의 시간적 차이 계산.\n",
    "delta = datetime(2011, 1, 7) - datetime(2008, 6, 24, 8, 15)\n",
    "\n",
    "delta\n",
    "# datetime.timedelta(days=926, seconds=56700)"
   ]
  },
  {
   "cell_type": "code",
   "execution_count": null,
   "id": "d8a34ac1",
   "metadata": {},
   "outputs": [
    {
     "data": {
      "text/plain": [
       "(926, 56700)"
      ]
     },
     "execution_count": 12,
     "metadata": {},
     "output_type": "execute_result"
    }
   ],
   "source": [
    "delta.days, delta.seconds\n",
    "# (926, 56700)"
   ]
  },
  {
   "cell_type": "code",
   "execution_count": null,
   "id": "d8902a3f",
   "metadata": {},
   "outputs": [
    {
     "name": "stdout",
     "output_type": "stream",
     "text": [
      "2011-01-19 00:00:00\n"
     ]
    },
    {
     "data": {
      "text/plain": [
       "datetime.datetime(2010, 12, 14, 0, 0)"
      ]
     },
     "execution_count": 14,
     "metadata": {},
     "output_type": "execute_result"
    }
   ],
   "source": [
    "from datetime import timedelta\n",
    "\n",
    "start = datetime(2011, 1, 7)\n",
    "\n",
    "print(start + timedelta(12))\n",
    "# 2011-01-19 00:00:00\n",
    "# datetime.datetime(2011, 1, 19, 0, 0)\n",
    "\n",
    "start - 2 * timedelta(12)\n",
    "# datetime.datetime(2010, 12, 14, 0, 0)"
   ]
  },
  {
   "cell_type": "markdown",
   "id": "b0c14936",
   "metadata": {},
   "source": [
    "## 문자열과 날짜/시간 간 변환\n",
    "\n",
    "https://docs.python.org/ko/3.13/library/datetime.html#strftime-and-strptime-behavior\n",
    "\n",
    "파이썬 datetime 과 문자열 간의 변환 방법"
   ]
  },
  {
   "cell_type": "code",
   "execution_count": 17,
   "id": "d1441d93",
   "metadata": {},
   "outputs": [
    {
     "name": "stdout",
     "output_type": "stream",
     "text": [
      "2011-01-03 00:00:00\n",
      "2011, 01/03\n"
     ]
    }
   ],
   "source": [
    "# datetime 객체 생성.\n",
    "stamp = datetime(2011, 1, 3)\n",
    "\n",
    "# datetime 객체를 문자열로.\n",
    "print(str(stamp))\n",
    "# '2011-01-03 00:00:00' # 지정하지 않은 시분초 파트는 0으로 초기화 됨.\n",
    "\n",
    "# datetime 객체를 formatted 문자열로.\n",
    "print(stamp.strftime(\"%Y, %m/%d\"))\n",
    "# 2011, 01/03\n"
   ]
  },
  {
   "cell_type": "code",
   "execution_count": 20,
   "id": "9ffeecc6",
   "metadata": {},
   "outputs": [
    {
     "name": "stdout",
     "output_type": "stream",
     "text": [
      "%F 2011-01-03\n",
      "%Y 2011\n",
      "%y 11\n",
      "%m 01\n",
      "%d 03\n",
      "%H 13\n",
      "%I 01\n",
      "%M 09\n",
      "%S 16\n",
      "%f 484500\n",
      "%j 003\n",
      "%w 1\n",
      "%u 1\n",
      "%U 01\n",
      "%z \n",
      "%Z \n",
      "%D 01/03/11\n"
     ]
    }
   ],
   "source": [
    "stamp = datetime(2011, 1, 3, 13, 9, 16, 484500)\n",
    "formats = [\n",
    "    '%F',  # %Y-%m-%d\n",
    "    '%Y', '%y',  # year\n",
    "    '%m', '%d',  # month, day\n",
    "    '%H', '%I', '%M', '%S', # hour-24, hour-12, minute, second\n",
    "    '%f',  # microsecond\n",
    "    '%j',  # day of year 001~366\n",
    "    '%w', '%u', # weekday (from 0-sunday, from 1-monday)\n",
    "    '%U',  # weeknum\n",
    "    '%z', '%Z', # timezone (offset, name)\n",
    "    '%D',  # %m/%d/%y\n",
    "    ]\n",
    "for fmt in formats:\n",
    "    print(fmt, stamp.strftime(fmt))"
   ]
  },
  {
   "cell_type": "code",
   "execution_count": null,
   "id": "602fa6b6",
   "metadata": {},
   "outputs": [
    {
     "name": "stdout",
     "output_type": "stream",
     "text": [
      "2011-01-03 00:00:00\n"
     ]
    },
    {
     "data": {
      "text/plain": [
       "[datetime.datetime(2011, 7, 6, 0, 0), datetime.datetime(2011, 8, 6, 0, 0)]"
      ]
     },
     "execution_count": 22,
     "metadata": {},
     "output_type": "execute_result"
    }
   ],
   "source": [
    "# 문자열 -> datetime 변환\n",
    "value = \"2011-01-03\"\n",
    "\n",
    "print(datetime.strptime(value, \"%Y-%m-%d\"))\n",
    "# datetime.datetime(2011, 1, 3, 0, 0)\n",
    "# 2011-01-03 00:00:00\n",
    "\n",
    "datestrs = [\"7/6/2011\", \"8/6/2011\"]\n",
    "\n",
    "[datetime.strptime(x, \"%m/%d/%Y\") for x in datestrs]\n",
    "# [datetime.datetime(2011, 7, 6, 0, 0),\n",
    "#  datetime.datetime(2011, 8, 6, 0, 0)]"
   ]
  },
  {
   "cell_type": "code",
   "execution_count": 23,
   "id": "6c0ed3b4",
   "metadata": {},
   "outputs": [
    {
     "name": "stdout",
     "output_type": "stream",
     "text": [
      "<class 'pandas.core.indexes.datetimes.DatetimeIndex'>\n"
     ]
    },
    {
     "data": {
      "text/plain": [
       "DatetimeIndex(['2011-07-06 12:00:00', '2011-08-06 00:00:00'], dtype='datetime64[ns]', freq=None)"
      ]
     },
     "execution_count": 23,
     "metadata": {},
     "output_type": "execute_result"
    }
   ],
   "source": [
    "datestrs = [\"2011-07-06 12:00:00\", \"2011-08-06 00:00:00\"]\n",
    "\n",
    "z = pd.to_datetime(datestrs)\n",
    "print(type(z))\n",
    "z\n",
    "# DatetimeIndex(['2011-07-06 12:00:00', '2011-08-06 00:00:00'], dtype='datetime64[ns]', freq=None)"
   ]
  },
  {
   "cell_type": "markdown",
   "id": "aa26bff0",
   "metadata": {},
   "source": [
    "## 11.2 시계열 기본 사항\n",
    "## 11.3 날짜 범위, 빈도 및 이동\n",
    "## 11.4 시간대 처리\n",
    "## 11.5 주기 및 주기 산술\n",
    "## 11.6 리샘플링 및 주파수 변환\n",
    "## 11.7 이동 창 함수"
   ]
  }
 ],
 "metadata": {
  "kernelspec": {
   "display_name": "ml_torch",
   "language": "python",
   "name": "python3"
  },
  "language_info": {
   "codemirror_mode": {
    "name": "ipython",
    "version": 3
   },
   "file_extension": ".py",
   "mimetype": "text/x-python",
   "name": "python",
   "nbconvert_exporter": "python",
   "pygments_lexer": "ipython3",
   "version": "3.9.21"
  }
 },
 "nbformat": 4,
 "nbformat_minor": 5
}
