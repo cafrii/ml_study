{
 "cells": [
  {
   "cell_type": "markdown",
   "id": "ef7175f8",
   "metadata": {},
   "source": [
    "# 7장, 데이터 정리 (cleaning)"
   ]
  },
  {
   "cell_type": "code",
   "execution_count": 1,
   "id": "fbe72c31",
   "metadata": {},
   "outputs": [],
   "source": [
    "!pip install -Uqq numpy pandas"
   ]
  },
  {
   "cell_type": "code",
   "execution_count": 2,
   "id": "8e215906",
   "metadata": {},
   "outputs": [],
   "source": [
    "import numpy as np\n",
    "import pandas as pd"
   ]
  },
  {
   "cell_type": "markdown",
   "id": "2e1d1b34",
   "metadata": {},
   "source": [
    "## 7.1 누락된 데이터 처리\n",
    "\n",
    "누락된 데이터 필터링\n",
    "누락된 데이터 채우기\n",
    "\n"
   ]
  },
  {
   "cell_type": "markdown",
   "id": "97ceb399",
   "metadata": {},
   "source": [
    "## 7.2 데이터 변환\n",
    "\n",
    "### 중복 제거\n",
    "### 함수 또는 매핑을 사용하여 데이터 변환\n",
    "### 값 바꾸기\n",
    "### 축 인덱스 이름 바꾸기\n",
    "### 이산화 및 비닝\n",
    "### 이상치 감지 및 필터링\n"
   ]
  },
  {
   "cell_type": "markdown",
   "id": "91726614",
   "metadata": {},
   "source": [
    "### 순열 및 무작위 샘플링\n"
   ]
  },
  {
   "cell_type": "code",
   "execution_count": 3,
   "id": "2ece2f8d",
   "metadata": {},
   "outputs": [
    {
     "data": {
      "text/html": [
       "<div>\n",
       "<style scoped>\n",
       "    .dataframe tbody tr th:only-of-type {\n",
       "        vertical-align: middle;\n",
       "    }\n",
       "\n",
       "    .dataframe tbody tr th {\n",
       "        vertical-align: top;\n",
       "    }\n",
       "\n",
       "    .dataframe thead th {\n",
       "        text-align: right;\n",
       "    }\n",
       "</style>\n",
       "<table border=\"1\" class=\"dataframe\">\n",
       "  <thead>\n",
       "    <tr style=\"text-align: right;\">\n",
       "      <th></th>\n",
       "      <th>0</th>\n",
       "      <th>1</th>\n",
       "      <th>2</th>\n",
       "      <th>3</th>\n",
       "      <th>4</th>\n",
       "      <th>5</th>\n",
       "      <th>6</th>\n",
       "    </tr>\n",
       "  </thead>\n",
       "  <tbody>\n",
       "    <tr>\n",
       "      <th>0</th>\n",
       "      <td>0</td>\n",
       "      <td>1</td>\n",
       "      <td>2</td>\n",
       "      <td>3</td>\n",
       "      <td>4</td>\n",
       "      <td>5</td>\n",
       "      <td>6</td>\n",
       "    </tr>\n",
       "    <tr>\n",
       "      <th>1</th>\n",
       "      <td>7</td>\n",
       "      <td>8</td>\n",
       "      <td>9</td>\n",
       "      <td>10</td>\n",
       "      <td>11</td>\n",
       "      <td>12</td>\n",
       "      <td>13</td>\n",
       "    </tr>\n",
       "    <tr>\n",
       "      <th>2</th>\n",
       "      <td>14</td>\n",
       "      <td>15</td>\n",
       "      <td>16</td>\n",
       "      <td>17</td>\n",
       "      <td>18</td>\n",
       "      <td>19</td>\n",
       "      <td>20</td>\n",
       "    </tr>\n",
       "    <tr>\n",
       "      <th>3</th>\n",
       "      <td>21</td>\n",
       "      <td>22</td>\n",
       "      <td>23</td>\n",
       "      <td>24</td>\n",
       "      <td>25</td>\n",
       "      <td>26</td>\n",
       "      <td>27</td>\n",
       "    </tr>\n",
       "    <tr>\n",
       "      <th>4</th>\n",
       "      <td>28</td>\n",
       "      <td>29</td>\n",
       "      <td>30</td>\n",
       "      <td>31</td>\n",
       "      <td>32</td>\n",
       "      <td>33</td>\n",
       "      <td>34</td>\n",
       "    </tr>\n",
       "  </tbody>\n",
       "</table>\n",
       "</div>"
      ],
      "text/plain": [
       "    0   1   2   3   4   5   6\n",
       "0   0   1   2   3   4   5   6\n",
       "1   7   8   9  10  11  12  13\n",
       "2  14  15  16  17  18  19  20\n",
       "3  21  22  23  24  25  26  27\n",
       "4  28  29  30  31  32  33  34"
      ]
     },
     "execution_count": 3,
     "metadata": {},
     "output_type": "execute_result"
    }
   ],
   "source": [
    "df = pd.DataFrame(np.arange(5 * 7).reshape((5, 7)))\n",
    "df"
   ]
  },
  {
   "cell_type": "markdown",
   "id": "822222e1",
   "metadata": {},
   "source": [
    "### 지표/더미 변수 계산\n"
   ]
  },
  {
   "cell_type": "markdown",
   "id": "ffdc562a",
   "metadata": {},
   "source": [
    "\n",
    "## 7.3 확장 데이터 유형\n",
    "\n",
    "\n"
   ]
  },
  {
   "cell_type": "markdown",
   "id": "d5ec4acc",
   "metadata": {},
   "source": [
    "## 7.4 문자열 조작\n",
    "\n",
    "Python 내장 문자열 객체 메서드\n",
    "정규 표현식\n",
    "판다스의 문자열 함수\n",
    "\n"
   ]
  },
  {
   "cell_type": "markdown",
   "id": "763dfaf6",
   "metadata": {},
   "source": [
    "## 7.5 범주형 데이터\n",
    "\n",
    "배경 및 동기\n",
    "판다스의 범주형 확장 유형\n",
    "범주형을 사용한 계산\n",
    "범주형 방법"
   ]
  }
 ],
 "metadata": {
  "kernelspec": {
   "display_name": "ml_torch",
   "language": "python",
   "name": "python3"
  },
  "language_info": {
   "codemirror_mode": {
    "name": "ipython",
    "version": 3
   },
   "file_extension": ".py",
   "mimetype": "text/x-python",
   "name": "python",
   "nbconvert_exporter": "python",
   "pygments_lexer": "ipython3",
   "version": "3.9.21"
  }
 },
 "nbformat": 4,
 "nbformat_minor": 5
}
