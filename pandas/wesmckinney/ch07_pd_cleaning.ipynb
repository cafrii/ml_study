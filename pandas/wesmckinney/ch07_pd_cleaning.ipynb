{
 "cells": [
  {
   "cell_type": "markdown",
   "id": "ef7175f8",
   "metadata": {},
   "source": [
    "# 7장, 데이터 정리 (cleaning)"
   ]
  },
  {
   "cell_type": "code",
   "execution_count": 2,
   "id": "fbe72c31",
   "metadata": {},
   "outputs": [],
   "source": [
    "!pip install -Uqq numpy pandas"
   ]
  },
  {
   "cell_type": "code",
   "execution_count": 3,
   "id": "8e215906",
   "metadata": {},
   "outputs": [],
   "source": [
    "import numpy as np\n",
    "import pandas as pd"
   ]
  },
  {
   "cell_type": "markdown",
   "id": "2e1d1b34",
   "metadata": {},
   "source": [
    "## 7.1 누락된 데이터 처리\n",
    "\n",
    "누락된 데이터 필터링\n",
    "누락된 데이터 채우기\n",
    "\n"
   ]
  },
  {
   "cell_type": "markdown",
   "id": "97ceb399",
   "metadata": {},
   "source": [
    "## 7.2 데이터 변환\n",
    "\n",
    "### 중복 제거\n",
    "### 함수 또는 매핑을 사용하여 데이터 변환\n",
    "### 값 바꾸기\n",
    "### 축 인덱스 이름 바꾸기\n",
    "### 이산화 및 비닝\n",
    "### 이상치 감지 및 필터링\n"
   ]
  },
  {
   "cell_type": "markdown",
   "id": "91726614",
   "metadata": {},
   "source": [
    "### 순열 및 무작위 샘플링\n"
   ]
  },
  {
   "cell_type": "code",
   "execution_count": 3,
   "id": "2ece2f8d",
   "metadata": {},
   "outputs": [
    {
     "data": {
      "text/html": [
       "<div>\n",
       "<style scoped>\n",
       "    .dataframe tbody tr th:only-of-type {\n",
       "        vertical-align: middle;\n",
       "    }\n",
       "\n",
       "    .dataframe tbody tr th {\n",
       "        vertical-align: top;\n",
       "    }\n",
       "\n",
       "    .dataframe thead th {\n",
       "        text-align: right;\n",
       "    }\n",
       "</style>\n",
       "<table border=\"1\" class=\"dataframe\">\n",
       "  <thead>\n",
       "    <tr style=\"text-align: right;\">\n",
       "      <th></th>\n",
       "      <th>0</th>\n",
       "      <th>1</th>\n",
       "      <th>2</th>\n",
       "      <th>3</th>\n",
       "      <th>4</th>\n",
       "      <th>5</th>\n",
       "      <th>6</th>\n",
       "    </tr>\n",
       "  </thead>\n",
       "  <tbody>\n",
       "    <tr>\n",
       "      <th>0</th>\n",
       "      <td>0</td>\n",
       "      <td>1</td>\n",
       "      <td>2</td>\n",
       "      <td>3</td>\n",
       "      <td>4</td>\n",
       "      <td>5</td>\n",
       "      <td>6</td>\n",
       "    </tr>\n",
       "    <tr>\n",
       "      <th>1</th>\n",
       "      <td>7</td>\n",
       "      <td>8</td>\n",
       "      <td>9</td>\n",
       "      <td>10</td>\n",
       "      <td>11</td>\n",
       "      <td>12</td>\n",
       "      <td>13</td>\n",
       "    </tr>\n",
       "    <tr>\n",
       "      <th>2</th>\n",
       "      <td>14</td>\n",
       "      <td>15</td>\n",
       "      <td>16</td>\n",
       "      <td>17</td>\n",
       "      <td>18</td>\n",
       "      <td>19</td>\n",
       "      <td>20</td>\n",
       "    </tr>\n",
       "    <tr>\n",
       "      <th>3</th>\n",
       "      <td>21</td>\n",
       "      <td>22</td>\n",
       "      <td>23</td>\n",
       "      <td>24</td>\n",
       "      <td>25</td>\n",
       "      <td>26</td>\n",
       "      <td>27</td>\n",
       "    </tr>\n",
       "    <tr>\n",
       "      <th>4</th>\n",
       "      <td>28</td>\n",
       "      <td>29</td>\n",
       "      <td>30</td>\n",
       "      <td>31</td>\n",
       "      <td>32</td>\n",
       "      <td>33</td>\n",
       "      <td>34</td>\n",
       "    </tr>\n",
       "  </tbody>\n",
       "</table>\n",
       "</div>"
      ],
      "text/plain": [
       "    0   1   2   3   4   5   6\n",
       "0   0   1   2   3   4   5   6\n",
       "1   7   8   9  10  11  12  13\n",
       "2  14  15  16  17  18  19  20\n",
       "3  21  22  23  24  25  26  27\n",
       "4  28  29  30  31  32  33  34"
      ]
     },
     "execution_count": 3,
     "metadata": {},
     "output_type": "execute_result"
    }
   ],
   "source": [
    "df = pd.DataFrame(np.arange(5 * 7).reshape((5, 7)))\n",
    "df"
   ]
  },
  {
   "cell_type": "markdown",
   "id": "822222e1",
   "metadata": {},
   "source": [
    "### 지표/더미 변수 계산\n"
   ]
  },
  {
   "cell_type": "markdown",
   "id": "ffdc562a",
   "metadata": {},
   "source": [
    "\n",
    "## 7.3 확장 데이터 유형\n",
    "\n",
    "\n"
   ]
  },
  {
   "cell_type": "markdown",
   "id": "d5ec4acc",
   "metadata": {},
   "source": [
    "## 7.4 문자열 조작\n",
    "\n",
    "Python 내장 문자열 객체 메서드\n",
    "정규 표현식\n",
    "판다스의 문자열 함수\n",
    "\n"
   ]
  },
  {
   "cell_type": "markdown",
   "id": "763dfaf6",
   "metadata": {},
   "source": [
    "## 7.5 범주형 데이터\n",
    "\n",
    "### 배경 및 동기"
   ]
  },
  {
   "cell_type": "code",
   "execution_count": null,
   "id": "c4667c13",
   "metadata": {},
   "outputs": [
    {
     "data": {
      "text/plain": [
       "0     apple\n",
       "1    orange\n",
       "2     apple\n",
       "3     apple\n",
       "4     apple\n",
       "5    orange\n",
       "6     apple\n",
       "7     apple\n",
       "dtype: object"
      ]
     },
     "execution_count": 9,
     "metadata": {},
     "output_type": "execute_result"
    }
   ],
   "source": [
    "fruits = pd.Series(['apple', 'orange', 'apple', 'apple'] * 2)\n",
    "fruits\n",
    "\n",
    "# 숫자가 아니라면 타입은 모두 object 이다.  dtype=object"
   ]
  },
  {
   "cell_type": "code",
   "execution_count": null,
   "id": "a8f358f7",
   "metadata": {},
   "outputs": [
    {
     "data": {
      "text/plain": [
       "array(['apple', 'orange'], dtype=object)"
      ]
     },
     "execution_count": 6,
     "metadata": {},
     "output_type": "execute_result"
    }
   ],
   "source": [
    "pd.unique(fruits)"
   ]
  },
  {
   "cell_type": "code",
   "execution_count": 10,
   "id": "bbd04a22",
   "metadata": {},
   "outputs": [
    {
     "data": {
      "text/plain": [
       "apple     6\n",
       "orange    2\n",
       "Name: count, dtype: int64"
      ]
     },
     "execution_count": 10,
     "metadata": {},
     "output_type": "execute_result"
    }
   ],
   "source": [
    "#pd.value_counts(fruits) # deprecated\n",
    "fruits.value_counts()"
   ]
  },
  {
   "cell_type": "markdown",
   "id": "f3ec01a1",
   "metadata": {},
   "source": [
    "### 판다스의 범주형 확장 유형"
   ]
  },
  {
   "cell_type": "code",
   "execution_count": 28,
   "id": "c013bf09",
   "metadata": {},
   "outputs": [
    {
     "name": "stdout",
     "output_type": "stream",
     "text": [
      "8\n",
      "Generator(PCG64)\n"
     ]
    },
    {
     "data": {
      "text/html": [
       "<div>\n",
       "<style scoped>\n",
       "    .dataframe tbody tr th:only-of-type {\n",
       "        vertical-align: middle;\n",
       "    }\n",
       "\n",
       "    .dataframe tbody tr th {\n",
       "        vertical-align: top;\n",
       "    }\n",
       "\n",
       "    .dataframe thead th {\n",
       "        text-align: right;\n",
       "    }\n",
       "</style>\n",
       "<table border=\"1\" class=\"dataframe\">\n",
       "  <thead>\n",
       "    <tr style=\"text-align: right;\">\n",
       "      <th></th>\n",
       "      <th>basket_id</th>\n",
       "      <th>fruit</th>\n",
       "      <th>count</th>\n",
       "      <th>weight</th>\n",
       "    </tr>\n",
       "  </thead>\n",
       "  <tbody>\n",
       "    <tr>\n",
       "      <th>0</th>\n",
       "      <td>0</td>\n",
       "      <td>apple</td>\n",
       "      <td>11</td>\n",
       "      <td>1.564438</td>\n",
       "    </tr>\n",
       "    <tr>\n",
       "      <th>1</th>\n",
       "      <td>1</td>\n",
       "      <td>orange</td>\n",
       "      <td>5</td>\n",
       "      <td>1.331256</td>\n",
       "    </tr>\n",
       "    <tr>\n",
       "      <th>2</th>\n",
       "      <td>2</td>\n",
       "      <td>apple</td>\n",
       "      <td>12</td>\n",
       "      <td>2.393235</td>\n",
       "    </tr>\n",
       "    <tr>\n",
       "      <th>3</th>\n",
       "      <td>3</td>\n",
       "      <td>apple</td>\n",
       "      <td>6</td>\n",
       "      <td>0.746937</td>\n",
       "    </tr>\n",
       "    <tr>\n",
       "      <th>4</th>\n",
       "      <td>4</td>\n",
       "      <td>apple</td>\n",
       "      <td>5</td>\n",
       "      <td>2.691024</td>\n",
       "    </tr>\n",
       "    <tr>\n",
       "      <th>5</th>\n",
       "      <td>5</td>\n",
       "      <td>orange</td>\n",
       "      <td>12</td>\n",
       "      <td>3.767211</td>\n",
       "    </tr>\n",
       "    <tr>\n",
       "      <th>6</th>\n",
       "      <td>6</td>\n",
       "      <td>apple</td>\n",
       "      <td>10</td>\n",
       "      <td>0.992983</td>\n",
       "    </tr>\n",
       "    <tr>\n",
       "      <th>7</th>\n",
       "      <td>7</td>\n",
       "      <td>apple</td>\n",
       "      <td>11</td>\n",
       "      <td>3.795525</td>\n",
       "    </tr>\n",
       "  </tbody>\n",
       "</table>\n",
       "</div>"
      ],
      "text/plain": [
       "   basket_id   fruit  count    weight\n",
       "0          0   apple     11  1.564438\n",
       "1          1  orange      5  1.331256\n",
       "2          2   apple     12  2.393235\n",
       "3          3   apple      6  0.746937\n",
       "4          4   apple      5  2.691024\n",
       "5          5  orange     12  3.767211\n",
       "6          6   apple     10  0.992983\n",
       "7          7   apple     11  3.795525"
      ]
     },
     "execution_count": 28,
     "metadata": {},
     "output_type": "execute_result"
    }
   ],
   "source": [
    "N = len(fruits)\n",
    "print(N)\n",
    "\n",
    "rng = np.random.default_rng(seed=12345)\n",
    "print(rng)\n",
    "\n",
    "df = pd.DataFrame({'fruit': fruits,\n",
    "                   'basket_id': np.arange(N),\n",
    "                   'count': rng.integers(3, 15, size=N),\n",
    "                   'weight': rng.uniform(0, 4, size=N)},\n",
    "                  columns=['basket_id', 'fruit', 'count', 'weight'])\n",
    "df"
   ]
  },
  {
   "cell_type": "code",
   "execution_count": 38,
   "id": "225637ed",
   "metadata": {},
   "outputs": [
    {
     "name": "stdout",
     "output_type": "stream",
     "text": [
      "0     apple\n",
      "1    orange\n",
      "2     apple\n",
      "3     apple\n",
      "4     apple\n",
      "5    orange\n",
      "6     apple\n",
      "7     apple\n",
      "Name: fruit, dtype: object\n",
      "object\n"
     ]
    },
    {
     "data": {
      "text/plain": [
       "dtype('O')"
      ]
     },
     "execution_count": 38,
     "metadata": {},
     "output_type": "execute_result"
    }
   ],
   "source": [
    "print(df['fruit'])\n",
    "\n",
    "# 이 Series 의 타입을 굳이 얘기하자면 여전히 object 이다.\n",
    "# Name: fruit, dtype: object\n",
    "\n",
    "print(df.fruit.dtype) # object\n",
    "df['fruit'].dtype # dtype('O')  # 아마도 Object 를 의미하는 게 아닐까.."
   ]
  },
  {
   "cell_type": "code",
   "execution_count": 37,
   "id": "bb03c81f",
   "metadata": {},
   "outputs": [
    {
     "data": {
      "text/plain": [
       "count         8\n",
       "unique        2\n",
       "top       apple\n",
       "freq          6\n",
       "Name: fruit, dtype: object"
      ]
     },
     "execution_count": 37,
     "metadata": {},
     "output_type": "execute_result"
    }
   ],
   "source": [
    "df['fruit'].describe()"
   ]
  },
  {
   "cell_type": "code",
   "execution_count": null,
   "id": "cf60c6d6",
   "metadata": {},
   "outputs": [
    {
     "name": "stdout",
     "output_type": "stream",
     "text": [
      "<class 'pandas.core.arrays.numpy_.NumpyExtensionArray'>\n"
     ]
    },
    {
     "data": {
      "text/plain": [
       "<NumpyExtensionArray>\n",
       "['apple', 'orange', 'apple', 'apple', 'apple', 'orange', 'apple', 'apple']\n",
       "Length: 8, dtype: object"
      ]
     },
     "execution_count": 40,
     "metadata": {},
     "output_type": "execute_result"
    }
   ],
   "source": [
    "print(type(df.fruit.array)) # ... NumpyExtensionArray\n",
    "df.fruit.array"
   ]
  },
  {
   "cell_type": "code",
   "execution_count": null,
   "id": "fe4650d9",
   "metadata": {},
   "outputs": [
    {
     "name": "stdout",
     "output_type": "stream",
     "text": [
      "<class 'pandas.core.series.Series'>\n"
     ]
    },
    {
     "data": {
      "text/plain": [
       "0     apple\n",
       "1    orange\n",
       "2     apple\n",
       "3     apple\n",
       "4     apple\n",
       "5    orange\n",
       "6     apple\n",
       "7     apple\n",
       "Name: fruit, dtype: category\n",
       "Categories (2, object): ['apple', 'orange']"
      ]
     },
     "execution_count": 14,
     "metadata": {},
     "output_type": "execute_result"
    }
   ],
   "source": [
    "# astype() 은 지정한 타입으로 변환하는 일종의 캐스팅 이다.\n",
    "\n",
    "fruit_cat = df['fruit'].astype('category')\n",
    "\n",
    "print(type(fruit_cat)) # pd.Series\n",
    "fruit_cat\n",
    "# 맨 아래 라인에, 타입을 보여준다. 즉, 타입이 바뀌었음을 확인할 수 있다.\n",
    "# Name: fruit, dtype: category"
   ]
  },
  {
   "cell_type": "code",
   "execution_count": 41,
   "id": "47c14d50",
   "metadata": {},
   "outputs": [
    {
     "name": "stdout",
     "output_type": "stream",
     "text": [
      "<class 'pandas.core.arrays.categorical.Categorical'>\n"
     ]
    },
    {
     "data": {
      "text/plain": [
       "['apple', 'orange', 'apple', 'apple', 'apple', 'orange', 'apple', 'apple']\n",
       "Categories (2, object): ['apple', 'orange']"
      ]
     },
     "execution_count": 41,
     "metadata": {},
     "output_type": "execute_result"
    }
   ],
   "source": [
    "c = fruit_cat.array\n",
    "print(type(c))  # pandas.core.arrays.categorical.Categorical\n",
    "c\n",
    "\n",
    "# 원래는 NumpyExtension 뭐 이런 클래스였는데, Categorical 로 바뀌었음."
   ]
  },
  {
   "cell_type": "code",
   "execution_count": null,
   "id": "029628bc",
   "metadata": {},
   "outputs": [
    {
     "name": "stdout",
     "output_type": "stream",
     "text": [
      "<class 'pandas.core.indexes.base.Index'>\n"
     ]
    },
    {
     "data": {
      "text/plain": [
       "Index(['apple', 'orange'], dtype='object')"
      ]
     },
     "execution_count": 23,
     "metadata": {},
     "output_type": "execute_result"
    }
   ],
   "source": [
    "# 두 개의 중요한 속성: categories 와 codes\n",
    "\n",
    "print(type(c.categories))  # pandas.core.indexes.base.Index\n",
    "c.categories"
   ]
  },
  {
   "cell_type": "code",
   "execution_count": null,
   "id": "1a88616e",
   "metadata": {},
   "outputs": [
    {
     "name": "stdout",
     "output_type": "stream",
     "text": [
      "<class 'numpy.ndarray'>\n"
     ]
    },
    {
     "data": {
      "text/plain": [
       "array([0, 1, 0, 0, 0, 1, 0, 0], dtype=int8)"
      ]
     },
     "execution_count": 22,
     "metadata": {},
     "output_type": "execute_result"
    }
   ],
   "source": [
    "print(type(c.codes))  # np.ndarray, dtype=int?\n",
    "c.codes"
   ]
  },
  {
   "cell_type": "code",
   "execution_count": 25,
   "id": "79d027a1",
   "metadata": {},
   "outputs": [
    {
     "data": {
      "text/plain": [
       "{0: 'apple', 1: 'orange'}"
      ]
     },
     "execution_count": 25,
     "metadata": {},
     "output_type": "execute_result"
    }
   ],
   "source": [
    "# 코드와 범주 간의 매핑\n",
    "\n",
    "dict(enumerate(c.categories))"
   ]
  },
  {
   "cell_type": "code",
   "execution_count": null,
   "id": "b638201c",
   "metadata": {},
   "outputs": [
    {
     "data": {
      "text/html": [
       "<div>\n",
       "<style scoped>\n",
       "    .dataframe tbody tr th:only-of-type {\n",
       "        vertical-align: middle;\n",
       "    }\n",
       "\n",
       "    .dataframe tbody tr th {\n",
       "        vertical-align: top;\n",
       "    }\n",
       "\n",
       "    .dataframe thead th {\n",
       "        text-align: right;\n",
       "    }\n",
       "</style>\n",
       "<table border=\"1\" class=\"dataframe\">\n",
       "  <thead>\n",
       "    <tr style=\"text-align: right;\">\n",
       "      <th></th>\n",
       "      <th>basket_id</th>\n",
       "      <th>fruit</th>\n",
       "      <th>count</th>\n",
       "      <th>weight</th>\n",
       "    </tr>\n",
       "  </thead>\n",
       "  <tbody>\n",
       "    <tr>\n",
       "      <th>0</th>\n",
       "      <td>0</td>\n",
       "      <td>apple</td>\n",
       "      <td>11</td>\n",
       "      <td>1.564438</td>\n",
       "    </tr>\n",
       "    <tr>\n",
       "      <th>1</th>\n",
       "      <td>1</td>\n",
       "      <td>orange</td>\n",
       "      <td>5</td>\n",
       "      <td>1.331256</td>\n",
       "    </tr>\n",
       "    <tr>\n",
       "      <th>2</th>\n",
       "      <td>2</td>\n",
       "      <td>apple</td>\n",
       "      <td>12</td>\n",
       "      <td>2.393235</td>\n",
       "    </tr>\n",
       "    <tr>\n",
       "      <th>3</th>\n",
       "      <td>3</td>\n",
       "      <td>apple</td>\n",
       "      <td>6</td>\n",
       "      <td>0.746937</td>\n",
       "    </tr>\n",
       "    <tr>\n",
       "      <th>4</th>\n",
       "      <td>4</td>\n",
       "      <td>apple</td>\n",
       "      <td>5</td>\n",
       "      <td>2.691024</td>\n",
       "    </tr>\n",
       "    <tr>\n",
       "      <th>5</th>\n",
       "      <td>5</td>\n",
       "      <td>orange</td>\n",
       "      <td>12</td>\n",
       "      <td>3.767211</td>\n",
       "    </tr>\n",
       "    <tr>\n",
       "      <th>6</th>\n",
       "      <td>6</td>\n",
       "      <td>apple</td>\n",
       "      <td>10</td>\n",
       "      <td>0.992983</td>\n",
       "    </tr>\n",
       "    <tr>\n",
       "      <th>7</th>\n",
       "      <td>7</td>\n",
       "      <td>apple</td>\n",
       "      <td>11</td>\n",
       "      <td>3.795525</td>\n",
       "    </tr>\n",
       "  </tbody>\n",
       "</table>\n",
       "</div>"
      ],
      "text/plain": [
       "   basket_id   fruit  count    weight\n",
       "0          0   apple     11  1.564438\n",
       "1          1  orange      5  1.331256\n",
       "2          2   apple     12  2.393235\n",
       "3          3   apple      6  0.746937\n",
       "4          4   apple      5  2.691024\n",
       "5          5  orange     12  3.767211\n",
       "6          6   apple     10  0.992983\n",
       "7          7   apple     11  3.795525"
      ]
     },
     "execution_count": 43,
     "metadata": {},
     "output_type": "execute_result"
    }
   ],
   "source": [
    "# 이제 특정 열을, 지금까지 알아본 범주형으로 전환할 수 있다.\n",
    "df['fruit'] = df['fruit'].astype('category')\n",
    "df\n",
    "\n",
    "# 사실 표시되는 내용 만으로는 뭐가 달라졌는지 눈치채긴 어렵다.\n",
    "# 범주형으로 바뀌어도 표시할 때 code 로 표시하는 것은 아니니까.."
   ]
  },
  {
   "cell_type": "code",
   "execution_count": null,
   "id": "07f65d07",
   "metadata": {},
   "outputs": [
    {
     "data": {
      "text/plain": [
       "0     apple\n",
       "1    orange\n",
       "2     apple\n",
       "3     apple\n",
       "4     apple\n",
       "5    orange\n",
       "6     apple\n",
       "7     apple\n",
       "Name: fruit, dtype: category\n",
       "Categories (2, object): ['apple', 'orange']"
      ]
     },
     "execution_count": 44,
     "metadata": {},
     "output_type": "execute_result"
    }
   ],
   "source": [
    "df.fruit\n",
    "# 이렇게 직접 컬럼을 표시해 봐야 타입이 범주형 인지를 알 수 있다.  (dtype: category)"
   ]
  },
  {
   "cell_type": "code",
   "execution_count": null,
   "id": "78a7b6fa",
   "metadata": {},
   "outputs": [
    {
     "name": "stdout",
     "output_type": "stream",
     "text": [
      "['foo', 'bar', 'baz', 'foo', 'bar']\n",
      "Categories (3, object): ['bar', 'baz', 'foo']\n",
      "[2 0 1 2 0]\n"
     ]
    }
   ],
   "source": [
    "# 범주형 인코딩의 여러 방법들.\n",
    "\n",
    "# 1. 직접 Categorical 생성자를 사용.\n",
    "my_categories = pd.Categorical(['foo', 'bar', 'baz', 'foo', 'bar'])\n",
    "print(my_categories)\n",
    "print(my_categories.codes) # 이 코드는 내부적으로 결정됨."
   ]
  },
  {
   "cell_type": "code",
   "execution_count": null,
   "id": "d2e25be9",
   "metadata": {},
   "outputs": [
    {
     "data": {
      "text/plain": [
       "{0: 'bar', 1: 'baz', 2: 'foo'}"
      ]
     },
     "execution_count": 52,
     "metadata": {},
     "output_type": "execute_result"
    }
   ],
   "source": [
    "# 코드 할당에 특정한 순서가 있는가??? 알파벳 순서 같기도 하고..\n",
    "dict(enumerate(my_categories.categories)) # {0: 'bar', 1: 'baz', 2: 'foo'}"
   ]
  },
  {
   "cell_type": "code",
   "execution_count": null,
   "id": "180117cc",
   "metadata": {},
   "outputs": [
    {
     "data": {
      "text/plain": [
       "['foo', 'bar', 'baz', 'foo', 'foo', 'bar']\n",
       "Categories (3, object): ['foo', 'bar', 'baz']"
      ]
     },
     "execution_count": 48,
     "metadata": {},
     "output_type": "execute_result"
    }
   ],
   "source": [
    "categories = ['foo', 'bar', 'baz']\n",
    "\n",
    "codes = [0, 1, 2, 0, 0, 1]\n",
    "\n",
    "# 이렇게 직접 categories 를 지정하면 리스트 순서대로 코드가 부여되고 있음.\n",
    "my_cats_2 = pd.Categorical.from_codes(codes, categories)\n",
    "my_cats_2"
   ]
  },
  {
   "cell_type": "code",
   "execution_count": 53,
   "id": "961ceebc",
   "metadata": {},
   "outputs": [
    {
     "data": {
      "text/plain": [
       "{0: 'foo', 1: 'bar', 2: 'baz'}"
      ]
     },
     "execution_count": 53,
     "metadata": {},
     "output_type": "execute_result"
    }
   ],
   "source": [
    "dict(enumerate(my_cats_2.categories))  # {0: 'foo', 1: 'bar', 2: 'baz'}"
   ]
  },
  {
   "cell_type": "code",
   "execution_count": 49,
   "id": "9b9b9199",
   "metadata": {},
   "outputs": [
    {
     "data": {
      "text/plain": [
       "['bar', 'baz', 'foo', 'bar', 'bar', 'baz']\n",
       "Categories (3, object): ['foo', 'bar', 'baz']"
      ]
     },
     "execution_count": 49,
     "metadata": {},
     "output_type": "execute_result"
    }
   ],
   "source": [
    "# 순서에 따라 바뀌나??\n",
    "codes = [1, 2, 0, 1, 1, 2]\n",
    "\n",
    "my_cats_2 = pd.Categorical.from_codes(codes, categories)\n",
    "my_cats_2"
   ]
  },
  {
   "cell_type": "code",
   "execution_count": null,
   "id": "348eaedb",
   "metadata": {},
   "outputs": [
    {
     "data": {
      "text/plain": [
       "['bar', 'baz', 'foo', 'bar', 'bar', 'baz']\n",
       "Categories (3, object): ['foo' < 'bar' < 'baz']"
      ]
     },
     "execution_count": 55,
     "metadata": {},
     "output_type": "execute_result"
    }
   ],
   "source": [
    "ordered_cat = pd.Categorical.from_codes(codes, categories, ordered=True)\n",
    "ordered_cat\n",
    "# 표시 되는 형태로부터 이게 ordered 임을 알 수 있다.\n",
    "# Categories (3, object): ['foo' < 'bar' < 'baz']"
   ]
  },
  {
   "cell_type": "code",
   "execution_count": null,
   "id": "6d9c172d",
   "metadata": {},
   "outputs": [
    {
     "data": {
      "text/plain": [
       "['bar', 'baz', 'foo', 'bar', 'bar', 'baz']\n",
       "Categories (3, object): ['foo' < 'bar' < 'baz']"
      ]
     },
     "execution_count": 56,
     "metadata": {},
     "output_type": "execute_result"
    }
   ],
   "source": [
    "# 순서 없는 인스턴스를 순서 있는 타입으로..\n",
    "my_cats_2.as_ordered()"
   ]
  },
  {
   "cell_type": "markdown",
   "id": "4e0dd774",
   "metadata": {},
   "source": [
    "### Categorical 를 사용한 계산\n"
   ]
  },
  {
   "cell_type": "code",
   "execution_count": 57,
   "id": "8cc2338f",
   "metadata": {},
   "outputs": [
    {
     "data": {
      "text/plain": [
       "array([-1.42382504,  1.26372846, -0.87066174, -0.25917323, -0.07534331])"
      ]
     },
     "execution_count": 57,
     "metadata": {},
     "output_type": "execute_result"
    }
   ],
   "source": [
    "rng = np.random.default_rng(seed=12345)\n",
    "\n",
    "draws = rng.standard_normal(1000)\n",
    "\n",
    "draws[:5]\n",
    "# array([-1.4238,  1.2637, -0.8707, -0.2592, -0.0753])"
   ]
  },
  {
   "cell_type": "code",
   "execution_count": null,
   "id": "da7cfc16",
   "metadata": {},
   "outputs": [
    {
     "data": {
      "text/plain": [
       "[(-3.121, -0.675], (0.687, 3.211], (-3.121, -0.675], (-0.675, 0.0134], (-0.675, 0.0134], ..., (0.0134, 0.687], (0.0134, 0.687], (-0.675, 0.0134], (0.0134, 0.687], (-0.675, 0.0134]]\n",
       "Length: 1000\n",
       "Categories (4, interval[float64, right]): [(-3.121, -0.675] < (-0.675, 0.0134] < (0.0134, 0.687] < (0.687, 3.211]]"
      ]
     },
     "execution_count": 59,
     "metadata": {},
     "output_type": "execute_result"
    }
   ],
   "source": [
    "# 비닝\n",
    "bins = pd.qcut(draws, 4)\n",
    "# 모든 요소를 4개의 범주로 구분한다. 여기서 범주 (인덱스)는 숫자의 범위가 된다.\n",
    "# 인덱스가 출력 용으로는 그다지 적합하지 않다.\n",
    "bins\n"
   ]
  },
  {
   "cell_type": "code",
   "execution_count": 60,
   "id": "c1e51811",
   "metadata": {},
   "outputs": [
    {
     "data": {
      "text/plain": [
       "['Q1', 'Q4', 'Q1', 'Q2', 'Q2', ..., 'Q3', 'Q3', 'Q2', 'Q3', 'Q2']\n",
       "Length: 1000\n",
       "Categories (4, object): ['Q1' < 'Q2' < 'Q3' < 'Q4']"
      ]
     },
     "execution_count": 60,
     "metadata": {},
     "output_type": "execute_result"
    }
   ],
   "source": [
    "# 그래서 레이블을 지정하는 것이 좋다.\n",
    "bins = pd.qcut(draws, 4, labels=['Q1', 'Q2', 'Q3', 'Q4'])\n",
    "bins"
   ]
  },
  {
   "cell_type": "code",
   "execution_count": null,
   "id": "6d50d2b7",
   "metadata": {},
   "outputs": [
    {
     "data": {
      "text/plain": [
       "array([0, 3, 0, 1, 1, 0, 0, 2, 2, 0], dtype=int8)"
      ]
     },
     "execution_count": 63,
     "metadata": {},
     "output_type": "execute_result"
    }
   ],
   "source": [
    "bins.codes[:10]  # 다 표시하면 1000개나 되니까 일부만 출력해 보자.\n",
    "\n",
    "# codes 는 대부분 dtype=int8 인 것 같다. 범주 수가 127 을 넘지 않으면 그렇게 되는 듯."
   ]
  },
  {
   "cell_type": "code",
   "execution_count": 70,
   "id": "b4c4928f",
   "metadata": {},
   "outputs": [
    {
     "data": {
      "text/plain": [
       "(array([0, 1, 2, 3, 4], dtype=int16),\n",
       " array([124, 125, 126, 127, 128], dtype=int16))"
      ]
     },
     "execution_count": 70,
     "metadata": {},
     "output_type": "execute_result"
    }
   ],
   "source": [
    "# 128 이상으로 만들어 볼까?\n",
    "c = pd.Categorical([ f'a{i:03}' for i in range(1,130) ])\n",
    "c.codes[:5], c.codes[-5:]\n",
    "\n",
    "# 역시나 codes 의 dtype 이 int16 이 되었음.\n"
   ]
  },
  {
   "cell_type": "code",
   "execution_count": null,
   "id": "056de34f",
   "metadata": {},
   "outputs": [],
   "source": [
    "bins = pd.Series(bins, name='quartile')\n",
    "\n",
    "# 아래 코드는 솔직히 말해 잘 모르기도 하고, 이해하는데 시간이 많이 들 거 같아서 패스!\n",
    "results = (pd.Series(draws)\n",
    "            .groupby(bins)\n",
    "            .agg(['count', 'min', 'max'])\n",
    "            .reset_index())"
   ]
  },
  {
   "cell_type": "code",
   "execution_count": 71,
   "id": "686dc4c9",
   "metadata": {},
   "outputs": [
    {
     "name": "stderr",
     "output_type": "stream",
     "text": [
      "/var/folders/gk/5yll9c4s4574ff6wr892k56r0000gn/T/ipykernel_32122/3698549966.py:1: FutureWarning: The default of observed=False is deprecated and will be changed to True in a future version of pandas. Pass observed=False to retain current behavior or observed=True to adopt the future default and silence this warning.\n",
      "  pd.Series(draws).groupby(bins)\n"
     ]
    },
    {
     "data": {
      "text/plain": [
       "<pandas.core.groupby.generic.SeriesGroupBy object at 0x11f558100>"
      ]
     },
     "execution_count": 71,
     "metadata": {},
     "output_type": "execute_result"
    }
   ],
   "source": [
    "pd.Series(draws).groupby(bins)"
   ]
  },
  {
   "cell_type": "markdown",
   "id": "41112e66",
   "metadata": {},
   "source": [
    "### Categorical 을 이용하여 성능 향상"
   ]
  },
  {
   "cell_type": "code",
   "execution_count": 72,
   "id": "95d5ec48",
   "metadata": {},
   "outputs": [],
   "source": [
    "# 요약하자면..\n",
    "#  1회성 변환 (object -> categorical) 비용을 들여서, 그 이후의 많은 계산에서의 성능의 혜택을 본다는 것임.\n",
    "#  메모리 사용량 또한 대폭 줄어듬. (당연한 얘기지만..)\n"
   ]
  },
  {
   "cell_type": "markdown",
   "id": "fa0a6036",
   "metadata": {},
   "source": [
    "### 범주형 메소드"
   ]
  },
  {
   "cell_type": "code",
   "execution_count": null,
   "id": "a19d52cf",
   "metadata": {},
   "outputs": [
    {
     "name": "stdout",
     "output_type": "stream",
     "text": [
      "<class 'pandas.core.series.Series'>\n"
     ]
    },
    {
     "data": {
      "text/plain": [
       "0    a\n",
       "1    b\n",
       "2    c\n",
       "3    d\n",
       "4    a\n",
       "5    b\n",
       "6    c\n",
       "7    d\n",
       "dtype: category\n",
       "Categories (4, object): ['a', 'b', 'c', 'd']"
      ]
     },
     "execution_count": 76,
     "metadata": {},
     "output_type": "execute_result"
    }
   ],
   "source": [
    "s = pd.Series(['a', 'b', 'c', 'd'] * 2)\n",
    "\n",
    "cat_s = s.astype('category')\n",
    "print(type(cat_s))  # pd.Series\n",
    "cat_s               # dtype: category"
   ]
  },
  {
   "cell_type": "code",
   "execution_count": 77,
   "id": "a4c89c73",
   "metadata": {},
   "outputs": [
    {
     "name": "stdout",
     "output_type": "stream",
     "text": [
      "<class 'pandas.core.arrays.categorical.Categorical'>\n"
     ]
    },
    {
     "data": {
      "text/plain": [
       "['a', 'b', 'c', 'd', 'a', 'b', 'c', 'd']\n",
       "Categories (4, object): ['a', 'b', 'c', 'd']"
      ]
     },
     "execution_count": 77,
     "metadata": {},
     "output_type": "execute_result"
    }
   ],
   "source": [
    "#  # pandas.core.arrays.categorical.Categorical\n",
    "print(type(cat_s.array))\n",
    "cat_s.array\n"
   ]
  },
  {
   "cell_type": "code",
   "execution_count": null,
   "id": "9767a35b",
   "metadata": {},
   "outputs": [
    {
     "name": "stdout",
     "output_type": "stream",
     "text": [
      "<class 'pandas.core.arrays.categorical.CategoricalAccessor'>\n"
     ]
    },
    {
     "data": {
      "text/plain": [
       "<pandas.core.arrays.categorical.CategoricalAccessor object at 0x11f496e20>"
      ]
     },
     "execution_count": 78,
     "metadata": {},
     "output_type": "execute_result"
    }
   ],
   "source": [
    "# 접근자.\n",
    "print(type(cat_s.cat))\n",
    "cat_s.cat\n",
    "\n",
    "# .array 를 이용해 내부의 Categorical 에 직접 접근할 수 있는데도\n",
    "# 굳이 이렇게 .cat 이라는 Accessor 가 필요한 이유는???"
   ]
  },
  {
   "cell_type": "code",
   "execution_count": 79,
   "id": "a8cae6bb",
   "metadata": {},
   "outputs": [
    {
     "data": {
      "text/plain": [
       "0    0\n",
       "1    1\n",
       "2    2\n",
       "dtype: int8"
      ]
     },
     "execution_count": 79,
     "metadata": {},
     "output_type": "execute_result"
    }
   ],
   "source": [
    "# .cat:  접근자 (accessor) 프로퍼티. 이것을 통해 여러 메소드에 접근 가능.\n",
    "#\n",
    "cat_s.cat.codes[:3]  # .code 는 메소드는 아니고 프로퍼티 이지만."
   ]
  },
  {
   "cell_type": "code",
   "execution_count": null,
   "id": "20348939",
   "metadata": {},
   "outputs": [
    {
     "data": {
      "text/plain": [
       "Index(['a', 'b', 'c', 'd'], dtype='object')"
      ]
     },
     "execution_count": 75,
     "metadata": {},
     "output_type": "execute_result"
    }
   ],
   "source": [
    "cat_s.cat.categories # 이것의 타입은 Index"
   ]
  },
  {
   "cell_type": "code",
   "execution_count": null,
   "id": "22e93680",
   "metadata": {},
   "outputs": [],
   "source": [
    "cat_s.categ"
   ]
  },
  {
   "cell_type": "code",
   "execution_count": null,
   "id": "c28c044d",
   "metadata": {},
   "outputs": [],
   "source": [
    "# 범주 확장\n",
    "cat_s2 = cat_s.cat."
   ]
  }
 ],
 "metadata": {
  "kernelspec": {
   "display_name": "ml_torch",
   "language": "python",
   "name": "python3"
  },
  "language_info": {
   "codemirror_mode": {
    "name": "ipython",
    "version": 3
   },
   "file_extension": ".py",
   "mimetype": "text/x-python",
   "name": "python",
   "nbconvert_exporter": "python",
   "pygments_lexer": "ipython3",
   "version": "3.9.21"
  }
 },
 "nbformat": 4,
 "nbformat_minor": 5
}
