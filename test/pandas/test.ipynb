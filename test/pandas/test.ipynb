{
 "cells": [
  {
   "cell_type": "code",
   "execution_count": 43,
   "id": "da4cbeee",
   "metadata": {},
   "outputs": [],
   "source": [
    "!pip install -Uqq numpy pandas\n",
    "!pip install -Uqq datasets # in HuggingFace"
   ]
  },
  {
   "cell_type": "code",
   "execution_count": 2,
   "id": "56dbabbf",
   "metadata": {},
   "outputs": [],
   "source": [
    "import numpy as np\n",
    "import pandas as pd\n",
    "import torch"
   ]
  },
  {
   "cell_type": "code",
   "execution_count": 12,
   "id": "c7e4c833",
   "metadata": {},
   "outputs": [],
   "source": [
    "data = {\"state\": [\"Ohio\", \"Ohio\", \"Ohio\", \"Nevada\", \"Nevada\", \"Nevada\"],\n",
    "        \"year\": [2000, 2001, 2002, 2001, 2002, 2003],\n",
    "        \"pop\": [1.5, 1.7, 3.6, 2.4, 2.9, 3.2]}\n",
    "df = pd.DataFrame(data)"
   ]
  },
  {
   "cell_type": "code",
   "execution_count": 13,
   "id": "9319ec80",
   "metadata": {},
   "outputs": [
    {
     "data": {
      "text/html": [
       "<div>\n",
       "<style scoped>\n",
       "    .dataframe tbody tr th:only-of-type {\n",
       "        vertical-align: middle;\n",
       "    }\n",
       "\n",
       "    .dataframe tbody tr th {\n",
       "        vertical-align: top;\n",
       "    }\n",
       "\n",
       "    .dataframe thead th {\n",
       "        text-align: right;\n",
       "    }\n",
       "</style>\n",
       "<table border=\"1\" class=\"dataframe\">\n",
       "  <thead>\n",
       "    <tr style=\"text-align: right;\">\n",
       "      <th></th>\n",
       "      <th>state</th>\n",
       "      <th>year</th>\n",
       "      <th>pop</th>\n",
       "    </tr>\n",
       "  </thead>\n",
       "  <tbody>\n",
       "    <tr>\n",
       "      <th>0</th>\n",
       "      <td>Ohio</td>\n",
       "      <td>2000</td>\n",
       "      <td>1.5</td>\n",
       "    </tr>\n",
       "    <tr>\n",
       "      <th>1</th>\n",
       "      <td>Ohio</td>\n",
       "      <td>2001</td>\n",
       "      <td>1.7</td>\n",
       "    </tr>\n",
       "    <tr>\n",
       "      <th>2</th>\n",
       "      <td>Ohio</td>\n",
       "      <td>2002</td>\n",
       "      <td>3.6</td>\n",
       "    </tr>\n",
       "    <tr>\n",
       "      <th>3</th>\n",
       "      <td>Nevada</td>\n",
       "      <td>2001</td>\n",
       "      <td>2.4</td>\n",
       "    </tr>\n",
       "    <tr>\n",
       "      <th>4</th>\n",
       "      <td>Nevada</td>\n",
       "      <td>2002</td>\n",
       "      <td>2.9</td>\n",
       "    </tr>\n",
       "    <tr>\n",
       "      <th>5</th>\n",
       "      <td>Nevada</td>\n",
       "      <td>2003</td>\n",
       "      <td>3.2</td>\n",
       "    </tr>\n",
       "  </tbody>\n",
       "</table>\n",
       "</div>"
      ],
      "text/plain": [
       "    state  year  pop\n",
       "0    Ohio  2000  1.5\n",
       "1    Ohio  2001  1.7\n",
       "2    Ohio  2002  3.6\n",
       "3  Nevada  2001  2.4\n",
       "4  Nevada  2002  2.9\n",
       "5  Nevada  2003  3.2"
      ]
     },
     "execution_count": 13,
     "metadata": {},
     "output_type": "execute_result"
    }
   ],
   "source": [
    "df"
   ]
  },
  {
   "cell_type": "code",
   "execution_count": 29,
   "id": "aa3ccd6a",
   "metadata": {},
   "outputs": [
    {
     "name": "stdout",
     "output_type": "stream",
     "text": [
      "<class 'pandas.core.frame.DataFrame'>\n",
      "<class 'pandas.core.series.Series'>\n",
      "<class 'pandas.core.series.Series'>\n",
      "<class 'pandas.core.series.Series'>\n",
      "<class 'pandas.core.indexing._iLocIndexer'>\n"
     ]
    },
    {
     "data": {
      "text/plain": [
       "0    1\n",
       "1    1\n",
       "2    3\n",
       "3    2\n",
       "4    2\n",
       "5    3\n",
       "Name: pop, dtype: int64"
      ]
     },
     "execution_count": 29,
     "metadata": {},
     "output_type": "execute_result"
    }
   ],
   "source": [
    "print(type(df))\n",
    "print(type(df.state))\n",
    "print(type(df['year']))\n",
    "print(type(df.year.map(str)))\n",
    "print(type(df.iloc(0)))\n",
    "df['pop'].map(int)\n"
   ]
  },
  {
   "cell_type": "code",
   "execution_count": 46,
   "id": "f2129bcb",
   "metadata": {},
   "outputs": [],
   "source": [
    "df['input'] = 'TEXT1: ' + df.state + '; YEAR1: ' + df.year.map(str) + '; POP1: ' + df['pop'].map(str)"
   ]
  },
  {
   "cell_type": "code",
   "execution_count": 39,
   "id": "e6aab34a",
   "metadata": {},
   "outputs": [
    {
     "data": {
      "text/html": [
       "<div>\n",
       "<style scoped>\n",
       "    .dataframe tbody tr th:only-of-type {\n",
       "        vertical-align: middle;\n",
       "    }\n",
       "\n",
       "    .dataframe tbody tr th {\n",
       "        vertical-align: top;\n",
       "    }\n",
       "\n",
       "    .dataframe thead th {\n",
       "        text-align: right;\n",
       "    }\n",
       "</style>\n",
       "<table border=\"1\" class=\"dataframe\">\n",
       "  <thead>\n",
       "    <tr style=\"text-align: right;\">\n",
       "      <th></th>\n",
       "      <th>state</th>\n",
       "      <th>year</th>\n",
       "      <th>pop</th>\n",
       "      <th>input</th>\n",
       "    </tr>\n",
       "  </thead>\n",
       "  <tbody>\n",
       "    <tr>\n",
       "      <th>0</th>\n",
       "      <td>Ohio</td>\n",
       "      <td>2000</td>\n",
       "      <td>1.5</td>\n",
       "      <td>TEXT1: Ohio; YEAR1: 2000; POP1: 1.5</td>\n",
       "    </tr>\n",
       "    <tr>\n",
       "      <th>1</th>\n",
       "      <td>Ohio</td>\n",
       "      <td>2001</td>\n",
       "      <td>1.7</td>\n",
       "      <td>TEXT1: Ohio; YEAR1: 2001; POP1: 1.7</td>\n",
       "    </tr>\n",
       "    <tr>\n",
       "      <th>2</th>\n",
       "      <td>Ohio</td>\n",
       "      <td>2002</td>\n",
       "      <td>3.6</td>\n",
       "      <td>TEXT1: Ohio; YEAR1: 2002; POP1: 3.6</td>\n",
       "    </tr>\n",
       "    <tr>\n",
       "      <th>3</th>\n",
       "      <td>Nevada</td>\n",
       "      <td>2001</td>\n",
       "      <td>2.4</td>\n",
       "      <td>TEXT1: Nevada; YEAR1: 2001; POP1: 2.4</td>\n",
       "    </tr>\n",
       "    <tr>\n",
       "      <th>4</th>\n",
       "      <td>Nevada</td>\n",
       "      <td>2002</td>\n",
       "      <td>2.9</td>\n",
       "      <td>TEXT1: Nevada; YEAR1: 2002; POP1: 2.9</td>\n",
       "    </tr>\n",
       "    <tr>\n",
       "      <th>5</th>\n",
       "      <td>Nevada</td>\n",
       "      <td>2003</td>\n",
       "      <td>3.2</td>\n",
       "      <td>TEXT1: Nevada; YEAR1: 2003; POP1: 3.2</td>\n",
       "    </tr>\n",
       "  </tbody>\n",
       "</table>\n",
       "</div>"
      ],
      "text/plain": [
       "    state  year  pop                                  input\n",
       "0    Ohio  2000  1.5    TEXT1: Ohio; YEAR1: 2000; POP1: 1.5\n",
       "1    Ohio  2001  1.7    TEXT1: Ohio; YEAR1: 2001; POP1: 1.7\n",
       "2    Ohio  2002  3.6    TEXT1: Ohio; YEAR1: 2002; POP1: 3.6\n",
       "3  Nevada  2001  2.4  TEXT1: Nevada; YEAR1: 2001; POP1: 2.4\n",
       "4  Nevada  2002  2.9  TEXT1: Nevada; YEAR1: 2002; POP1: 2.9\n",
       "5  Nevada  2003  3.2  TEXT1: Nevada; YEAR1: 2003; POP1: 3.2"
      ]
     },
     "execution_count": 39,
     "metadata": {},
     "output_type": "execute_result"
    }
   ],
   "source": [
    "df"
   ]
  },
  {
   "cell_type": "code",
   "execution_count": 40,
   "id": "c9347027",
   "metadata": {},
   "outputs": [
    {
     "data": {
      "text/html": [
       "<div>\n",
       "<style scoped>\n",
       "    .dataframe tbody tr th:only-of-type {\n",
       "        vertical-align: middle;\n",
       "    }\n",
       "\n",
       "    .dataframe tbody tr th {\n",
       "        vertical-align: top;\n",
       "    }\n",
       "\n",
       "    .dataframe thead th {\n",
       "        text-align: right;\n",
       "    }\n",
       "</style>\n",
       "<table border=\"1\" class=\"dataframe\">\n",
       "  <thead>\n",
       "    <tr style=\"text-align: right;\">\n",
       "      <th></th>\n",
       "      <th>state</th>\n",
       "      <th>year</th>\n",
       "      <th>pop</th>\n",
       "    </tr>\n",
       "  </thead>\n",
       "  <tbody>\n",
       "    <tr>\n",
       "      <th>0</th>\n",
       "      <td>Ohio</td>\n",
       "      <td>2000</td>\n",
       "      <td>1.5</td>\n",
       "    </tr>\n",
       "    <tr>\n",
       "      <th>1</th>\n",
       "      <td>Ohio</td>\n",
       "      <td>2001</td>\n",
       "      <td>1.7</td>\n",
       "    </tr>\n",
       "    <tr>\n",
       "      <th>2</th>\n",
       "      <td>Ohio</td>\n",
       "      <td>2002</td>\n",
       "      <td>3.6</td>\n",
       "    </tr>\n",
       "    <tr>\n",
       "      <th>3</th>\n",
       "      <td>Nevada</td>\n",
       "      <td>2001</td>\n",
       "      <td>2.4</td>\n",
       "    </tr>\n",
       "    <tr>\n",
       "      <th>4</th>\n",
       "      <td>Nevada</td>\n",
       "      <td>2002</td>\n",
       "      <td>2.9</td>\n",
       "    </tr>\n",
       "    <tr>\n",
       "      <th>5</th>\n",
       "      <td>Nevada</td>\n",
       "      <td>2003</td>\n",
       "      <td>3.2</td>\n",
       "    </tr>\n",
       "  </tbody>\n",
       "</table>\n",
       "</div>"
      ],
      "text/plain": [
       "    state  year  pop\n",
       "0    Ohio  2000  1.5\n",
       "1    Ohio  2001  1.7\n",
       "2    Ohio  2002  3.6\n",
       "3  Nevada  2001  2.4\n",
       "4  Nevada  2002  2.9\n",
       "5  Nevada  2003  3.2"
      ]
     },
     "execution_count": 40,
     "metadata": {},
     "output_type": "execute_result"
    }
   ],
   "source": [
    "df.drop(columns=['input'])"
   ]
  },
  {
   "cell_type": "code",
   "execution_count": null,
   "id": "b4331890",
   "metadata": {},
   "outputs": [],
   "source": [
    "# test\n",
    "del df['input']"
   ]
  },
  {
   "cell_type": "code",
   "execution_count": 47,
   "id": "9e1a198c",
   "metadata": {},
   "outputs": [],
   "source": [
    "# import torch.utils.data.dataset\n",
    "# torch.utils.data.Dataset\n",
    "# torch.utils.data.dataset.Dataset\n",
    "\n",
    "from datasets import Dataset, DatasetDict\n",
    "ds = Dataset.from_pandas(df)"
   ]
  },
  {
   "cell_type": "code",
   "execution_count": 48,
   "id": "a5b8e823",
   "metadata": {},
   "outputs": [
    {
     "data": {
      "text/plain": [
       "Dataset({\n",
       "    features: ['state', 'year', 'pop', 'input'],\n",
       "    num_rows: 6\n",
       "})"
      ]
     },
     "execution_count": 48,
     "metadata": {},
     "output_type": "execute_result"
    }
   ],
   "source": [
    "ds"
   ]
  },
  {
   "cell_type": "code",
   "execution_count": 1,
   "id": "d6f085b0",
   "metadata": {},
   "outputs": [
    {
     "name": "stdout",
     "output_type": "stream",
     "text": [
      "--- df1 (직원 정보) ---\n",
      "    ID   이름   부서\n",
      "0  A01  김철수   영업\n",
      "1  A02  이영희   개발\n",
      "2  A03  박지성   개발\n",
      "3  A04  최민호  마케팅\n",
      "\n",
      "--- df2 (직원 연봉 정보) ---\n",
      "    ID    연봉  경력\n",
      "0  A01  5000   3\n",
      "1  A02  7000   7\n",
      "2  A03  6500   6\n",
      "3  A05  8000   9\n"
     ]
    }
   ],
   "source": [
    "import pandas as pd\n",
    "\n",
    "# 첫 번째 DataFrame: 직원 정보\n",
    "data1 = {'ID': ['A01', 'A02', 'A03', 'A04'],\n",
    "         '이름': ['김철수', '이영희', '박지성', '최민호'],\n",
    "         '부서': ['영업', '개발', '개발', '마케팅']}\n",
    "df1 = pd.DataFrame(data1)\n",
    "\n",
    "# 두 번째 DataFrame: 직원 연봉 정보\n",
    "data2 = {'ID': ['A01', 'A02', 'A03', 'A05'],\n",
    "         '연봉': [5000, 7000, 6500, 8000],\n",
    "         '경력': [3, 7, 6, 9]}\n",
    "df2 = pd.DataFrame(data2)\n",
    "\n",
    "print(\"--- df1 (직원 정보) ---\")\n",
    "print(df1)\n",
    "print(\"\\n--- df2 (직원 연봉 정보) ---\")\n",
    "print(df2)"
   ]
  },
  {
   "cell_type": "code",
   "execution_count": 2,
   "id": "0aef4053",
   "metadata": {},
   "outputs": [
    {
     "name": "stdout",
     "output_type": "stream",
     "text": [
      "\n",
      "--- Inner Join 결과 ---\n",
      "    ID   이름  부서    연봉  경력\n",
      "0  A01  김철수  영업  5000   3\n",
      "1  A02  이영희  개발  7000   7\n",
      "2  A03  박지성  개발  6500   6\n"
     ]
    }
   ],
   "source": [
    "# 'ID' 컬럼을 기준으로 두 DataFrame을 병합 (기본값은 inner join)\n",
    "merged_inner = pd.merge(df1, df2, on='ID')\n",
    "\n",
    "print(\"\\n--- Inner Join 결과 ---\")\n",
    "print(merged_inner)"
   ]
  },
  {
   "cell_type": "code",
   "execution_count": 3,
   "id": "3baef77f",
   "metadata": {},
   "outputs": [
    {
     "name": "stdout",
     "output_type": "stream",
     "text": [
      "\n",
      "--- Left Join 결과 ---\n",
      "    ID   이름   부서      연봉   경력\n",
      "0  A01  김철수   영업  5000.0  3.0\n",
      "1  A02  이영희   개발  7000.0  7.0\n",
      "2  A03  박지성   개발  6500.0  6.0\n",
      "3  A04  최민호  마케팅     NaN  NaN\n"
     ]
    }
   ],
   "source": [
    "merged_left = pd.merge(df1, df2, on='ID', how='left')\n",
    "\n",
    "print(\"\\n--- Left Join 결과 ---\")\n",
    "print(merged_left)"
   ]
  },
  {
   "cell_type": "code",
   "execution_count": 4,
   "id": "a0bfb5e9",
   "metadata": {},
   "outputs": [
    {
     "name": "stdout",
     "output_type": "stream",
     "text": [
      "\n",
      "--- Right Join 결과 ---\n",
      "    ID   이름   부서    연봉  경력\n",
      "0  A01  김철수   영업  5000   3\n",
      "1  A02  이영희   개발  7000   7\n",
      "2  A03  박지성   개발  6500   6\n",
      "3  A05  NaN  NaN  8000   9\n"
     ]
    }
   ],
   "source": [
    "merged_right = pd.merge(df1, df2, on='ID', how='right')\n",
    "\n",
    "print(\"\\n--- Right Join 결과 ---\")\n",
    "print(merged_right)"
   ]
  },
  {
   "cell_type": "code",
   "execution_count": 5,
   "id": "fba055aa",
   "metadata": {},
   "outputs": [
    {
     "name": "stdout",
     "output_type": "stream",
     "text": [
      "\n",
      "--- Outer Join 결과 ---\n",
      "    ID   이름   부서      연봉   경력\n",
      "0  A01  김철수   영업  5000.0  3.0\n",
      "1  A02  이영희   개발  7000.0  7.0\n",
      "2  A03  박지성   개발  6500.0  6.0\n",
      "3  A04  최민호  마케팅     NaN  NaN\n",
      "4  A05  NaN  NaN  8000.0  9.0\n"
     ]
    }
   ],
   "source": [
    "merged_outer = pd.merge(df1, df2, on='ID', how='outer')\n",
    "\n",
    "print(\"\\n--- Outer Join 결과 ---\")\n",
    "print(merged_outer)"
   ]
  },
  {
   "cell_type": "code",
   "execution_count": null,
   "id": "346c217a",
   "metadata": {},
   "outputs": [],
   "source": []
  }
 ],
 "metadata": {
  "kernelspec": {
   "display_name": "ml_torch",
   "language": "python",
   "name": "python3"
  },
  "language_info": {
   "codemirror_mode": {
    "name": "ipython",
    "version": 3
   },
   "file_extension": ".py",
   "mimetype": "text/x-python",
   "name": "python",
   "nbconvert_exporter": "python",
   "pygments_lexer": "ipython3",
   "version": "3.9.21"
  }
 },
 "nbformat": 4,
 "nbformat_minor": 5
}
