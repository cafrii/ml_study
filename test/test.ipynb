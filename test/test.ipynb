{
 "cells": [
  {
   "cell_type": "code",
   "execution_count": 1,
   "metadata": {},
   "outputs": [
    {
     "name": "stdout",
     "output_type": "stream",
     "text": [
      "hello world!\n"
     ]
    }
   ],
   "source": [
    "print('hello world!')\n"
   ]
  },
  {
   "cell_type": "code",
   "execution_count": null,
   "metadata": {},
   "outputs": [],
   "source": [
    "%matplotlib inline\n",
    "\n"
   ]
  },
  {
   "cell_type": "code",
   "execution_count": 6,
   "metadata": {},
   "outputs": [
    {
     "name": "stdout",
     "output_type": "stream",
     "text": [
      "1\n",
      "2\n",
      "3\n",
      "exception: <class 'StopIteration'>\n"
     ]
    }
   ],
   "source": [
    "# 이터레이터 객체 클래스 예시\n",
    "class Iterator:\n",
    "    def __init__(self, begin, end):\n",
    "        # 지정한 범위의 숫자를 하나씩 리턴해 주는 이터레이터\n",
    "        self.current = begin\n",
    "        self.end = end\n",
    "\n",
    "    def __iter__(self):\n",
    "        return self\n",
    "\n",
    "    def __next__(self):\n",
    "        if self.current <= self.end:\n",
    "            num = self.current\n",
    "            self.current += 1\n",
    "            return num\n",
    "        else:\n",
    "            raise StopIteration\n",
    "\n",
    "\n",
    "# 이터레이터 사용 예\n",
    "it = Iterator(1, 3)\n",
    "print(it.__next__())\n",
    "print(next(it))\n",
    "print(next(it))\n",
    "try:\n",
    "    print(next(it))\n",
    "except Exception as e:\n",
    "    print('exception:', e.__class__)\n"
   ]
  },
  {
   "cell_type": "code",
   "execution_count": 7,
   "metadata": {},
   "outputs": [
    {
     "name": "stdout",
     "output_type": "stream",
     "text": [
      "4\n",
      "5\n",
      "6\n"
     ]
    }
   ],
   "source": [
    "# 이터러블한 객체를 만드는 클래스 예시\n",
    "class Iterable:\n",
    "    def __init__(self, begin, end):\n",
    "        self.begin = begin\n",
    "        self.end = end\n",
    "\n",
    "    def __iter__(self):\n",
    "        return Iterator(self.begin, self.end)\n",
    "\n",
    "# 이터러블 객체를 생성하고\n",
    "itbl = Iterable(4, 6)\n",
    "\n",
    "# 이터레이터를 얻음\n",
    "it = itbl.__iter__()\n",
    "\n",
    "while True:\n",
    "    try:\n",
    "        print(it.__next__())\n",
    "    except StopIteration:\n",
    "        break"
   ]
  },
  {
   "cell_type": "code",
   "execution_count": 8,
   "metadata": {},
   "outputs": [
    {
     "name": "stdout",
     "output_type": "stream",
     "text": [
      "True\n",
      "False\n"
     ]
    }
   ],
   "source": [
    "it1 = iter([3, 4, 5])  # it1 은 iterator\n",
    "print(iter(it1) is it1)  # True. iterator는 자기 자신을 반환함.\n",
    "\n",
    "lst = [1, 2, 3]\n",
    "print(iter(lst) is lst)  # False. 리스트는 이터레이터가 아님"
   ]
  },
  {
   "cell_type": "markdown",
   "metadata": {},
   "source": [
    "## 제너레이터 이터레이터 내부 구조\n"
   ]
  },
  {
   "cell_type": "code",
   "execution_count": 1,
   "metadata": {},
   "outputs": [],
   "source": [
    "def echo(value=None):\n",
    "    print(\"Execution starts when 'next()' is called for the first time.\")\n",
    "    try:\n",
    "        while True:\n",
    "            try:\n",
    "                value = (yield value)\n",
    "            except Exception as e:\n",
    "                value = e\n",
    "    finally:\n",
    "        print(\"Don't forget to clean up when 'close()' is called.\")"
   ]
  },
  {
   "cell_type": "code",
   "execution_count": null,
   "metadata": {},
   "outputs": [
    {
     "name": "stdout",
     "output_type": "stream",
     "text": [
      "<generator object echo at 0x107c673c0> <class 'generator'>\n",
      "<function echo at 0x1056789d0> <class 'function'>\n"
     ]
    }
   ],
   "source": [
    "generator = echo(1)\n",
    "\n",
    "print(echo, type(echo))\n",
    "print(generator, type(generator))\n"
   ]
  },
  {
   "cell_type": "code",
   "execution_count": null,
   "metadata": {},
   "outputs": [
    {
     "name": "stdout",
     "output_type": "stream",
     "text": [
      "Execution starts when 'next()' is called for the first time.\n",
      "1\n"
     ]
    }
   ],
   "source": [
    "print(next(generator))\n",
    "print(next(generator))"
   ]
  },
  {
   "cell_type": "code",
   "execution_count": 13,
   "metadata": {},
   "outputs": [
    {
     "name": "stdout",
     "output_type": "stream",
     "text": [
      "['__repr__', '__getattribute__', '__iter__', '__next__', '__del__', 'send', 'throw', 'close', 'gi_frame', 'gi_running', 'gi_code', '__name__', '__qualname__', 'gi_yieldfrom', '__doc__', '__hash__', '__str__', '__setattr__', '__delattr__', '__lt__', '__le__', '__eq__', '__ne__', '__gt__', '__ge__', '__init__', '__new__', '__reduce_ex__', '__reduce__', '__subclasshook__', '__init_subclass__', '__format__', '__sizeof__', '__dir__', '__class__']\n"
     ]
    }
   ],
   "source": [
    "print(generator.__dir__())"
   ]
  },
  {
   "cell_type": "code",
   "execution_count": 19,
   "metadata": {},
   "outputs": [
    {
     "name": "stdout",
     "output_type": "stream",
     "text": [
      "Name:              func2\n",
      "Filename:          /var/folders/gk/5yll9c4s4574ff6wr892k56r0000gn/T/ipykernel_46622/507405867.py\n",
      "Argument count:    0\n",
      "Positional-only arguments: 0\n",
      "Kw-only arguments: 0\n",
      "Number of locals:  0\n",
      "Stack size:        1\n",
      "Flags:             OPTIMIZED, NEWLOCALS, GENERATOR, NOFREE\n",
      "Constants:\n",
      "   0: None\n",
      "   1: 1\n",
      "99\n"
     ]
    }
   ],
   "source": [
    "import dis\n",
    "def func2():\n",
    "    yield 1\n",
    "print(dis.Bytecode(func2).info())\n",
    "print(func2.__code__.co_flags)"
   ]
  },
  {
   "cell_type": "code",
   "execution_count": 12,
   "metadata": {},
   "outputs": [
    {
     "name": "stdout",
     "output_type": "stream",
     "text": [
      "['__module__', '__init__', '__dict__', '__weakref__', '__doc__', '__repr__', '__hash__', '__str__', '__getattribute__', '__setattr__', '__delattr__', '__lt__', '__le__', '__eq__', '__ne__', '__gt__', '__ge__', '__new__', '__reduce_ex__', '__reduce__', '__subclasshook__', '__init_subclass__', '__format__', '__sizeof__', '__dir__', '__class__']\n"
     ]
    }
   ],
   "source": [
    "class A:\n",
    "    def __init__(self):\n",
    "        pass\n",
    "a = A()\n",
    "print(a.__dir__())"
   ]
  },
  {
   "cell_type": "code",
   "execution_count": 20,
   "metadata": {},
   "outputs": [
    {
     "name": "stdout",
     "output_type": "stream",
     "text": [
      "range(0, 3) <class 'range'>\n"
     ]
    }
   ],
   "source": [
    "a = range(3)\n",
    "print(a, type(a))"
   ]
  },
  {
   "cell_type": "code",
   "execution_count": null,
   "metadata": {},
   "outputs": [
    {
     "name": "stdout",
     "output_type": "stream",
     "text": [
      "10\n",
      "20\n"
     ]
    }
   ],
   "source": [
    "class AgeDescriptor:\n",
    "    def __get__(self, inst, owner): return 10\n",
    "\n",
    "class Person:\n",
    "    age = AgeDescriptor()\n",
    "    def __init__(self, name, age=None):\n",
    "        self.name = name\n",
    "        if age: self.age = age\n",
    "\n",
    "dave = Person(\"Dave\")\n",
    "print(dave.age) # 10\n",
    "\n",
    "jane = Person(\"Jane\", 20)\n",
    "print(jane.age) # 20"
   ]
  },
  {
   "cell_type": "code",
   "execution_count": 3,
   "metadata": {},
   "outputs": [
    {
     "name": "stdout",
     "output_type": "stream",
     "text": [
      "called x\n"
     ]
    },
    {
     "data": {
      "text/plain": [
       "42"
      ]
     },
     "execution_count": 3,
     "metadata": {},
     "output_type": "execute_result"
    }
   ],
   "source": [
    "class MyClass1:\n",
    "    class Descriptor:\n",
    "        def __get__(self, inst, owner):\n",
    "            print(\"called x\")\n",
    "            return 42\n",
    "    x = Descriptor()\n",
    "\n",
    "obj1 = MyClass1\n",
    "obj1.x"
   ]
  },
  {
   "cell_type": "code",
   "execution_count": 4,
   "metadata": {},
   "outputs": [
    {
     "name": "stdout",
     "output_type": "stream",
     "text": [
      "called x\n"
     ]
    },
    {
     "data": {
      "text/plain": [
       "42"
      ]
     },
     "execution_count": 4,
     "metadata": {},
     "output_type": "execute_result"
    }
   ],
   "source": [
    "class MyClass:\n",
    "    @property\n",
    "    def x(self):\n",
    "        print(\"called x\")\n",
    "        return 42\n",
    "\n",
    "obj = MyClass()\n",
    "obj.x"
   ]
  }
 ],
 "metadata": {
  "kernelspec": {
   "display_name": "ml_torch",
   "language": "python",
   "name": "python3"
  },
  "language_info": {
   "codemirror_mode": {
    "name": "ipython",
    "version": 3
   },
   "file_extension": ".py",
   "mimetype": "text/x-python",
   "name": "python",
   "nbconvert_exporter": "python",
   "pygments_lexer": "ipython3",
   "version": "3.9.21"
  }
 },
 "nbformat": 4,
 "nbformat_minor": 2
}
