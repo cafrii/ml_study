{
 "cells": [
  {
   "cell_type": "markdown",
   "id": "235738c9",
   "metadata": {},
   "source": [
    "https://docs.pytorch.org/docs/stable/nn.functional.html\n",
    "\n",
    "docs/torch.nn.functional"
   ]
  },
  {
   "cell_type": "markdown",
   "id": "f9af8e77",
   "metadata": {},
   "source": [
    "## Convolution functions\n",
    "\n",
    "### torch.nn.functional.unfold\n",
    "https://runebook.dev/ko/docs/pytorch/generated/torch.nn.functional.unfold\n",
    "\n",
    "torch.nn.functional.unfold ( 입력 , 커널 크기 , 팽창 = 1 , 패딩 = 0 , 스트라이드 = 1 )\n",
    "- 일괄 처리된 입력 텐서에서 슬라이딩 로컬 블록을 추출합니다.\n",
    "\n",
    "경고\n",
    "- 현재는 4차원 입력 텐서(배치된 이미지 유사 텐서)만 지원됩니다.\n",
    "\n",
    "경고\n",
    "- 펼쳐진 텐서의 두 개 이상의 요소가 단일 메모리 위치를 참조할 수 있습니다. 따라서 제자리 연산(특히 벡터화된 연산)이 잘못된 동작을 초래할 수 있습니다. \n",
    "- 텐서에 데이터를 작성해야 하는 경우 먼저 텐서를 복제하세요.\n",
    "\n",
    "자세한 내용은 torch.nn.Unfold 을 참조하세요\n",
    "\n",
    "반환 유형: 텐서"
   ]
  },
  {
   "cell_type": "markdown",
   "id": "a0a84068",
   "metadata": {},
   "source": [
    "\n",
    "## Pooling functions\n",
    "Attention Mechanisms\n",
    "\n",
    "Non-linear activation functions\n",
    "\n",
    "Linear functions\n",
    "\n",
    "Dropout functions\n",
    "\n",
    "Sparse functions\n",
    "\n",
    "Distance functions\n",
    "\n",
    "Loss functions\n",
    "\n",
    "Vision functions\n",
    "\n",
    "DataParallel functions (multi-GPU, distributed)"
   ]
  }
 ],
 "metadata": {
  "language_info": {
   "name": "python"
  }
 },
 "nbformat": 4,
 "nbformat_minor": 5
}
