{
 "cells": [
  {
   "cell_type": "markdown",
   "id": "0bf7df9e",
   "metadata": {},
   "source": [
    "https://docs.pytorch.org/docs/stable/torch.html#\n",
    "\n",
    "docs/torch\n",
    "\n",
    "이 폴더에 정리된 내용 보다 아래 site 의 내용을 참고하는 것이 더 좋다.\n",
    "- https://runebook.dev/ko/docs/pytorch/-index-"
   ]
  },
  {
   "cell_type": "code",
   "execution_count": 2,
   "id": "a72cbdaa",
   "metadata": {},
   "outputs": [
    {
     "data": {
      "text/plain": [
       "'2.6.0'"
      ]
     },
     "execution_count": 2,
     "metadata": {},
     "output_type": "execute_result"
    }
   ],
   "source": [
    "import torch\n",
    "torch.__version__"
   ]
  },
  {
   "cell_type": "markdown",
   "id": "46f3f586",
   "metadata": {},
   "source": [
    "\n",
    "# Tensors\n",
    "\n",
    "## Creating Ops\n",
    "\n",
    "\n"
   ]
  },
  {
   "cell_type": "markdown",
   "id": "573d0fa2",
   "metadata": {},
   "source": [
    "## Indexing, Slicing, Joining, Mutating Ops\n",
    "\n",
    "- adjoint\n",
    "- argwhere\n",
    "- cat\n",
    "- concat\n",
    "- concatenate\n",
    "- conj\n",
    "- chunk\n",
    "- dsplit\n",
    "- column_stack\n",
    "- dstack\n",
    "- gather\n",
    "- hsplit\n",
    "- hstack\n",
    "- index_add\n",
    "- index_copy\n",
    "- index_reduce\n",
    "- index_select\n",
    "- masked_select\n",
    "- movedim\n",
    "- moveaxis\n",
    "- narrow\n",
    "- narrow_copy\n",
    "- nonzero\n",
    "- permute\n",
    "- reshape\n",
    "- row_stack\n",
    "- select\n",
    "- scatter\n",
    "- diagonal_scatter\n",
    "- select_scatter\n",
    "- slice_scatter\n",
    "- scatter_add\n",
    "- scatter_reduce\n",
    "- split\n",
    "- squeeze\n",
    "- stack\n",
    "- swapaxes\n",
    "- swapdims\n",
    "- t\n",
    "- take\n",
    "- take_along_dim\n",
    "- tensor_split\n",
    "- tile\n",
    "- transpose\n",
    "- unbind\n",
    "- unravel_index\n",
    "\n"
   ]
  },
  {
   "cell_type": "markdown",
   "id": "e80cf064",
   "metadata": {},
   "source": [
    "### unsqueeze\n"
   ]
  },
  {
   "cell_type": "code",
   "execution_count": null,
   "id": "d407bb7e",
   "metadata": {},
   "outputs": [
    {
     "name": "stdout",
     "output_type": "stream",
     "text": [
      "tensor([[1, 2, 3, 4]])\n",
      "tensor([[1],\n",
      "        [2],\n",
      "        [3],\n",
      "        [4]])\n",
      "tensor([[1],\n",
      "        [2],\n",
      "        [3],\n",
      "        [4]])\n",
      "tensor([[1, 2, 3, 4]])\n"
     ]
    }
   ],
   "source": [
    "x = torch.tensor([1, 2, 3, 4])\n",
    "\n",
    "print(torch.unsqueeze(x, 0))\n",
    "# tensor([[ 1,  2,  3,  4]])\n",
    "\n",
    "print(torch.unsqueeze(x, 1))\n",
    "\n",
    "print(torch.unsqueeze(x, -1)) # 끝에서부터 카운팅. -1은 가장 마지막 차원.\n",
    "print(torch.unsqueeze(x, -2))"
   ]
  },
  {
   "cell_type": "markdown",
   "id": "5d247f5b",
   "metadata": {},
   "source": [
    "\n",
    "- vsplit\n",
    "- vstack\n",
    "- where\n"
   ]
  },
  {
   "cell_type": "markdown",
   "id": "dee8b7e5",
   "metadata": {},
   "source": [
    "----\n"
   ]
  },
  {
   "cell_type": "markdown",
   "id": "ee876d57",
   "metadata": {},
   "source": [
    "Accelerators\n",
    "Generators\n",
    "Random sampling\n",
    "Serialization\n",
    "Parallelism\n",
    "Locally disabling gradient computation\n",
    "Math operations\n",
    "Utilities\n",
    "Symbolic Numbers\n",
    "Export Path\n",
    "Control Flow\n",
    "Optimizations\n",
    "Operator Tags"
   ]
  }
 ],
 "metadata": {
  "kernelspec": {
   "display_name": "ml_torch",
   "language": "python",
   "name": "python3"
  },
  "language_info": {
   "codemirror_mode": {
    "name": "ipython",
    "version": 3
   },
   "file_extension": ".py",
   "mimetype": "text/x-python",
   "name": "python",
   "nbconvert_exporter": "python",
   "pygments_lexer": "ipython3",
   "version": "3.13.3"
  }
 },
 "nbformat": 4,
 "nbformat_minor": 5
}
