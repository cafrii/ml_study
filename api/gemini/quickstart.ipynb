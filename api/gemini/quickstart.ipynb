{
 "cells": [
  {
   "cell_type": "markdown",
   "id": "28abd81c",
   "metadata": {},
   "source": [
    "# 빠른 시작\n",
    "\n",
    "https://ai.google.dev/gemini-api/docs/quickstart?hl=ko&lang=python\n"
   ]
  },
  {
   "cell_type": "markdown",
   "id": "fcc2c1b6",
   "metadata": {},
   "source": [
    "## Gemini API 라이브러리 설치"
   ]
  },
  {
   "cell_type": "code",
   "execution_count": 4,
   "id": "03900de7",
   "metadata": {},
   "outputs": [],
   "source": [
    "!pip install -qU pip\n",
    "!pip install -qU google-genai python-dotenv"
   ]
  },
  {
   "cell_type": "code",
   "execution_count": 5,
   "id": "695234e8",
   "metadata": {},
   "outputs": [],
   "source": [
    "!pip install -q pillow\n",
    "from PIL import Image\n"
   ]
  },
  {
   "cell_type": "markdown",
   "id": "749f6bfd",
   "metadata": {},
   "source": [
    "## 첫 번째 요청하기"
   ]
  },
  {
   "cell_type": "code",
   "execution_count": 10,
   "id": "c98f688e",
   "metadata": {},
   "outputs": [],
   "source": [
    "\n",
    "import os, dotenv\n",
    "dotenv.load_dotenv()\n",
    "GEMINI_API_KEY = os.getenv(\"GEMINI_API_KEY\")\n",
    "# GEMINI_API_KEY # 이 출력 결과도 커밋이 되지 않도록 해야 함."
   ]
  },
  {
   "cell_type": "code",
   "execution_count": 11,
   "id": "e1456f5c",
   "metadata": {},
   "outputs": [
    {
     "data": {
      "text/plain": [
       "<google.genai.client.Client at 0x115009450>"
      ]
     },
     "execution_count": 11,
     "metadata": {},
     "output_type": "execute_result"
    }
   ],
   "source": [
    "# 기본 동작 확인하기\n",
    "# https://ai.google.dev/gemini-api/docs?hl=ko\n",
    "\n",
    "from google import genai\n",
    "\n",
    "client = genai.Client(api_key=GEMINI_API_KEY)\n",
    "client"
   ]
  },
  {
   "cell_type": "code",
   "execution_count": 8,
   "id": "62537133",
   "metadata": {},
   "outputs": [
    {
     "name": "stdout",
     "output_type": "stream",
     "text": [
      "AI uses algorithms to learn from data, identify patterns, and make predictions or decisions.\n",
      "\n"
     ]
    }
   ],
   "source": [
    "# 기본 동작 확인하기\n",
    "# https://ai.google.dev/gemini-api/docs?hl=ko\n",
    "\n",
    "from google import genai\n",
    "\n",
    "client = genai.Client(api_key=GEMINI_API_KEY)\n",
    "\n",
    "response = client.models.generate_content(\n",
    "    model=\"gemini-2.0-flash\",\n",
    "    contents=\"Explain how AI works in 30 or smaller words\",\n",
    ")\n",
    "\n",
    "print(response.text)"
   ]
  },
  {
   "cell_type": "code",
   "execution_count": 9,
   "id": "9ae9ebd6",
   "metadata": {},
   "outputs": [
    {
     "name": "stdout",
     "output_type": "stream",
     "text": [
      "14\n"
     ]
    }
   ],
   "source": [
    "print(len(response.text.split()))"
   ]
  },
  {
   "cell_type": "markdown",
   "id": "0908eb89",
   "metadata": {},
   "source": [
    "- 사용량 자체는 무제한 이지만, rate 제한이 있음.\n",
    "- 각 모델 별 rate limit 보기\n",
    "  - https://aistudio.google.com/plan_information"
   ]
  },
  {
   "cell_type": "code",
   "execution_count": 13,
   "id": "04c02ed6",
   "metadata": {},
   "outputs": [],
   "source": [
    "# !pip freeze"
   ]
  }
 ],
 "metadata": {
  "kernelspec": {
   "display_name": "ml_gemini",
   "language": "python",
   "name": "python3"
  },
  "language_info": {
   "codemirror_mode": {
    "name": "ipython",
    "version": 3
   },
   "file_extension": ".py",
   "mimetype": "text/x-python",
   "name": "python",
   "nbconvert_exporter": "python",
   "pygments_lexer": "ipython3",
   "version": "3.13.2"
  }
 },
 "nbformat": 4,
 "nbformat_minor": 5
}
