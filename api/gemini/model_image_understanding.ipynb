{
 "cells": [
  {
   "cell_type": "markdown",
   "id": "d0210c15",
   "metadata": {},
   "source": [
    "# 이미지 이해\n",
    "\n",
    "https://ai.google.dev/gemini-api/docs/image-understanding?hl=ko"
   ]
  },
  {
   "cell_type": "markdown",
   "id": "a7087e57",
   "metadata": {},
   "source": []
  },
  {
   "cell_type": "code",
   "execution_count": 1,
   "id": "8647e151",
   "metadata": {},
   "outputs": [],
   "source": [
    "!pip install -q google-genai python-dotenv"
   ]
  },
  {
   "cell_type": "code",
   "execution_count": 2,
   "id": "af7cb341",
   "metadata": {},
   "outputs": [],
   "source": [
    "!pip install -q pillow\n",
    "from PIL import Image"
   ]
  },
  {
   "cell_type": "code",
   "execution_count": 3,
   "id": "becc6f57",
   "metadata": {},
   "outputs": [],
   "source": [
    "# 키 로딩\n",
    "import os, dotenv\n",
    "dotenv.load_dotenv()\n",
    "GEMINI_API_KEY = os.getenv(\"GEMINI_API_KEY\")\n",
    "# GEMINI_API_KEY # 이 출력 결과도 커밋이 되지 않도록 해야 함."
   ]
  },
  {
   "cell_type": "markdown",
   "id": "8ebe6555",
   "metadata": {},
   "source": []
  },
  {
   "cell_type": "markdown",
   "id": "37473ef9",
   "metadata": {},
   "source": [
    "## 이미지 입력\n",
    "\n",
    "다음과 같은 방법으로 Gemini에 이미지를 입력으로 제공할 수 있습니다.\n",
    "\n",
    "generateContent 에 요청하기 전에, File API 를 사용하여 이미지 파일을 업로드하세요. 20MB가 넘는 파일이나 여러 요청에 걸쳐 파일을 재사용하려는 경우 이 방법을 사용하세요.\n",
    "요청과 함께 인라인 이미지 데이터를 전달합니다generateContent . 이 방법은 작은 파일(총 요청 크기가 20MB 미만)이나 URL에서 직접 가져온 이미지에 사용하세요.\n",
    "\n",
    "\n",
    "### 이미지 파일 업로드\n",
    "\n",
    "- Files API를 사용하여 이미지 파일을 업로드할 수 있습니다. \n",
    "- 총 요청 크기 (파일, 텍스트 프롬프트, 시스템 안내 등 포함)가 \"20MB를 초과\"하거나, 여러 프롬프트에서 동일한 이미지를 사용할 계획인 경우 항상 Files API를 사용하세요."
   ]
  },
  {
   "cell_type": "code",
   "execution_count": null,
   "id": "dd2611ec",
   "metadata": {},
   "outputs": [],
   "source": [
    "from google import genai\n",
    "client = genai.Client(api_key=GEMINI_API_KEY)\n",
    "\n",
    "my_file = client.files.upload(file=\"cat.jpg\")\n",
    "response = client.models.generate_content(\n",
    "    model=\"gemini-2.0-flash\",\n",
    "    contents=[my_file, \"Caption this image.\"],\n",
    ")\n",
    "# ServerError: 503 UNAVAILABLE. {'error': {'code': 503, 'message': 'The model is overloaded. Please try again later.', 'status': 'UNAVAILABLE'}}\n",
    "\n",
    "print(response.text)"
   ]
  },
  {
   "cell_type": "markdown",
   "id": "ad9ca5b0",
   "metadata": {},
   "source": [
    "### 인라인으로 이미지 데이터 전달\n",
    "\n",
    "- 이미지 파일을 업로드하는 대신 요청에서 인라인 이미지 데이터를 generateContent에 전달할 수 있습니다. 이는 작은 이미지(총 요청 크기가 20MB 미만) 또는 URL에서 직접 가져온 이미지에 적합합니다.\n",
    "- 이미지 데이터를 Base64로 인코딩된 문자열로 제공하거나 로컬 파일을 직접 읽어서 제공할 수 있습니다 (SDK에 따라 다름)."
   ]
  },
  {
   "cell_type": "code",
   "execution_count": null,
   "id": "7c3b55cd",
   "metadata": {},
   "outputs": [],
   "source": [
    "# 로컬 이미지 파일\n",
    "from google.genai import types\n",
    "\n",
    "with open('path/to/small-sample.jpg', 'rb') as f:\n",
    "    image_bytes = f.read()\n",
    "\n",
    "response = client.models.generate_content(\n",
    "model='gemini-2.0-flash',\n",
    "contents=[\n",
    "    types.Part.from_bytes(\n",
    "    data=image_bytes,\n",
    "    mime_type='image/jpeg',\n",
    "    ),\n",
    "    'Caption this image.'\n",
    "]\n",
    ")\n",
    "\n",
    "print(response.text)"
   ]
  },
  {
   "cell_type": "code",
   "execution_count": null,
   "id": "91eaf145",
   "metadata": {},
   "outputs": [],
   "source": [
    "# URL 이미지\n",
    "from google import genai\n",
    "from google.genai import types\n",
    "\n",
    "import requests\n",
    "\n",
    "image_path = \"https://goo.gle/instrument-img\"\n",
    "image_bytes = requests.get(image_path).content\n",
    "image = types.Part.from_bytes(\n",
    "  data=image_bytes, mime_type=\"image/jpeg\"\n",
    ")\n",
    "\n",
    "client = genai.Client(api_key=\"GOOGLE_API_KEY\")\n",
    "response = client.models.generate_content(\n",
    "    model=\"gemini-2.0-flash-exp\",\n",
    "    contents=[\"What is this image?\", image],\n",
    ")\n",
    "print(response.text)"
   ]
  },
  {
   "cell_type": "markdown",
   "id": "8bc14dfb",
   "metadata": {},
   "source": [
    "## 여러 이미지를 사용한 프롬프트\n",
    "\n",
    "contents 배열에 여러 이미지 Part 객체를 포함하여 단일 프롬프트에 여러 이미지를 제공할 수 있습니다. 인라인 데이터(로컬 파일 또는 URL)와 File API 참조가 혼합될 수 있습니다."
   ]
  },
  {
   "cell_type": "code",
   "execution_count": null,
   "id": "f1508f68",
   "metadata": {},
   "outputs": [],
   "source": [
    "from google import genai\n",
    "from google.genai import types\n",
    "\n",
    "client = genai.Client(api_key=\"GOOGLE_API_KEY\")\n",
    "\n",
    "# Upload the first image\n",
    "image1_path = \"path/to/image1.jpg\"\n",
    "uploaded_file = client.files.upload(file=image1_path)\n",
    "\n",
    "# Prepare the second image as inline data\n",
    "image2_path = \"path/to/image2.png\"\n",
    "with open(image2_path, 'rb') as f:\n",
    "    img2_bytes = f.read()\n",
    "\n",
    "# Create the prompt with text and multiple images\n",
    "response = client.models.generate_content(\n",
    "    model=\"gemini-2.0-flash\",\n",
    "    contents=[\n",
    "        \"What is different between these two images?\",\n",
    "        uploaded_file,  # Use the uploaded file reference\n",
    "        types.Part.from_bytes(\n",
    "            data=img2_bytes,\n",
    "            mime_type='image/png'\n",
    "        )\n",
    "    ]\n",
    ")\n",
    "print(response.text)"
   ]
  },
  {
   "cell_type": "markdown",
   "id": "a29be746",
   "metadata": {},
   "source": [
    "## 객체의 경계 상자 가져오기\n",
    "\n",
    "Gemini 모델은 이미지에서 객체를 식별하고 경계 상자 좌표를 제공하도록 학습됩니다. 좌표는 이미지 크기를 기준으로 반환되며 [0, 1000]으로 크기가 조정됩니다. 원본 이미지 크기에 따라 이러한 좌표의 크기를 조정해야 합니다."
   ]
  },
  {
   "cell_type": "code",
   "execution_count": null,
   "id": "8eeca127",
   "metadata": {},
   "outputs": [],
   "source": [
    "prompt = \"Detect the all of the prominent items in the image. The box_2d should be [ymin, xmin, ymax, xmax] normalized to 0-1000.\""
   ]
  },
  {
   "cell_type": "markdown",
   "id": "a9122945",
   "metadata": {},
   "source": [
    "## 이미지 분할 (segmentation)\n",
    "\n",
    "Gemini 2.5 모델부터, Gemini 모델은 항목을 감지할 뿐만 아니라 항목을 분할하고 윤곽의 마스크를 제공하도록 학습됩니다.\n",
    "\n",
    "모델은 각 항목이 세분화 마스크를 나타내는 JSON 목록을 예측합니다. 각 항목에는 0~1000 사이의 정규화된 좌표를 갖는 [y0, x0, y1, x1] 형식의 경계 상자('box_2d'), 객체를 식별하는 라벨('label'), 마지막으로 경계 상자 내부의 분할 마스크(값이 0~255 사이인 확률 맵인 base64 인코딩된 png)가 있습니다. 마스크의 크기를 경계 상자 크기와 일치하도록 조정한 다음 신뢰도 임계값 (중점의 경우 127)에서 바이너리화해야 합니다."
   ]
  },
  {
   "cell_type": "code",
   "execution_count": null,
   "id": "33f5c35d",
   "metadata": {},
   "outputs": [],
   "source": [
    "prompt = \"\"\"\n",
    "  Give the segmentation masks for the wooden and glass items.\n",
    "  Output a JSON list of segmentation masks where each entry contains the 2D\n",
    "  bounding box in the key \"box_2d\", the segmentation mask in key \"mask\", and\n",
    "  the text label in the key \"label\". Use descriptive labels.\n",
    "\"\"\""
   ]
  },
  {
   "cell_type": "markdown",
   "id": "aa1c3947",
   "metadata": {},
   "source": [
    "## 이미지에 관한 기술 세부정보\n",
    "- 파일 한도: Gemini 2.5 Pro, 2.0 Flash, 1.5 Pro, 1.5 Flash는 요청당 최대 3,600개의 이미지 파일을 지원합니다.\n",
    "- 토큰 계산:\n",
    "  - Gemini 1.5 Flash 및 Gemini 1.5 Pro:\n",
    "    - 두 크기가 모두 384픽셀 이하인 경우 258개 토큰\n",
    "    - 더 큰 이미지는 타일로 표시됨 (최소 타일 256px, 최대 768px, 768x768로 크기 조정). 각 타일은 258개의 토큰이 소요.\n",
    "  - Gemini 2.0 Flash:\n",
    "    - 두 측정기준이 모두 384픽셀 이하인 경우 258개 토큰 더 큰 이미지는 768x768픽셀 타일로 타일링되며, 각각 258개의 토큰이 소요.\n",
    "- 권장사항:\n",
    "  - 이미지가 올바르게 회전되었는지 확인합니다.\n",
    "  - 선명하고 흐릿하지 않은 이미지를 사용하세요.\n",
    "  - 텍스트가 포함된 단일 이미지를 사용하는 경우 contents 배열의 이미지 부분 뒤에 텍스트 프롬프트를 배치합니다."
   ]
  },
  {
   "cell_type": "markdown",
   "id": "bc1583a7",
   "metadata": {},
   "source": [
    "끝"
   ]
  }
 ],
 "metadata": {
  "kernelspec": {
   "display_name": "ml_gemini",
   "language": "python",
   "name": "python3"
  },
  "language_info": {
   "codemirror_mode": {
    "name": "ipython",
    "version": 3
   },
   "file_extension": ".py",
   "mimetype": "text/x-python",
   "name": "python",
   "nbconvert_exporter": "python",
   "pygments_lexer": "ipython3",
   "version": "3.13.2"
  }
 },
 "nbformat": 4,
 "nbformat_minor": 5
}
