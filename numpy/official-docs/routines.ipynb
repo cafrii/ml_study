{
 "cells": [
  {
   "cell_type": "markdown",
   "metadata": {},
   "source": [
    "# NumPy 레퍼런스 문서 / 배열 객체 / 반복\n",
    "\n",
    "https://numpy.org/doc/stable/reference/routines.html\n",
    "\n",
    "2025/3/17 최초 추가"
   ]
  },
  {
   "cell_type": "code",
   "execution_count": 1,
   "metadata": {},
   "outputs": [],
   "source": [
    "import numpy as np"
   ]
  },
  {
   "cell_type": "markdown",
   "metadata": {},
   "source": [
    "## Array Creation\n",
    "\n",
    "### empty()\n",
    "\n",
    "### ones()\n",
    "\n",
    "### ones_like()\n"
   ]
  },
  {
   "cell_type": "code",
   "execution_count": 2,
   "metadata": {},
   "outputs": [
    {
     "data": {
      "text/plain": [
       "(array([1., 1., 1., 1., 1.]),\n",
       " array([1, 1, 1, 1, 1]),\n",
       " array([[1.],\n",
       "        [1.]]),\n",
       " array([[1., 1.],\n",
       "        [1., 1.]]))"
      ]
     },
     "execution_count": 2,
     "metadata": {},
     "output_type": "execute_result"
    }
   ],
   "source": [
    "a1 = np.ones(5)\n",
    "# array([1., 1., 1., 1., 1.])\n",
    "a2 = np.ones((5,), dtype=int)\n",
    "# array([1, 1, 1, 1, 1])\n",
    "a3 = np.ones((2, 1))\n",
    "# array([[1.],\n",
    "#        [1.]])\n",
    "a4 = np.ones((2, 2))\n",
    "# array([[1.,  1.],\n",
    "#        [1.,  1.]])\n",
    "a1, a2, a3, a4"
   ]
  },
  {
   "cell_type": "markdown",
   "metadata": {},
   "source": [
    "## Array Manipulation\n",
    "\n",
    "### reshape()\n",
    "- shape\n",
    "  - int 또는 정수의 튜플\n",
    "    - 새 모양은 원래 모양과 호환되어야 합니다. \n",
    "    - 정수인 경우, 결과는 해당 길이의 1-D 배열이 됩니다. \n",
    "    - 튜플 디멘전 중 하나는 -1일 수 있습니다. 이 경우 배열의 길이와 나머지 치수에서 값을 유추합니다.\n",
    "\n"
   ]
  },
  {
   "cell_type": "code",
   "execution_count": null,
   "metadata": {},
   "outputs": [
    {
     "name": "stdout",
     "output_type": "stream",
     "text": [
      "[[0 1]\n",
      " [2 3]\n",
      " [4 5]]\n",
      "[[0 1 2]\n",
      " [3 4 5]]\n",
      "[[0 1 2]\n",
      " [3 4 5]]\n",
      "[[0 4 3]\n",
      " [2 1 5]]\n",
      "[[0 4 3]\n",
      " [2 1 5]]\n"
     ]
    }
   ],
   "source": [
    "import numpy as np\n",
    "a = np.arange(6).reshape((3, 2))\n",
    "print(a)\n",
    "\n",
    "print(np.reshape(a, (2, 3))) # C-like index ordering\n",
    "print(np.reshape(np.ravel(a), (2, 3)))  # equivalent to C ravel then C reshape\n",
    "print(np.reshape(a, (2, 3), order='F'))  # Fortran-like index ordering\n",
    "print(np.reshape(np.ravel(a, order='F'), (2, 3), order='F'))\n",
    "\n",
    "# ?? ravel 이 뭔가??"
   ]
  },
  {
   "cell_type": "code",
   "execution_count": 5,
   "metadata": {},
   "outputs": [
    {
     "name": "stdout",
     "output_type": "stream",
     "text": [
      "[[1 2 3]\n",
      " [4 5 6]]\n",
      "[1 2 3 4 5 6]\n",
      "[1 4 2 5 3 6]\n",
      "[[1 2]\n",
      " [3 4]\n",
      " [5 6]]\n"
     ]
    }
   ],
   "source": [
    "import numpy as np\n",
    "a = np.array([[1,2,3], [4,5,6]])\n",
    "print(a)\n",
    "\n",
    "print(np.reshape(a, 6))\n",
    "# array([1, 2, 3, 4, 5, 6])\n",
    "print(np.reshape(a, 6, order='F'))\n",
    "# array([1, 4, 2, 5, 3, 6])\n",
    "\n",
    "print(np.reshape(a, (3,-1)))       # the unspecified value is inferred to be 2"
   ]
  },
  {
   "cell_type": "markdown",
   "metadata": {},
   "source": [
    "## Indexing\n",
    "https://numpy.org/doc/stable/reference/routines.indexing.html\n",
    "\n",
    "#### numpy.unravel_index(indices, shape, order='C')\n",
    "\n",
    "플랫 인덱스 또는 플랫 인덱스 배열을 좌표 배열 튜플로 변환합니다.\n",
    "\n",
    "> 주: 평탄화된 인덱스를 다차원 인덱스로 변환하는 것이다.\n",
    "\n",
    "- indices:\n",
    "  - 요소가 shape 차원의 배열의 평면화된 버전에 대한 인덱스인 정수 배열.\n",
    "  - 버전 1.6.0 이전에는 이 함수가 하나의 인덱스 값만 허용했습니다.\n",
    "- shape:\n",
    "  - indices를 풀어내는 데 사용할 배열의 shape\n",
    "\n",
    "\n",
    "\n",
    "\n",
    "\n",
    "\n",
    "\n"
   ]
  },
  {
   "cell_type": "code",
   "execution_count": null,
   "metadata": {},
   "outputs": [
    {
     "data": {
      "text/plain": [
       "(array([3, 6, 6]), array([4, 5, 1]))"
      ]
     },
     "execution_count": 10,
     "metadata": {},
     "output_type": "execute_result"
    }
   ],
   "source": [
    "import numpy as np\n",
    "\n",
    "np.unravel_index([22, 41, 37], (7,6))\n",
    "# (array([3, 6, 6]), array([4, 5, 1]))\n",
    "\n",
    "# 이건 함수를 세번 호출할 것을 한번에 호출하는 것과 다를바 없다.\n",
    "# np.unravel_index(22, (7,6)), np.unravel_index(41, (7,6)), ..\n",
    "# 단, 결과를 표현할 때에 형식이 좀 특이하니 주의."
   ]
  },
  {
   "cell_type": "code",
   "execution_count": null,
   "metadata": {},
   "outputs": [
    {
     "data": {
      "text/plain": [
       "(array([3, 6, 6]), array([4, 5, 1]))"
      ]
     },
     "execution_count": 11,
     "metadata": {},
     "output_type": "execute_result"
    }
   ],
   "source": [
    "np.unravel_index([31, 41, 13], (7,6), order='F')\n",
    "# (array([3, 6, 6]), array([4, 5, 1]))"
   ]
  },
  {
   "cell_type": "code",
   "execution_count": null,
   "metadata": {},
   "outputs": [
    {
     "name": "stdout",
     "output_type": "stream",
     "text": [
      "(3, 1, 4, 1)\n",
      "3 1 4 1\n"
     ]
    }
   ],
   "source": [
    "print(np.unravel_index(1621, (6,7,8,9)))\n",
    "# (3, 1, 4, 1)\n",
    "\n",
    "print(1621//9//8//7%6, 1621//9//8%7, 1621//9%8, 1621%9)\n",
    "# 3 1 4 1"
   ]
  },
  {
   "cell_type": "markdown",
   "metadata": {},
   "source": [
    "## Linear Algebra"
   ]
  },
  {
   "cell_type": "markdown",
   "metadata": {},
   "source": [
    "### dot\n",
    "\n",
    "https://numpy.org/doc/stable/reference/generated/numpy.dot.html#numpy.dot\n",
    "\n",
    "> 주: 이 dot product 함수는 참 많은 역할을 수행하는 복잡한 함수이다. 충분히 이해해 두어야 한다.\n",
    "\n",
    "두 배열의 도트 곱입니다. 구체적으로\n",
    "\n",
    "- a와 b가 모두 1-D 배열인 경우 벡터의 내적 곱입니다. (복잡한 공액(? conjugate) 없이).\n",
    "- a와 b가 모두 2-D 배열인 경우 행렬 곱셈이 되지만, `matmul` 또는 `a @ b`를 사용하는 것이 좋습니다.\n",
    "- a 또는 b가 0-D(스칼라)인 경우 `multiply()`와 같으며 `numpy.multiply(a, b)` 또는 `a * b`를 사용하는 것이 좋습니다.\n",
    "- a가 N차원 배열이고 b가 1-D 배열인 경우 a와 b의 마지막 축을 합(sum product)한 값입니다.\n",
    "- a가 N차원 배열이고 b가 M차원 배열(여기서 M>=2)인 경우, 아래 두 축의 sum-product 입니다.\n",
    "  - a의 마지막 축 (N번째 축)\n",
    "  - b의 마지막에서 두번째의 축 (M-1번째 축)  <- 이 조건이 중요하다!\n",
    "  - `dot(a, b)[i,j,k,m] = sum(a[i,j,:] * b[k,:,m])`\n",
    "\n",
    "리턴값\n",
    "- output: ndarray\n",
    "  - a 와 b 의 점곱 (dot product) 을 반환합니다.\n",
    "  - a 와 b 가 모두 스칼라이거나 모두 1차원 배열이면 스칼라가 반환됩니다. (1D 배열일 경우만 특별히 처리함)\n",
    "  - 그렇지 않으면 배열이 반환됩니다.\n",
    "  - 인자에 out이 주어지면 out이 반환됩니다.\n"
   ]
  },
  {
   "cell_type": "code",
   "execution_count": null,
   "metadata": {},
   "outputs": [
    {
     "name": "stdout",
     "output_type": "stream",
     "text": [
      "(-13+0j)\n",
      "[[4 1]\n",
      " [2 2]]\n"
     ]
    }
   ],
   "source": [
    "# import numpy as np\n",
    "print(np.dot([2j, 3j], [2j, 3j]))\n",
    "# (-13+0j)\n",
    "\n",
    "# For 2-D arrays it is the matrix product:\n",
    "a = [[1, 0], [0, 1]]\n",
    "b = [[4, 1], [2, 2]]\n",
    "print(np.dot(a, b))\n"
   ]
  },
  {
   "cell_type": "code",
   "execution_count": 44,
   "metadata": {},
   "outputs": [
    {
     "name": "stdout",
     "output_type": "stream",
     "text": [
      "shapes (2,) and (3,) not aligned: 2 (dim 0) != 3 (dim 0)\n",
      "normal multiply:\n",
      "[[3 6]\n",
      " [4 8]]\n",
      "dot product (1,2)·(2,1): [[11]]\n",
      "dot product (2,)·(2,): 11\n"
     ]
    }
   ],
   "source": [
    "# 연습\n",
    "\n",
    "# sum-product 하는 축의 길이는 동일해야 한다.\n",
    "try:\n",
    "    print(np.dot([1, 2], [3, 4, 5]))\n",
    "except Exception as e:\n",
    "    print(e)\n",
    "\n",
    "# 그냥 *\n",
    "print('normal multiply:\\n%s' % (np.array([[1, 2]]) * [[3],[4]]))  # (1,2) 와 (2,1) 의 스칼라곱\n",
    "print('dot product (1,2)·(2,1):', np.dot([[1, 2]], [[3],[4]] ))  # (1,2) 와 (2,1) 의 점곱\n",
    "print('dot product (2,)·(2,):', np.dot([1, 2], [3,4]))  # (2,) 와 (2,) 의 점곱\n",
    "\n"
   ]
  },
  {
   "cell_type": "code",
   "execution_count": null,
   "metadata": {},
   "outputs": [
    {
     "name": "stdout",
     "output_type": "stream",
     "text": [
      "[[[ 0  1  2  3]\n",
      "  [ 4  5  6  7]\n",
      "  [ 8  9 10 11]]\n",
      "\n",
      " [[12 13 14 15]\n",
      "  [16 17 18 19]\n",
      "  [20 21 22 23]]] <--- t2\n",
      "[[[12 13]\n",
      "  [14 15]\n",
      "  [16 17]\n",
      "  [18 19]]\n",
      "\n",
      " [[20 21]\n",
      "  [22 23]\n",
      "  [ 0  1]\n",
      "  [ 2  3]]\n",
      "\n",
      " [[ 4  5]\n",
      "  [ 6  7]\n",
      "  [ 8  9]\n",
      "  [10 11]]] <--- t3\n",
      "\n",
      " t2[1,0,:]=[12 13 14 15], t3[0,:,1]=[ 5  7  9 11]\n",
      "442\n",
      "442\n"
     ]
    }
   ],
   "source": [
    "### 연습\n",
    "t2 = np.arange(2*3*4).reshape((2,3,4))\n",
    "print(t2,'<--- t2')\n",
    "t3 = t2[::-1].reshape(3,4,2)\n",
    "print(t3,'<--- t3')\n",
    "\n",
    "t21 = t2[1,0,:]\n",
    "t31 = t3[2,:,1]\n",
    "print(f'\\n t2[1,0,:]={t21}, t3[2,:,1]={t31}')\n",
    "\n",
    "print(sum(t21 * t31))\n",
    "print(np.dot(t2, t3)[1,0,2,1])  # t2 의 1,0 인덱스, t3 의 2,1 인덱스"
   ]
  },
  {
   "cell_type": "code",
   "execution_count": 25,
   "metadata": {},
   "outputs": [
    {
     "name": "stdout",
     "output_type": "stream",
     "text": [
      "499128\n",
      "499128\n"
     ]
    }
   ],
   "source": [
    "a = np.arange(3*4*5*6).reshape((3,4,5,6))\n",
    "b = np.arange(3*4*5*6)[::-1].reshape((5,4,6,3))\n",
    "# a, b 자체의 차원이나 크기는 중요하진 않고, a 마지막 축의 크기 6, b의 끝에서 두번째 축인 6이 같기만 하면 된다.\n",
    "print(np.dot(a, b)[2,3,2,1,2,2])\n",
    "print(sum(a[2,3,2,:] * b[1,2,:,2]))\n"
   ]
  },
  {
   "cell_type": "code",
   "execution_count": null,
   "metadata": {},
   "outputs": [
    {
     "name": "stdout",
     "output_type": "stream",
     "text": [
      "32 <class 'numpy.int64'> ()\n",
      "[[32]] <class 'numpy.ndarray'> (1, 1)\n"
     ]
    }
   ],
   "source": [
    "# 결과값이 squeeze 되는 지 시험\n",
    "a = [1,2,3]\n",
    "b = [4,5,6]\n",
    "c = np.dot(a, b)\n",
    "print(c, type(c), c.shape) # shape이 (), 즉 scalar 이다! (1,) 이 아니다!\n",
    "# 오직 1-d array 인 경우에만 차원 축소(squeeze?) 가 일어난다.\n",
    "\n",
    "a = [[1,2,3]]\n",
    "b = [[4],[5],[6]]\n",
    "c = np.dot(a, b)\n",
    "print(c, type(c), c.shape) # shape (1,1)"
   ]
  },
  {
   "cell_type": "code",
   "execution_count": 32,
   "metadata": {},
   "outputs": [
    {
     "name": "stdout",
     "output_type": "stream",
     "text": [
      "[[11]]\n",
      "(1, 1)\n"
     ]
    }
   ],
   "source": [
    "A = np.array([[1, 2]])\n",
    "B = np.array([[3],\n",
    "              [4]])\n",
    "\n",
    "result = np.dot(A, B)\n",
    "print(result)       # 출력: 11\n",
    "print(result.shape) # 출력: ()"
   ]
  },
  {
   "cell_type": "markdown",
   "metadata": {},
   "source": [
    "## Mathematical functions"
   ]
  },
  {
   "cell_type": "markdown",
   "metadata": {},
   "source": [
    "https://numpy.org/doc/stable/reference/generated/numpy.multiply.html#numpy.multiply\n",
    "\n",
    "#### numpy.multiply ( x1 , x2 .. )\n",
    "\n",
    "- x1, x2 : array_like\n",
    "  - 곱하기 연산을 적용 할 입력 배열.\n",
    "`x1.shape != x2.shape` 이면 공통 모양으로 브로드캐스트 가능해야 합니다.\n",
    "\n",
    "// Equivalent to x1 * x2 in terms of array broadcasting. <br>\n",
    "array 브로드캐스팅 측면에서는 x1 * x2와 동일합니다."
   ]
  },
  {
   "cell_type": "code",
   "execution_count": 1,
   "metadata": {},
   "outputs": [
    {
     "data": {
      "text/plain": [
       "8.0"
      ]
     },
     "execution_count": 1,
     "metadata": {},
     "output_type": "execute_result"
    }
   ],
   "source": [
    "import numpy as np\n",
    "\n",
    "np.multiply(2.0, 4.0)"
   ]
  },
  {
   "cell_type": "code",
   "execution_count": null,
   "metadata": {},
   "outputs": [
    {
     "name": "stdout",
     "output_type": "stream",
     "text": [
      "[[2 3 4]\n",
      " [5 6 7]]\n",
      "[0 1 2]\n",
      "[[ 0  3  8]\n",
      " [ 0  6 14]]\n"
     ]
    }
   ],
   "source": [
    "x1 = np.arange(2,8).reshape((2, 3))\n",
    "x2 = np.arange(3)\n",
    "print(x1)\n",
    "print(x2)\n",
    "print(np.multiply(x1, x2))\n",
    "# x2 는 shape 이 (3,) 인데, 이것이 (2,3) 으로 브로드캐스팅 확장된다.\n",
    "# 즉, [[0,1,2],[0,1,2]] 이 된다."
   ]
  },
  {
   "cell_type": "code",
   "execution_count": 6,
   "metadata": {},
   "outputs": [
    {
     "name": "stdout",
     "output_type": "stream",
     "text": [
      "[[ 0  3  8]\n",
      " [ 0  6 14]]\n"
     ]
    }
   ],
   "source": [
    "print(x1 * x2)"
   ]
  },
  {
   "cell_type": "markdown",
   "metadata": {},
   "source": [
    "#### numpy.sum(a, axis=None, dtype=None, ..)\n",
    "https://numpy.org/doc/stable/reference/generated/numpy.sum.html#\n",
    "\n",
    "주어진 축 위에서 배열 요소의 합\n",
    "\n",
    "- axis: None 또는 int 또는 int 튜플\n",
    "  - 합산이 수행되는 축 또는 축들. 기본값인 axis=None 은 입력 배열의 모든 요소를 ​​합산 합니다. axis가 음수이면 마지막 축에서 거꾸로 셈하여 축을 결정합니다. axis가 int 의 튜플이면 튜플에 지정된 축들에서 합산이 수행됩니다.\n",
    "- where: array_like 의 부울, 선택 사항\n",
    "  - 합계에 포함할 요소의 선택. 자세한 내용은 reduce() 참고.\n",
    "\n",
    "출력\n",
    "- 축을 따라 합산: ndarray\n",
    "  - a 와 같은 shape의 배열에서 지정한 축이 제거된 배열. a 가 0차원 배열이거나 axis 가 None 인 경우 스칼라가 반환됩니다. 출력 배열이 지정된 경우 out 에 대한 참조가 반환됩니다.\n",
    "  - 주: a 가 1차원 배열이어도 그 결과는 0차원, 즉 스칼라가 반환된다."
   ]
  },
  {
   "cell_type": "code",
   "execution_count": null,
   "metadata": {},
   "outputs": [
    {
     "name": "stdout",
     "output_type": "stream",
     "text": [
      "0.0\n",
      "2.0\n",
      "1\n",
      "6\n",
      "[0 6]\n",
      "[1 5]\n",
      "[ 3. 15.]\n",
      "-127\n",
      "129\n",
      "15\n"
     ]
    }
   ],
   "source": [
    "import numpy as np\n",
    "\n",
    "print(np.sum([]))\n",
    "# 0\n",
    "print(np.sum([0.5, 1.5]))\n",
    "# 2.0\n",
    "print(np.sum([0.5, 0.7, 0.2, 1.5], dtype=np.int32))\n",
    "# np.int32(1)\n",
    "print(np.sum([[0, 1], [0, 5]])) # 0+1+0+5\n",
    "# 6\n",
    "print(np.sum([[0, 1], [0, 5]], axis=0)) # [0+0 1+5]\n",
    "# array([0, 6])\n",
    "print(np.sum([[0, 1], [0, 5]], axis=1)) # [0+1 0+5]\n",
    "# array([1, 5])\n",
    "\n",
    "print(np.sum([[0, 1, 2], [np.nan, 5, 10]], where=[False, True, True], axis=1))\n",
    "# array([3., 15.])\n",
    "\n",
    "print(np.ones(129, dtype=np.int8).sum(dtype=np.int8)) # 어큐뮬레이터가 너무 작으면 오버플로가 발생\n",
    "# np.int8(-127)\n",
    "print(np.ones(129, dtype=np.int8).sum()) # sum 계산할 때에는 원본 array의 dtype이 중요하지 않음.\n",
    "# 129\n",
    "print(np.sum([10], initial=5)) # 0이 아닌 다른 값으로 합계 를 시작할 수도 있음\n",
    "# 15"
   ]
  },
  {
   "cell_type": "markdown",
   "metadata": {},
   "source": [
    "## Random sampling\n",
    "\n",
    "### 빠른 시작\n",
    "내용 생략"
   ]
  },
  {
   "cell_type": "code",
   "execution_count": null,
   "metadata": {},
   "outputs": [
    {
     "name": "stdout",
     "output_type": "stream",
     "text": [
      "0.04125644899826042\n",
      "[ 0.10287125 -2.44849042  0.90083934 -0.76525859  0.66923428  0.57636048\n",
      "  0.4733567   0.72638212  0.80919941  0.06787301]\n",
      "[9 9 9 5 7]\n"
     ]
    }
   ],
   "source": [
    "import numpy as np\n",
    "rng = np.random.default_rng()\n",
    "# 일반적인 사용법은, 이렇게 랜덤 생성기를 먼저 만든 후, 그 생성기로부터 랜덤 값들을 뽑아내는 것임.\n",
    "# 랜덤 생성기 '의사 난수 생성기'에는 seed 지정 가능한데, 지정하지 않으면 그 역시 default_rng 로부터 무작위 지정됨.\n",
    "\n",
    "# [0, 1) 사이의 균등 분포에서 랜덤 실수 생성\n",
    "print(rng.random())\n",
    "\n",
    "# 10개의 랜덤 값을 추출하여 리스트로 리턴. 가우시안 표준 분포.\n",
    "print(rng.standard_normal(10))\n",
    "# array([-0.31018314, -1.8922078 , -0.3628523 , -0.63526532,  0.43181166,  # may vary\n",
    "#         0.51640373,  1.25693945,  0.07779185,  0.84090247, -2.13406828])\n",
    "\n",
    "# Generate an array of 5 integers uniformly over the range [0, 10)\n",
    "print(rng.integers(low=0, high=10, size=5))"
   ]
  },
  {
   "cell_type": "markdown",
   "metadata": {},
   "source": [
    "#### random.normal(loc=0.0, scale=1.0, size=None)\n",
    "- loc: 평균\n",
    "- scale: 표준편차\n",
    "- size: 출력 shape. 타입은 int 또는 tuple[int,..]\n",
    "  - None 이면 단일 값만 리턴.\n",
    "  - 튜플 (m,n,k) 라면 총 m*n*k 샘플의 3-D ndarray 리턴.\n",
    "  - 단일 정수 n(scalar) 이면 (n,) 으로 해석"
   ]
  },
  {
   "cell_type": "code",
   "execution_count": 7,
   "metadata": {},
   "outputs": [
    {
     "name": "stdout",
     "output_type": "stream",
     "text": [
      "[[-0.04979054  0.10650729]\n",
      " [-0.11629082 -0.04554064]\n",
      " [-0.05985654 -0.10867759]]\n",
      "0.045608140630290374\n",
      "0.01958431223872821\n"
     ]
    }
   ],
   "source": [
    "import numpy as np\n",
    "\n",
    "mu, sigma = 0, 0.1 # mean and standard deviation\n",
    "s = np.random.normal(mu, sigma, (3,2))\n",
    "# Verify the mean and the standard deviation:\n",
    "print(s)\n",
    "print(abs(mu - np.mean(s)))\n",
    "# 0.0  # may vary\n",
    "print(abs(sigma - np.std(s, ddof=1)))\n",
    "# 0.1  # may vary"
   ]
  },
  {
   "cell_type": "code",
   "execution_count": 2,
   "metadata": {},
   "outputs": [
    {
     "data": {
      "image/png": "[encoded data removed]",
      "text/plain": [
       "<Figure size 640x480 with 1 Axes>"
      ]
     },
     "metadata": {},
     "output_type": "display_data"
    }
   ],
   "source": [
    "# Display the histogram of the samples, along with the probability density function:\n",
    "%matplotlib inline\n",
    "import matplotlib.pyplot as plt\n",
    "\n",
    "count, bins, ignored = plt.hist(s, 30, density=True)\n",
    "plt.plot(bins, 1/(sigma * np.sqrt(2 * np.pi)) *\n",
    "               np.exp( - (bins - mu)**2 / (2 * sigma**2) ),\n",
    "         linewidth=2, color='r')\n",
    "plt.show()"
   ]
  },
  {
   "cell_type": "markdown",
   "metadata": {},
   "source": [
    "\n",
    "#### random.rand(d0, d1, ..., dn)\n",
    "- 주어진 모양의 배열을 만들고 `[0, 1)` 의 균일 분포에서 무작위 샘플로 채웁니다.\n",
    "  - 주: 1 이라는 값은 나오지 않는다.\n",
    "  \n",
    "- d0, d1, ..., dn\n",
    "  - int, 선택 사항\n",
    "    - 반환되는 배열의 차원은 음수가 아니어야 합니다. 인자가 지정되지 않으면 단일 파이썬 부동 소수점이 반환됩니다.\n",
    "- 반환값:\n",
    "  - ndarray, shape (d0, d1, ..., dn)\n",
    "    - 임의의 값."
   ]
  },
  {
   "cell_type": "code",
   "execution_count": 9,
   "metadata": {},
   "outputs": [
    {
     "name": "stdout",
     "output_type": "stream",
     "text": [
      "[[0.73285843 0.89008389]\n",
      " [0.73627864 0.97189641]\n",
      " [0.10523864 0.35403705]]\n",
      "[0.80628055] 0.8730913467187253\n"
     ]
    }
   ],
   "source": [
    "print(np.random.rand(3,2))\n",
    "\n",
    "print(np.random.rand(1), np.random.rand())\n",
    "# 결과가 서로 다르다. 첫번째는 1차원 벡터, 두번째는 무차원 스칼라 값이다."
   ]
  },
  {
   "cell_type": "markdown",
   "metadata": {},
   "source": [
    "#### random.randint(low, high=None, size=None, dtype=int)\n",
    "\n",
    "- low(inclusive)에서 high(exclusive)까지의 임의의 정수를 반환.\n",
    "- 지정된 dtype의 \"이산 균일\" 분포의 \"반-개방\" 구간[low, high)에서 임의의 정수를 반환합니다.\n",
    "- high 가 None 또는 없는 경우, 결과는 [0, low]의 범위에서 동작함."
   ]
  },
  {
   "cell_type": "code",
   "execution_count": 3,
   "metadata": {},
   "outputs": [
    {
     "name": "stdout",
     "output_type": "stream",
     "text": [
      "[0 0 0 0 1 0 1 1 1 0]\n",
      "[0 0 0 0 0 0 0 0 0 0]\n",
      "[[4 2 1 1]\n",
      " [1 2 2 4]]\n"
     ]
    }
   ],
   "source": [
    "print(np.random.randint(2, size=10)) # 0 또는 1, 10개 요소의 리스트\n",
    "print(np.random.randint(1, size=10)) # 0 으로만 생성\n",
    "print(np.random.randint(5, size=(2, 4))) # 0~4 숫자. 2x4 행렬"
   ]
  },
  {
   "cell_type": "code",
   "execution_count": 5,
   "metadata": {},
   "outputs": [
    {
     "name": "stdout",
     "output_type": "stream",
     "text": [
      "[2 3 8]\n",
      "[1 8 8]\n",
      "[[ 2  9  8  7]\n",
      " [10 11 14  7]]\n"
     ]
    }
   ],
   "source": [
    "# Generate a 1 x 3 array with 3 different upper bounds\n",
    "# high 값에 숫자가 아닌 array 가 지정되었음. 각각 [1,3), [1,5), [1,10) 범위의 세 랜덤값이 생성됨. 결과는 리스트.\n",
    "# size 에 (3,) 을 지정하지 않고도 이렇게 low, high array 로 지정하여 랜덤 벡터, 랜덤 행렬을 생성할 수 있음.\n",
    "print(np.random.randint(1, [3, 5, 10]))\n",
    "\n",
    "# Generate a 1 by 3 array with 3 different lower bounds\n",
    "# 이것 또한 [1,10), [5,10), [7,10) 범위의 세 랜덤 값 생성.\n",
    "print(np.random.randint([1, 5, 7], 10))\n",
    "\n",
    "# Generate a 2 by 4 array using broadcasting with dtype of uint8\n",
    "# low 는 1차원, high 가 2차원이므로, 결과는 2차원이 되어야 한다.\n",
    "# low는 (4,) 에서 (2,4)로 브로드캐스팅 된다. [[1,3,5,7],[1,3,5,7]]\n",
    "# high는 (2,1) 에서 (2,4)로 브로드캐스팅 된다. [[10,10,10,10],[20,20,20,20]]\n",
    "print(np.random.randint([1, 3, 5, 7], [[10], [20]], dtype=np.uint8))"
   ]
  }
 ],
 "metadata": {
  "kernelspec": {
   "display_name": "ml_torch",
   "language": "python",
   "name": "python3"
  },
  "language_info": {
   "codemirror_mode": {
    "name": "ipython",
    "version": 3
   },
   "file_extension": ".py",
   "mimetype": "text/x-python",
   "name": "python",
   "nbconvert_exporter": "python",
   "pygments_lexer": "ipython3",
   "version": "3.9.21"
  }
 },
 "nbformat": 4,
 "nbformat_minor": 2
}
