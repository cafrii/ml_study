{
 "cells": [
  {
   "cell_type": "markdown",
   "metadata": {},
   "source": [
    "## The N-dimensional array (ndarray)\n",
    "\n",
    "https://numpy.org/doc/stable/reference/arrays.ndarray.html\n",
    "\n",
    "\n",
    "`ndarray` 는 동일한 유형과 크기의 항목으로 구성된 (일반적으로 고정된 크기의) 다차원 컨테이너입니다. 배열의 차원 및 항목 수는 각 차원의 크기를 지정하는 N 개의 음수가 아닌 정수로 이루어진 튜플인 배열의 shape 에 의해 정의됩니다. 배열의 항목(item) 유형(type)은 별도의 데이터 유형 객체(dtype, data-type-object)로 지정되며, 이 중 하나는 각 ndarray 와 연관(associated) 됩니다.\n",
    "\n",
    "파이썬의 다른 컨테이너 객체와 마찬가지로, ndarray 를 인덱싱 또는 슬라이싱 할 수 있고, ndarray 의 메서드와 어트리뷰트를 통해 배열의 내용에 액세스하고 수정할 수 있습니다.\n",
    "\n",
    "서로 다른 ndarray 는 동일한 데이터를 공유할 수 있으므로 한 배열에서 변경된 내용이 다른 배열에 표시될 수 있습니다. 즉, 하나의 ndarray가 다른 ndarray 에 대한 \"보기 (view)\"가 될 수 있으며, 참조되는 데이터는 \"기본 (base)\" 배열에서 관리합니다. 또한 ndarray는 파이썬 문자열(string)이 소유하는 메모리에 대한 뷰, 또는 메모리뷰(memoryview)나 array 인터페이스를 구현하는 객체 소유 메모리에 대한 뷰가 될 수 있습니다.\n",
    "\n",
    "> 주: 파이썬의 일반 메모리에 대한 뷰도 될 수 있다는 점은 중요함."
   ]
  },
  {
   "cell_type": "code",
   "execution_count": null,
   "metadata": {},
   "outputs": [],
   "source": [
    "import numpy as np"
   ]
  },
  {
   "cell_type": "code",
   "execution_count": null,
   "metadata": {},
   "outputs": [
    {
     "name": "stdout",
     "output_type": "stream",
     "text": [
      "<class 'numpy.ndarray'>\n",
      "(2, 3)\n",
      "int32\n",
      "6\n"
     ]
    }
   ],
   "source": [
    "# A 2-dimensional array of size 2 x 3, composed of 4-byte integer elements:\n",
    "x = np.array([[1, 2, 3], [4, 5, 6]], np.int32)\n",
    "\n",
    "print(type(x))\n",
    "# <class 'numpy.ndarray'>\n",
    "print(x.shape)\n",
    "# (2, 3)\n",
    "print(x.dtype)\n",
    "#dtype('int32')\n",
    "\n",
    "# The array can be indexed using Python container-like syntax:\n",
    "\n",
    "# The element of x in the *second* row, *third* column, namely, 6.\n",
    "print(x[1, 2])"
   ]
  },
  {
   "cell_type": "code",
   "execution_count": null,
   "metadata": {},
   "outputs": [
    {
     "data": {
      "text/plain": [
       "array([2, 5], dtype=int32)"
      ]
     },
     "execution_count": 10,
     "metadata": {},
     "output_type": "execute_result"
    }
   ],
   "source": [
    "#For example slicing can produce views of the array:\n",
    "\n",
    "y = x[:,1]\n",
    "# y 는 단지 x에 대한 하나의 'view'일 뿐이며, 어떠한 데이터 요소의 복사도 일어나지 않는다.\n",
    "# 일반 파이썬의 경우는 복사가 되어 별도 객체가 생성되는 것과는 대조적이다.\n",
    "\n",
    "y\n",
    "# array([2, 5], dtype=int32)\n",
    "# 차원이 하나 줄어든다."
   ]
  },
  {
   "cell_type": "code",
   "execution_count": 11,
   "metadata": {},
   "outputs": [
    {
     "data": {
      "text/plain": [
       "array([9, 5], dtype=int32)"
      ]
     },
     "execution_count": 11,
     "metadata": {},
     "output_type": "execute_result"
    }
   ],
   "source": [
    "# this also changes the corresponding element in x\n",
    "y[0] = 9\n",
    "y\n",
    "#array([9, 5], dtype=int32)"
   ]
  },
  {
   "cell_type": "code",
   "execution_count": null,
   "metadata": {},
   "outputs": [
    {
     "data": {
      "text/plain": [
       "array([[1, 9, 3],\n",
       "       [4, 5, 6]], dtype=int32)"
      ]
     },
     "execution_count": 12,
     "metadata": {},
     "output_type": "execute_result"
    }
   ],
   "source": [
    "# 중요한 것은 view 를 통해서 x 자체도 변경이 된다는 것!\n",
    "x\n",
    "# array([[1, 9, 3],\n",
    "#        [4, 5, 6]], dtype=int32)"
   ]
  },
  {
   "cell_type": "code",
   "execution_count": null,
   "metadata": {},
   "outputs": [
    {
     "name": "stdout",
     "output_type": "stream",
     "text": [
      "list indices must be integers or slices, not tuple\n",
      "[4, 5]\n",
      "[9, 5]\n",
      "[[1, 2, 3], [4, 5, 6]]\n"
     ]
    }
   ],
   "source": [
    "# 일반 파이썬의 경우와 비교하기\n",
    "a = [ [ 1, 2, 3], [4, 5, 6] ]\n",
    "try:\n",
    "    b = a[:,1] # 일반 파이썬 리스트는 이렇게 두 개의 인자를 지원하지 않음.\n",
    "    # 아래 예외 메시지를 보면 인자 두 개가 아닌 tuple로 처리되었음.\n",
    "    # 오직 정수 인덱스, 또는 슬라이스만 가능.\n",
    "except Exception as e:\n",
    "    print(e)\n",
    "\n",
    "# 일반 파이썬 리스트에서는 이렇게 단일 인자로 두 번 인덱싱을 해야 함.\n",
    "# 또한 리턴되는 값은 새로운 값 또는 리스트이며 원본과는 완전히 별개임.\n",
    "c = a[1][:2]\n",
    "print(c)\n",
    "# [4, 5]\n",
    "\n",
    "# 인덱싱 된 새 리스트를 수정한다고 하더라도,\n",
    "c[0] = 9\n",
    "print(c)\n",
    "# [9, 5]\n",
    "\n",
    "# 원본인 a 는 변경되지 않는다. 왜냐면 c는 a의 sliced copy 이니까.\n",
    "print(a)\n",
    "[[1, 2, 3], [4, 5, 6]]"
   ]
  },
  {
   "cell_type": "markdown",
   "metadata": {},
   "source": [
    "## 배열 생성하기\n",
    "https://numpy.org/doc/stable/reference/arrays.ndarray.html#constructing-arrays\n",
    "\n",
    "새 배열은 \"배열 생성 루틴\" 에 설명된 루틴을 사용하거나 저수준의 `ndarray` 생성자를 사용하여 생성할 수 있습니다:"
   ]
  },
  {
   "cell_type": "markdown",
   "metadata": {},
   "source": [
    "## 배열 인덱싱\n",
    "\n",
    "배열은 확장된 파이썬 슬라이싱 구문인 `array[selection]`을 사용하여 인덱싱할 수 있습니다. 구조화된 데이터 유형의 필드에 액세스할 때도 비슷한 구문이 사용됩니다."
   ]
  },
  {
   "cell_type": "markdown",
   "metadata": {},
   "source": [
    "### numpy.r_\n",
    "\n",
    "https://numpy.org/doc/stable/reference/generated/numpy.r_.html#numpy.r_\n",
    "\n",
    "슬라이스 개체를 첫 번째 축을 따라 연결로 변환합니다.\n",
    "\n",
    "이는 배열을 빠르게 구축하는 간단한 방법입니다. 두 가지 사용 사례가 있습니다.\n",
    "1. 인덱스 표현식에 쉼표로 구분된 배열이 포함된 경우 첫 번째 축을 따라 배열을 쌓습니다.\n",
    "2. 인덱스 표현식에 슬라이스 표기법이나 스칼라가 포함된 경우 슬라이스 표기법으로 범위를 표시한 1-D 배열을 만듭니다.\n",
    "\n",
    "슬라이스 표기법을 사용하는 경우, 시작:중지:단계 구문은 괄호 안의 np.arange(start, stop, step)와 동일합니다. \n",
    "```\n",
    "np.r_(1:10:2) == [ np.arrange(1:10:2) ]\n",
    "```\n",
    "그러나 step이 허수인 경우(예: 100j) 정수 부분은 원하는 점의 수로 해석되며 시작과 끝이 포함됩니다. 즉, start:stop:stepj는 괄호 안의 np.linspace(시작, 중지, 단계, 끝점=1)로 해석됩니다. \n",
    "```\n",
    "np.r_(1:12:4j) == np.linspace(1, 12, 4, endpoint=1)\n",
    "```\n",
    "슬라이스 표기법을 확장하면 쉼표로 구분된 모든 시퀀스가 함께 연결됩니다.\n",
    "\n",
    "인덱스 표현식의 첫 번째 요소로 배치된 선택적 문자열은 출력을 변경하는 데 사용할 수 있습니다. 문자열 'r' 또는 'c'는 행렬 출력을 생성합니다. 결과가 1차원이고 'r'이 지정되면 1 x N(행) 행렬이 생성됩니다. 결과가 1차원이고 'c'가 지정되면 N x 1(열) 행렬이 생성됩니다. 결과가 2차원이면 둘 다 동일한 행렬 결과를 제공합니다.\n",
    "\n",
    "문자열 정수는 여러 개의 쉼표로 구분된 배열을 따라 쌓을 축을 지정합니다. 두 개의 쉼표로 구분된 정수의 문자열은 각 항목을 강제로 두 번째 정수로 강제할 최소 차원 수를 표시할 수 있습니다(연결할 축은 여전히 ​​첫 번째 정수입니다).\n",
    "\n",
    "쉼표로 구분된 세 개의 정수가 있는 문자열은 연결할 축, 항목을 강제로 배치할 최소 차원 수, 지정된 차원 수보다 작은 배열의 시작을 포함해야 하는 축을 지정할 수 있습니다. 즉, 세 번째 정수를 사용하면 모양이 업그레이드된 배열의 모양에서 1을 배치할 위치를 지정할 수 있습니다. 기본적으로 모양 튜플의 앞에 배치됩니다. 세 번째 인수를 사용하면 대신 배열의 시작을 지정할 수 있습니다. 따라서 세 번째 인수 '0'은 배열 모양의 끝에 1을 배치합니다. 음의 정수는 새 모양 튜플에서 업그레이드된 배열의 마지막 차원을 배치할 위치를 지정하므로 기본값은 '-1'입니다.\n"
   ]
  },
  {
   "cell_type": "code",
   "execution_count": null,
   "metadata": {},
   "outputs": [
    {
     "name": "stdout",
     "output_type": "stream",
     "text": [
      "[1 2 3 0 0 4 5 6]\n",
      "[-1.  -0.6 -0.2  0.2  0.6  1.   0.   0.   0.   5.   6. ]\n"
     ]
    }
   ],
   "source": [
    "# r_\n",
    "\n",
    "# import numpy as np\n",
    "\n",
    "# 그냥 한 줄(row)에 쭉 이어진 것을 생성함.\n",
    "print(np.r_[np.array([1,2,3]), 0, 0, np.array([4,5,6])])\n",
    "# array([1, 2, 3, ..., 4, 5, 6])\n",
    "\n",
    "# 이건 또 새로운 표신식 같은데.. 6j 는 6개를 균등 생성하는 것으로 보임.\n",
    "# 양 끝은 포함하는 것으로 보이며, 그래서 5등분. 2/5 = 0.4 씩 증가\n",
    "print(np.r_[-1:1:6j, [0]*3, 5, 6])\n",
    "#array([-1. , -0.6, -0.2,  0.2,  0.6,  1. ,  0. ,  0. ,  0. ,  5. ,  6. ])\n",
    "\n",
    "# 숫자가 아닌 문자열로 지정하는 매우 특이한 용법도 제공함.\n",
    "a = np.array([[0, 1, 2], [3, 4, 5]])\n",
    "print(np.r_['-1', a, a]) # concatenate along last axis\n",
    "# array([[0, 1, 2, 0, 1, 2],\n",
    "#        [3, 4, 5, 3, 4, 5]])\n",
    "print(np.r_['0,2', [1,2,3], [4,5,6]]) # concatenate along first axis, dim>=2\n",
    "# array([[1, 2, 3],\n",
    "#        [4, 5, 6]])\n",
    "\n"
   ]
  },
  {
   "cell_type": "code",
   "execution_count": 20,
   "metadata": {},
   "outputs": [
    {
     "name": "stdout",
     "output_type": "stream",
     "text": [
      "[[1 4]\n",
      " [2 5]\n",
      " [3 6]]\n",
      "[[1 2 3 0 0 4 5 6]]\n"
     ]
    }
   ],
   "source": [
    "# 인덱싱 루틴\n",
    "\n",
    "# c_\n",
    "# https://numpy.org/doc/stable/reference/generated/numpy.c_.html#numpy.c_\n",
    "\n",
    "# 슬라이스 객체를 두 번째 축을 따라 연결로 변환합니다.\n",
    "# 이는 np.r_['-1,2,0', index expression]의 줄임말로, 자주 발생하기 때문에 유용합니다.\n",
    "# 특히 배열은 모양에 1이 포스트 펜딩된 상태에서 최소 2-D로 업그레이드된 후 마지막 축을 따라 쌓입니다. (1-D 배열로 만들어진 열 벡터).\n",
    "\n",
    "# import numpy as np\n",
    "print(np.c_[np.array([1,2,3]), np.array([4,5,6])])\n",
    "# array([[1, 4],\n",
    "#        [2, 5],\n",
    "#        [3, 6]])\n",
    "\n",
    "print(np.c_[np.array([[1,2,3]]), 0, 0, np.array([[4,5,6]])])\n",
    "# array([[1, 2, 3, ..., 4, 5, 6]])"
   ]
  },
  {
   "cell_type": "markdown",
   "metadata": {},
   "source": [
    "## ndarray의 내부 메모리 레이아웃\n",
    "\n",
    "ndarray 클래스의 인스턴스는 (배열이 소유하거나 다른 객체가 소유하는) 컴퓨터 메모리의 연속적인 1차원 세그먼트와 블록의 항목 위치에 N개의 정수를 매핑하는 인덱싱 체계로 구성됩니다. 인덱스가 달라질 수 있는 범위는 배열의 `shape`에 따라 지정됩니다. 각 항목이 차지하는 바이트 수와 바이트가 해석되는 방식은 배열과 연결된 데이터 유형 객체 (`data-type object`)에 의해 정의됩니다.\n",
    "\n",
    "메모리 세그먼트는 본질적으로 1차원이며, N차원 배열의 항목을 1차원 블록에 배열하는 방식에는 여러 가지가 있습니다. NumPy는 유연하며, ndarray 객체는 모든 보폭 인덱싱 체계(strided indexing scheme)를 수용할 수 있습니다. 스트라이드 방식에서 N차원 인덱스 $(n_0, n_1, .., n_{N-1})$은 다음 오프셋(바이트 단위)에 해당합니다:\n",
    "\n",
    "$ n_{offset} = \\sum^{N-1}_{k=0}{s_k n_k} $\n",
    "\n",
    "배열과 연관된 메모리 블록의 시작부분 부터이고, 여기서 $s_k$ 는 배열의 보폭을 지정하는 정수입니다. 예를 들어, 포트란 언어와 Matlab에서 사용되는 열 대수 순서와 행 대수 순서(C에서 사용되는) 체계는 특정 종류의 보폭 체계일 뿐이며 보폭으로 주소 지정할 수 있는 메모리에 해당합니다:"
   ]
  },
  {
   "cell_type": "markdown",
   "metadata": {},
   "source": [
    "> 메모\n",
    "> - 연속 배열 과 단일 세그먼트 배열은 동의어이며 설명서 전체에서 서로 바꿔 사용됩니다.\n",
    "\n",
    "해당 플래그가 설정된 C 스타일 및 Fortran 스타일의 연속 배열은 위의 스트라이드로 처리할 수 있지만 실제 스트라이드는 다를 수 있습니다. 이는 두 가지 경우에 발생할 수 있습니다.\n",
    "\n",
    "1. `self.shape[k] == 1` 인 경우라면, 모든 합법적인 인덱스 `index[k] == 0` 입니다. 이는 오프셋에 대한 공식에서 다음을 의미합니다.self.shape[k] == 1index[k] == 0\n",
    "그리고 그래서 \n",
    "그리고 가치\n",
    " = self.strides[k]는 임의적입니다.\n",
    "\n",
    "2. 배열에 요소가 없으면(`self.size == 0`) 합법적인 인덱스는 존재하지 않으며, 스트라이드는 사용되지 않습니다. 요소가 없는 모든 배열은 C 스타일 및 Fortran 스타일의 configuous 로 간주될 수 있습니다.\n",
    "\n",
    "1번 항목은 `self`와 `self.squeeze()`가 항상 동일한 연속성과 `aligned` 플래그 값을 갖는다는 것을 의미합니다. 이는 또한 고차원 배열조차도 C 스타일과 포트란 스타일이 동시에 연속될 수 있다는 것을 의미합니다.\n",
    "\n",
    "모든 요소의 메모리 오프셋과 기본 오프셋 자체가 self.itemsize 의 배수인 경우, 배열은 정렬된 것으로 간주됩니다. 메모리 정렬을 이해하면 대부분 하드웨어에서 더 나은 성능을 얻을 수 있습니다.\n",
    "\n",
    "> 경고\n",
    "> 일반적으로 C 스타일의 연속 배열에서 self.strides[-1] == self.itemsize 는 유효하지 않습니다. ...\n",
    "\n",
    "달리 지정하지 않는 한 새 ndarrays 의 데이터는 행-우선 순서 로 정렬되지만, 예를 들어, 기본 배열 슬라이싱은 종종 다른 방식으로 \"뷰\"를 생성합니다.\n",
    "\n",
    "> 메모\n",
    "> - NumPy의 여러 알고리즘은 임의로 스트라이드된 배열에서 작동합니다. 그러나 일부 알고리즘은 단일 세그먼트 배열을 요구합니다. 불규칙하게 스트라이드된 배열이 이러한 알고리즘에 전달되면 자동으로 복사본이 만들어집니다."
   ]
  },
  {
   "cell_type": "markdown",
   "metadata": {},
   "source": [
    "## 배열 속성\n",
    "https://numpy.org/doc/stable/reference/arrays.ndarray.html#array-attributes\n",
    "\n",
    "### 메모리 레이아웃\n",
    "### 데이터 유형\n",
    "### 기타 속성\n",
    "\n",
    "- ndarray.T: 전치된 배열의 view.\n",
    "  - 별도의 새 배열이 아니라 view 라는 점이 중요함!\n",
    "- ndarray.real: 배열의 실수 부분.\n",
    "- ndarray.imag: 배열의 허수부.\n",
    "- ndarray.flat: 배열의 1차원 반복자.\n",
    "\n",
    "### 배열 인터페이스\n",
    "### `ctypes` foreign 함수 인터페이스\n"
   ]
  },
  {
   "cell_type": "markdown",
   "metadata": {},
   "source": [
    "## 배열 메소드\n",
    "https://numpy.org/doc/stable/reference/arrays.ndarray.html#array-methods\n",
    "\n",
    "### 배열 변환\n",
    "### Shape 조작\n",
    "### 항목 선택 및 조작\n"
   ]
  },
  {
   "cell_type": "markdown",
   "metadata": {},
   "source": [
    "### 계산\n",
    "https://numpy.org/doc/stable/reference/arrays.ndarray.html#calculation\n",
    "\n",
    "이러한 메서드 중 다수는 axis 라는 인수를 사용합니다. 이러한 경우,\n",
    "\n",
    "- axis 가 None (기본값) 이면, 배열은 1차원 배열로 처리되고, 연산은 \"배열 전체\" 에 걸쳐 수행됩니다. 이 동작은 self 가 0차원 배열 또는 배열 스칼라(array scalar)인 경우에도 기본값입니다.\n",
    "  - 배열 스칼라는 float32, float64 등의 유형/클래스의 인스턴스인 반면,\n",
    "  - 0차원 배열은 정확히 하나의 배열 스칼라를 포함하는 ndarray 인스턴스입니다.\n",
    "  - 주: 배열 스칼라 를 그냥 스칼라 라고 이해해도 된다. 배열 요소로서 사용 가능한 스칼라 라는 의미로 그렇게 부르는 것 뿐.\n",
    "\n",
    "- axis 가 정수 이면, 연산은 주어진 축을 따라 수행됩니다. (주어진 축을 따라 생성될 수 있는 각 1차원 부분 배열에 대해).\n",
    "\n",
    "\n"
   ]
  },
  {
   "cell_type": "code",
   "execution_count": null,
   "metadata": {},
   "outputs": [
    {
     "name": "stdout",
     "output_type": "stream",
     "text": [
      "[[[ 0  1  2]\n",
      "  [ 3  4  5]\n",
      "  [ 6  7  8]]\n",
      "\n",
      " [[ 9 10 11]\n",
      "  [12 13 14]\n",
      "  [15 16 17]]\n",
      "\n",
      " [[18 19 20]\n",
      "  [21 22 23]\n",
      "  [24 25 26]]]\n",
      "351\n",
      "[[27 30 33]\n",
      " [36 39 42]\n",
      " [45 48 51]]\n",
      "[[ 9 12 15]\n",
      " [36 39 42]\n",
      " [63 66 69]]\n",
      "[[ 3 12 21]\n",
      " [30 39 48]\n",
      " [57 66 75]]\n"
     ]
    }
   ],
   "source": [
    "x = np.arange(27).reshape((3,3,3))\n",
    "print(x)\n",
    "# array([[[ 0,  1,  2],\n",
    "#         [ 3,  4,  5],\n",
    "#         [ 6,  7,  8]],\n",
    "#        [[ 9, 10, 11],\n",
    "#         [12, 13, 14],\n",
    "#         [15, 16, 17]],\n",
    "#        [[18, 19, 20],\n",
    "#         [21, 22, 23],\n",
    "#         [24, 25, 26]]])\n",
    "# print(np.arange(27).reshape(3,3,3)) # 위와 동일한 결과.\n",
    "\n",
    "print(x.sum())\n",
    "# 351\n",
    "\n",
    "print(x.sum(axis=0)) # sum의 결과 첫 축이 사라짐. 0+9+18, 1+10+19, ...\n",
    "# array([[27, 30, 33],\n",
    "#       [36, 39, 42],\n",
    "#       [45, 48, 51]])\n",
    "\n",
    "# for sum, axis is the first keyword, so we may omit it,\n",
    "# specifying only its value\n",
    "# x.sum(1) 는 x.sum(axis=1) 과 동일하다.\n",
    "print(x.sum(1)); print(x.sum(2))\n",
    "# array([[ 9, 12, 15],\n",
    "#       [36, 39, 42],\n",
    "#       [63, 66, 69]]),\n",
    "# array([[ 3, 12, 21],\n",
    "#       [30, 39, 48],\n",
    "#       [57, 66, 75]])"
   ]
  },
  {
   "cell_type": "markdown",
   "metadata": {},
   "source": [
    "## 산술, 행렬 곱셈 및 비교 연산\n",
    "\n",
    "ndarrays 의 산술 연산과 비교 연산은 \"요소 별 연산\" 으로 정의되며, 일반적으로 결과로 ndarray 객체를 생성합니다.\n",
    "\n",
    "각 산술 연산 (+, -, *, /, //, %, divmod(), ** or pow(), <<, >>, &, ^, |, ~) 과 비교 (==, <, , >, <=, >=, !=) 는 NumPy의 해당되는 범용 함수 (또는 줄여서 ufunc) 와 동등합니다. 자세한 내용은 \"범용 함수\" 섹션을 참조하세요."
   ]
  },
  {
   "cell_type": "markdown",
   "metadata": {},
   "source": [
    "## 특수 메소드"
   ]
  }
 ],
 "metadata": {
  "kernelspec": {
   "display_name": "ml_39",
   "language": "python",
   "name": "python3"
  },
  "language_info": {
   "codemirror_mode": {
    "name": "ipython",
    "version": 3
   },
   "file_extension": ".py",
   "mimetype": "text/x-python",
   "name": "python",
   "nbconvert_exporter": "python",
   "pygments_lexer": "ipython3",
   "version": "3.9.15"
  }
 },
 "nbformat": 4,
 "nbformat_minor": 2
}
