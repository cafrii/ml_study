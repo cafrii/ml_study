{
 "cells": [
  {
   "cell_type": "markdown",
   "metadata": {},
   "source": [
    "\n",
    "# NumPy 레퍼런스 문서 / 배열 객체 / 반복\n",
    "\n",
    "https://numpy.org/doc/stable/reference/arrays.nditer.html\n",
    "\n",
    "2025/3/13"
   ]
  },
  {
   "cell_type": "code",
   "execution_count": 32,
   "metadata": {},
   "outputs": [
    {
     "name": "stdout",
     "output_type": "stream",
     "text": [
      "0 1 2 3 4 5 "
     ]
    }
   ],
   "source": [
    "import numpy as np\n",
    "\n",
    "a = np.arange(6).reshape(2,3)\n",
    "for x in np.nditer(a):\n",
    "    print(x, end=' ')\n"
   ]
  },
  {
   "cell_type": "markdown",
   "metadata": {},
   "source": [
    "- 이 반복에서 주의해야 할 중요한 점은 표준 C 또는 Fortran 순서를 사용하는 대신 배열의 메모리 레이아웃과 일치하도록 순서가 선택된다는 것입니다. \n",
    "- 이는 액세스 효율성을 위해 수행되며, 기본적으로 특정 순서를 신경 쓰지 않고 각 요소를 방문하고자 하는 아이디어를 반영합니다. \n",
    "- 이 배열의 전치행렬을 이터레이팅 해 보면, order C 로 전치한 후 복사하는 것과 비교 됩니다."
   ]
  },
  {
   "cell_type": "code",
   "execution_count": 42,
   "metadata": {},
   "outputs": [
    {
     "name": "stdout",
     "output_type": "stream",
     "text": [
      "[[0 3]\n",
      " [1 4]\n",
      " [2 5]]\n",
      "0 1 2 3 4 5 \n",
      "0 3 1 4 2 5 "
     ]
    }
   ],
   "source": [
    "a = np.arange(6).reshape(2,3)\n",
    "print(a.T)\n",
    "# T 라는 속성은 '배열의 transposed view' 라고 부른다.\n",
    "# view 라는 말로부터, 실제로 메모리 복제가 되는 것은 아닌 것 같음.\n",
    "# 동일한 메모리 데이터를 다른 관점으로 해석하는 것.\n",
    "\n",
    "for x in np.nditer(a.T):\n",
    "    print(x, end=' ')\n",
    "\n",
    "print('')\n",
    "\n",
    "for x in np.nditer(a.T.copy(order='C')):\n",
    "    print(x, end=' ')"
   ]
  },
  {
   "cell_type": "markdown",
   "metadata": {},
   "source": [
    "**numpy.copy(.., order: str = 'K', ..)**:\n",
    "- order 인자\n",
    "  - 복사본의 메모리 레이아웃을 제어합니다. \n",
    "  - 'C'는 C 언어의 순서를, 'F'는 F 순서를, 'A'는 a가 포트란에 연속된 경우 'F'를, 그렇지 않으면 'C'를 의미합니다. 'K'는 a의 레이아웃과 최대한 가깝게 일치함을 의미합니다.\n",
    "  - (이 함수와 ndarray.copy는 매우 유사하지만 order= 인수의 기본값이 다릅니다)."
   ]
  },
  {
   "cell_type": "code",
   "execution_count": 34,
   "metadata": {},
   "outputs": [
    {
     "name": "stdout",
     "output_type": "stream",
     "text": [
      "[[0 1 2]\n",
      " [3 4 5]]\n",
      "[[0 1 2]\n",
      " [3 4 5]]\n",
      "[[0 1 2]\n",
      " [3 4 5]]\n",
      "[[0 1 2]\n",
      " [3 4 5]]\n",
      "[[0 1 2]\n",
      " [3 4 5]]\n"
     ]
    }
   ],
   "source": [
    "a = np.arange(6).reshape(2,3)\n",
    "print(a)\n",
    "print(np.copy(a, order='C'))\n",
    "print(np.copy(a, order='F'))\n",
    "print(np.copy(a, order='A'))\n",
    "print(np.copy(a, order='K'))"
   ]
  },
  {
   "cell_type": "markdown",
   "metadata": {},
   "source": [
    "## 반복 순서 제어"
   ]
  },
  {
   "cell_type": "markdown",
   "metadata": {},
   "source": [
    "## 배열값 수정"
   ]
  },
  {
   "cell_type": "markdown",
   "metadata": {},
   "source": [
    "op_flags 에 'readwrite' 지정.\n",
    "\n",
    "- with 블럭을 사용하는 방법.\n",
    "- close() 를 명시적으로 호출하는 방법."
   ]
  },
  {
   "cell_type": "code",
   "execution_count": 35,
   "metadata": {},
   "outputs": [
    {
     "name": "stdout",
     "output_type": "stream",
     "text": [
      "[[0 1 2]\n",
      " [3 4 5]]\n",
      "<class 'numpy.nditer'>\n",
      "0\n",
      "1\n",
      "2\n",
      "3\n",
      "4\n",
      "5\n",
      "[[ 0  2  4]\n",
      " [ 6  8 10]]\n"
     ]
    }
   ],
   "source": [
    "a = np.arange(6).reshape(2,3)\n",
    "print(a)\n",
    "\n",
    "with np.nditer(a, op_flags=['readwrite']) as it:\n",
    "   print(type(it))\n",
    "   for x in it:\n",
    "       #print(type(x))\n",
    "       print(x)\n",
    "       x[...] = 2 * x # x[...]는 무엇?\n",
    "\n",
    "print(a)"
   ]
  },
  {
   "cell_type": "markdown",
   "metadata": {},
   "source": [
    "## 외부 루프 사용"
   ]
  },
  {
   "cell_type": "code",
   "execution_count": 36,
   "metadata": {},
   "outputs": [
    {
     "name": "stdout",
     "output_type": "stream",
     "text": [
      "[0 1 2 3 4 5] \n",
      "[0 3] [1 4] [2 5] "
     ]
    }
   ],
   "source": [
    "a = np.arange(6).reshape(2,3)\n",
    "for x in np.nditer(a, flags=['external_loop']):\n",
    "    print(x, end=' ')\n",
    "print()\n",
    "for x in np.nditer(a, flags=['external_loop'], order='F'):\n",
    "    print(x, end=' ')"
   ]
  },
  {
   "cell_type": "markdown",
   "metadata": {},
   "source": [
    "???????????????????????\n",
    "이해가 안되는데??"
   ]
  },
  {
   "cell_type": "markdown",
   "metadata": {},
   "source": [
    "## 인덱스 또는 다중 인덱스 추적 \n",
    "\n",
    "반복하는 동안 계산에서 현재 요소의 인덱스를 사용하고 싶을 수 있습니다. <br>\n",
    "인덱스는 반복자 객체 자체에 의해 추적되며, 요청된 내용에 따라 index 또는 multi_index 속성을 통해 액세스할 수 있습니다."
   ]
  },
  {
   "cell_type": "code",
   "execution_count": 37,
   "metadata": {},
   "outputs": [
    {
     "name": "stdout",
     "output_type": "stream",
     "text": [
      "[[ 0  3  6]\n",
      " [ 9 12 15]]\n",
      "[0]:0  [1]:3  [2]:6  [3]:9  [4]:12  [5]:15  \n",
      "[0]:0  [2]:3  [4]:6  [1]:9  [3]:12  [5]:15  "
     ]
    }
   ],
   "source": [
    "import numpy as np\n",
    "\n",
    "a = np.arange(6).reshape(2,3) * 3\n",
    "print(a)\n",
    "\n",
    "it = np.nditer(a, flags=['c_index'])\n",
    "for x in it:\n",
    "    print(\"[%d]:%d \" % (it.index, x), end=' ')\n",
    "print()\n",
    "it = np.nditer(a, flags=['f_index'])\n",
    "for x in it:\n",
    "    print(\"[%d]:%d \" % (it.index, x), end=' ')\n",
    "\n",
    "# c_index, f_index 의 차이는 인덱스에만 있고, 순회의 순서는 같다."
   ]
  },
  {
   "cell_type": "code",
   "execution_count": 38,
   "metadata": {},
   "outputs": [
    {
     "name": "stdout",
     "output_type": "stream",
     "text": [
      "(0, 0):0  (0, 1):3  (0, 2):6  (1, 0):9  (1, 1):12  (1, 2):15  "
     ]
    }
   ],
   "source": [
    "a = np.arange(6).reshape(2,3) * 3\n",
    "\n",
    "it = np.nditer(a, flags=['multi_index'])\n",
    "for x in it:\n",
    "    print(\"%s:%d \" % (it.multi_index, x), end=' ')"
   ]
  },
  {
   "cell_type": "code",
   "execution_count": 39,
   "metadata": {},
   "outputs": [
    {
     "name": "stdout",
     "output_type": "stream",
     "text": [
      "[[ 0  3  6]\n",
      " [ 9 12 15]]\n",
      "[[ 0  1  2]\n",
      " [-1  0  1]]\n"
     ]
    }
   ],
   "source": [
    "a = np.arange(6).reshape(2,3) * 3\n",
    "print(a)\n",
    "with np.nditer(a, flags=['multi_index'], op_flags=['writeonly']) as it:\n",
    "    for x in it:\n",
    "        x[...] = it.multi_index[1] - it.multi_index[0]\n",
    "print(a)\n",
    "\n",
    "# 대체 이 index 값으로 뭘 더 할 수 있는건가 ?????????????"
   ]
  },
  {
   "cell_type": "markdown",
   "metadata": {},
   "source": [
    "## 대체 루핑 및 요소 액세스 \n",
    "\n",
    "- 반복하는 동안 속성에 더 쉽게 액세스할 수 있도록 반복자 객체 자체에서 명시적으로 작동하는 대체 반복 구문이 있습니다. \n",
    "- 이 반복 구문을 사용하면 현재 값은 이터레이터에 인덱싱하여 액세스할 수 있습니다. \n",
    "- 추적된 인덱스와 같은 다른 속성은 이전과 동일하게 유지됩니다."
   ]
  },
  {
   "cell_type": "code",
   "execution_count": 40,
   "metadata": {},
   "outputs": [
    {
     "name": "stdout",
     "output_type": "stream",
     "text": [
      "[[0 1 2]\n",
      " [3 4 5]]\n",
      "(0, 0):0  (0, 1):1  (0, 2):2  (1, 0):3  (1, 1):4  (1, 2):5  \n",
      "[[ 0  1  2]\n",
      " [-1  0  1]]\n"
     ]
    }
   ],
   "source": [
    "import numpy as np\n",
    "\n",
    "a = np.arange(6).reshape(2,3)\n",
    "print(a)\n",
    "\n",
    "it = np.nditer(a, flags=['multi_index'])\n",
    "while not it.finished:\n",
    "    print(\"%s:%d \" % (it.multi_index, it[0]), end=' ')\n",
    "    is_not_finished = it.iternext()\n",
    "print()\n",
    "\n",
    "with np.nditer(a, flags=['multi_index'], op_flags=['writeonly']) as it:\n",
    "    while not it.finished:\n",
    "        it[0] = it.multi_index[1] - it.multi_index[0]\n",
    "        is_not_finished = it.iternext()\n",
    "print(a)"
   ]
  },
  {
   "cell_type": "markdown",
   "metadata": {},
   "source": [
    "\n",
    "## 배열 요소 버퍼링"
   ]
  },
  {
   "cell_type": "markdown",
   "metadata": {},
   "source": [
    "## 특정 데이터 유형으로 반복"
   ]
  }
 ],
 "metadata": {
  "kernelspec": {
   "display_name": "ml_39",
   "language": "python",
   "name": "python3"
  },
  "language_info": {
   "codemirror_mode": {
    "name": "ipython",
    "version": 3
   },
   "file_extension": ".py",
   "mimetype": "text/x-python",
   "name": "python",
   "nbconvert_exporter": "python",
   "pygments_lexer": "ipython3",
   "version": "3.9.15"
  }
 },
 "nbformat": 4,
 "nbformat_minor": 2
}
