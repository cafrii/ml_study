{
 "cells": [
  {
   "cell_type": "markdown",
   "metadata": {},
   "source": [
    "\n",
    "https://numpy.org/doc/stable/reference/arrays.html\n",
    "\n",
    "\n",
    "## 배열 객체\n",
    "\n",
    "NumPy는 같은 유형의 '항목' 컬렉션을 설명하는 N차원 배열 유형인 ndarray를 제공합니다. 항목은 예를 들어 N개의 정수를 사용하여 인덱싱할 수 있습니다.\n",
    "\n",
    "모든 배열은 동질적입니다. 모든 항목은 동일한 크기의 메모리 블록을 차지하며, 모든 블록은 정확히 동일한 방식으로 해석됩니다. 배열의 각 항목이 해석되는 방식은 별도의 데이터 타입 객체에 의해 지정되며, 그 중 하나는 모든 배열과 연관되어 있습니다. 데이터 유형 객체는 기본 유형(정수, 부동 소수점 등) 외에도 데이터 구조를 나타낼 수도 있습니다.\n",
    "\n",
    "예를 들어 인덱싱을 통해 배열에서 추출된 항목은 NumPy에 구축된 배열 스칼라 유형 중 하나인 파이썬 객체로 표현됩니다. 배열 스칼라를 사용하면 더 복잡한 데이터 배열도 쉽게 조작할 수 있습니다.\n",
    "\n",
    "\n",
    "그림 배열의 데이터를 설명하는 데 사용되는 세 가지 기본 객체 간의 관계를 보여주는 개념도: 1) 배열 자체, 2) 배열의 단일 고정 크기 요소의 레이아웃을 설명하는 데이터 타입 객체, 3) 배열의 단일 요소에 액세스할 때 반환되는 배열-스칼라 Python 객체입니다.\n",
    "\n",
    "\n",
    "- The N-dimensional array (ndarray)\n",
    "  - => `arrays-ndarray` 참고\n",
    "- Scalars\n",
    "- Data type objects (dtype)\n",
    "- Data type promotion in NumPy\n",
    "- Iterating over arrays\n",
    "- Standard array subclasses\n",
    "- Masked arrays\n",
    "- The array interface protocol\n",
    "- Datetimes and timedeltas\n",
    "  - 이게 array 와 무슨 관계가 있나??\n",
    "\n",
    "\n"
   ]
  }
 ],
 "metadata": {
  "language_info": {
   "name": "python"
  }
 },
 "nbformat": 4,
 "nbformat_minor": 2
}
