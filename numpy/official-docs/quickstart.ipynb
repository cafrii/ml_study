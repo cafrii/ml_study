{
 "cells": [
  {
   "cell_type": "markdown",
   "metadata": {},
   "source": [
    "## NumPy 사용자 가이드\n",
    "\n",
    "numpy 공식 홈페이지의 docs 중 하나인 빠른 시작의 학습 내용을 정리.\n",
    "전체 내용이 아니라 일부 중요하다고 생각되는 것만 진행했음.\n",
    "\n",
    "https://numpy.org/doc/stable/user/quickstart.html\n",
    "\n",
    "2025/3/13"
   ]
  },
  {
   "cell_type": "markdown",
   "metadata": {},
   "source": [
    "## 배열 생성"
   ]
  },
  {
   "cell_type": "code",
   "execution_count": null,
   "metadata": {},
   "outputs": [
    {
     "name": "stdout",
     "output_type": "stream",
     "text": [
      "[[1 2]\n",
      " [3 4]]\n",
      "[[1 2 3]\n",
      " [4 5 6]]\n"
     ]
    }
   ],
   "source": [
    "import numpy as np\n",
    "\n",
    "a = np.array([[1, 2], [3, 4]])\n",
    "print(a)\n",
    "\n",
    "# 튜플을 사용할 수도 있다. 시퀀스 이기만 하면 뭐든 상관 없는 듯 함.\n",
    "b = np.array([(1, 2, 3), (4, 5, 6)])\n",
    "print(b)\n",
    "# array([[1, 2, 3],\n",
    "#        [4, 5, 6]])"
   ]
  },
  {
   "cell_type": "code",
   "execution_count": 1,
   "metadata": {},
   "outputs": [
    {
     "ename": "NameError",
     "evalue": "name 'np' is not defined",
     "output_type": "error",
     "traceback": [
      "\u001b[0;31m---------------------------------------------------------------------------\u001b[0m",
      "\u001b[0;31mNameError\u001b[0m                                 Traceback (most recent call last)",
      "Cell \u001b[0;32mIn[1], line 1\u001b[0m\n\u001b[0;32m----> 1\u001b[0m d \u001b[38;5;241m=\u001b[39m \u001b[43mnp\u001b[49m\u001b[38;5;241m.\u001b[39marray((\u001b[38;5;241m1\u001b[39m, \u001b[38;5;241m2\u001b[39m))\n\u001b[1;32m      2\u001b[0m \u001b[38;5;28mprint\u001b[39m(d)\n\u001b[1;32m      4\u001b[0m \u001b[38;5;66;03m# 문자열도 시퀀스인데.. 이건 그냥 스칼라로 되어 버린다. 리스트 또는 튜플 만 지원되는 것으로 보인다.\u001b[39;00m\n",
      "\u001b[0;31mNameError\u001b[0m: name 'np' is not defined"
     ]
    }
   ],
   "source": [
    "d = np.array((1, 2))\n",
    "print(d)\n",
    "\n",
    "# 문자열도 시퀀스인데.. 이건 그냥 스칼라로 되어 버린다. 리스트 또는 튜플 만 지원되는 것으로 보인다.\n",
    "c = np.array('1234')\n",
    "print(c, c.shape)\n"
   ]
  },
  {
   "cell_type": "markdown",
   "metadata": {},
   "source": [
    "np.array() 의 첫번째 인자 object 는, 레퍼런스에 명확하게 다음과 같이 기술되어 있다.\n",
    "\n",
    "- object : array_like\n",
    "- An array, any object exposing the array interface, an object whose __array__ method returns an array, or any (nested) sequence. If object is a scalar, a 0-dimensional array containing object is returned.\n",
    "\n",
    "총 네 가지를 얘기하고 있는데..\n",
    "1. array (아마 np.array 를 말하는 듯)\n",
    "2. array 인터페이스 객체\n",
    "3. __array__ 메소드를 구현하고 있고 이 메소드가 array 를 리턴\n",
    "4. 임의의 (중첩) 시퀀스.\n",
    "\n",
    "문자열은 시퀀스로 볼 수도 있긴 한데..\n",
    "아마 array-link 객체에는 문자열은 해당되지 않는 것으로 보인다."
   ]
  },
  {
   "cell_type": "markdown",
   "metadata": {},
   "source": [
    "## 기본 연산"
   ]
  },
  {
   "cell_type": "code",
   "execution_count": null,
   "metadata": {},
   "outputs": [
    {
     "name": "stdout",
     "output_type": "stream",
     "text": [
      "[0 1 4 9]\n",
      "[ 9.12945251 -9.88031624  7.4511316  -2.62374854]\n",
      "[ True  True False False]\n"
     ]
    }
   ],
   "source": [
    "a = np.array([20, 30, 40, 50])\n",
    "b = np.arange(4)\n",
    "\n",
    "print(b**2)\n",
    "print(10 * np.sin(a))\n",
    "print(a < 35)"
   ]
  },
  {
   "cell_type": "code",
   "execution_count": null,
   "metadata": {},
   "outputs": [
    {
     "name": "stdout",
     "output_type": "stream",
     "text": [
      "[[2 0]\n",
      " [0 4]]\n",
      "[[5 4]\n",
      " [3 4]]\n",
      "[[5 4]\n",
      " [3 4]]\n"
     ]
    }
   ],
   "source": [
    "A = np.array([[1, 1],\n",
    "              [0, 1]])\n",
    "B = np.array([[2, 0],\n",
    "              [3, 4]])\n",
    "print(A * B)     # elementwise product\n",
    "print(A @ B)     # matrix product\n",
    "print(A.dot(B))  # another matrix product"
   ]
  },
  {
   "cell_type": "code",
   "execution_count": null,
   "metadata": {},
   "outputs": [
    {
     "name": "stdout",
     "output_type": "stream",
     "text": [
      "[[ 0  1  2  3]\n",
      " [ 4  5  6  7]\n",
      " [ 8  9 10 11]] \n",
      "----\n",
      "[12 15 18 21]\n",
      "[ 6 22 38]\n"
     ]
    }
   ],
   "source": [
    "##   sum() with axis\n",
    "#\n",
    "# 기본적으로 이러한 연산은 모양에 관계없이 숫자 목록인 것처럼 배열에 적용됩니다.\n",
    "# 그러나 axis 매개변수를 지정하면 배열의 지정된 축을 따라 연산을 적용할 수 있습니다.\n",
    "\n",
    "b = np.arange(12).reshape(3, 4)\n",
    "print(b, '\\n----')\n",
    "\n",
    "print(b.sum(axis=0))     # sum of each column\n",
    "# matrix 전체가 아닌 일부 (열 또는 행)에 대해서만 sum()을 하면\n",
    "# 그 결과 역시 스칼라가 아닌 1차원의 벡터가 된다.\n",
    "# axis=0 은 차원 0 이 사라지도록 합계를 계산하라는 말.\n",
    "print(b.sum(axis=1))     # sum of each column"
   ]
  },
  {
   "cell_type": "code",
   "execution_count": null,
   "metadata": {},
   "outputs": [
    {
     "name": "stdout",
     "output_type": "stream",
     "text": [
      "[[[ 0  1  2  3]\n",
      "  [ 4  5  6  7]\n",
      "  [ 8  9 10 11]]\n",
      "\n",
      " [[12 13 14 15]\n",
      "  [16 17 18 19]\n",
      "  [20 21 22 23]]] \n",
      "----\n",
      "[[12 15 18 21]\n",
      " [48 51 54 57]]\n"
     ]
    }
   ],
   "source": [
    "##   sum() with axis\n",
    "\n",
    "b = np.arange(24).reshape(2, 3, 4)\n",
    "print(b, '\\n----')\n",
    "\n",
    "print(b.sum(axis=1)) # 축 1이 제거되면 2차원이 된다."
   ]
  },
  {
   "cell_type": "code",
   "execution_count": null,
   "metadata": {},
   "outputs": [
    {
     "name": "stdout",
     "output_type": "stream",
     "text": [
      "[[0 1 2]\n",
      " [3 4 5]]\n",
      "[0 3]\n"
     ]
    }
   ],
   "source": [
    "##  min()\n",
    "\n",
    "b = np.arange(6).reshape(2, 3)\n",
    "print(b)\n",
    "print(b.min(axis=1))     # axis 1 이 제거되어 (2,0) shape 이 됨."
   ]
  },
  {
   "cell_type": "code",
   "execution_count": null,
   "metadata": {},
   "outputs": [
    {
     "name": "stdout",
     "output_type": "stream",
     "text": [
      "[[0 1 2]\n",
      " [3 4 5]]\n",
      "[ 3 12]\n",
      "[[ 0  1  3]\n",
      " [ 3  7 12]]\n"
     ]
    }
   ],
   "source": [
    "##  cumsum()\n",
    "\n",
    "b = np.arange(6).reshape(2, 3)\n",
    "print(b)\n",
    "\n",
    "print(b.sum(axis=1)) # 계산 결과 axis 1이 사라져서 차원이 감소.\n",
    "\n",
    "# cumsum 은 차원이 줄어들지 않는다. axis 1, 즉 가로 방향으로 누적 합을 계산해 간다.\n",
    "print(b.cumsum(axis=1))"
   ]
  },
  {
   "cell_type": "markdown",
   "metadata": {},
   "source": [
    "## 범용 함수"
   ]
  },
  {
   "cell_type": "code",
   "execution_count": null,
   "metadata": {},
   "outputs": [
    {
     "name": "stdout",
     "output_type": "stream",
     "text": [
      "[0 1 2]\n",
      "[1.         2.71828183 7.3890561 ]\n",
      "[0.         1.         1.41421356]\n",
      "[2. 0. 6.]\n"
     ]
    }
   ],
   "source": [
    "B = np.arange(3)\n",
    "print(B)\n",
    "\n",
    "print(np.exp(B))\n",
    "\n",
    "print(np.sqrt(B))\n",
    "\n",
    "C = np.array([2., -1, 4])\n",
    "print(np.add(B, C))"
   ]
  },
  {
   "cell_type": "markdown",
   "metadata": {},
   "source": [
    "## 인덱싱, 슬라이싱, .."
   ]
  },
  {
   "cell_type": "code",
   "execution_count": null,
   "metadata": {},
   "outputs": [
    {
     "name": "stdout",
     "output_type": "stream",
     "text": [
      "[  0   1   8  27  64 125 216 343 512 729]\n",
      "slicing: [ 8 27 64]\n",
      "write to slicing: [1000    1 1000   27 1000  125  216  343  512  729]\n",
      "reversed: [ 729  512  343  216  125 1000   27 1000    1 1000]\n",
      "10.000\n",
      "1.000\n",
      "10.000\n",
      "3.000\n",
      "10.000\n",
      "5.000\n",
      "6.000\n",
      "7.000\n",
      "8.000\n",
      "9.000\n"
     ]
    }
   ],
   "source": [
    "##   1차원\n",
    "\n",
    "a = np.arange(10)**3\n",
    "print(a)\n",
    "\n",
    "print('slicing:', a[2:5])\n",
    "\n",
    "# equivalent to a[0:6:2] = 1000;\n",
    "# from start to position 6, exclusive, set every 2nd element to 1000\n",
    "a[:6:2] = 1000\n",
    "print('write to slicing:', a)\n",
    "\n",
    "print('reversed:', a[::-1])  # reversed a\n",
    "\n",
    "for i in a:\n",
    "    print('%.3f' % i**(1 / 3.))"
   ]
  },
  {
   "cell_type": "code",
   "execution_count": null,
   "metadata": {},
   "outputs": [
    {
     "name": "stdout",
     "output_type": "stream",
     "text": [
      "[[ 0  1  2  3]\n",
      " [10 11 12 13]\n",
      " [20 21 22 23]\n",
      " [30 31 32 33]\n",
      " [40 41 42 43]]\n",
      "23\n",
      "[ 1 11 21 31 41]\n",
      "[ 1 11 21 31 41]\n",
      "[[10 11 12 13]\n",
      " [20 21 22 23]]\n",
      "[[ 0  1  2  3]\n",
      " [20 21 22 23]]\n"
     ]
    }
   ],
   "source": [
    "##   다차원\n",
    "\n",
    "# 좌표의 함수로 배열 생성하기. x 가 axis=0, y 가 axis=1\n",
    "def f(x, y):\n",
    "    return 10 * x + y\n",
    "\n",
    "b = np.fromfunction(f, (5, 4), dtype=int)\n",
    "print(b)\n",
    "\n",
    "print(b[2, 3])\n",
    "print(b[0:5, 1])  # each row in the second column of b\n",
    "print(b[:, 1])    # equivalent to the previous example\n",
    "print(b[1:3, :])  # each column in the second and third row of b\n",
    "\n",
    "print(b[0:3:2, :]) # 연속적이지 않은 rows"
   ]
  },
  {
   "cell_type": "code",
   "execution_count": null,
   "metadata": {},
   "outputs": [
    {
     "data": {
      "text/plain": [
       "array([40, 41, 42, 43])"
      ]
     },
     "execution_count": 55,
     "metadata": {},
     "output_type": "execute_result"
    }
   ],
   "source": [
    "\n",
    "b[-1]   # the last row. Equivalent to b[-1, :]"
   ]
  },
  {
   "cell_type": "markdown",
   "metadata": {},
   "source": [
    "연속된 `:` 는 생략할 수도 있음.\n",
    "\n",
    "예: x가 5차원인 경우.\n",
    "- `x[1, 2, ...]` is equivalent to `x[1, 2, :, :, :]`\n",
    "- `x[..., 3]` to `x[:, :, :, :, 3]`\n",
    "- `x[4, ..., 5, :]` to `x[4, :, :, 5, :]`"
   ]
  },
  {
   "cell_type": "code",
   "execution_count": null,
   "metadata": {},
   "outputs": [
    {
     "name": "stdout",
     "output_type": "stream",
     "text": [
      "(2, 2, 3)\n",
      "[[100 101 102]\n",
      " [110 112 113]]\n",
      "[[  2  13]\n",
      " [102 113]]\n"
     ]
    }
   ],
   "source": [
    "##   dots (...)\n",
    "\n",
    "c = np.array([[[  0,  1,  2],  # a 3D array (two stacked 2D arrays)\n",
    "               [ 10, 12, 13]],\n",
    "              [[100, 101, 102],\n",
    "               [110, 112, 113]]])\n",
    "print(c.shape)\n",
    "\n",
    "print(c[1, ...])  # same as c[1, :, :] or c[1]\n",
    "\n",
    "print(c[..., 2])  # same as c[:, :, 2]"
   ]
  },
  {
   "cell_type": "code",
   "execution_count": null,
   "metadata": {},
   "outputs": [
    {
     "name": "stdout",
     "output_type": "stream",
     "text": [
      "0\n",
      "1\n",
      "2\n",
      "3\n",
      "4\n",
      "5\n"
     ]
    }
   ],
   "source": [
    "b = np.arange(6).reshape(3, 2)\n",
    "for element in b.flat:\n",
    "    print(element)"
   ]
  },
  {
   "cell_type": "markdown",
   "metadata": {},
   "source": [
    "# Less Basic\n",
    "\n",
    "https://numpy.org/doc/stable/user/quickstart.html#less-basic\n",
    "\n",
    "이하 생략"
   ]
  }
 ],
 "metadata": {
  "kernelspec": {
   "display_name": "ml_39",
   "language": "python",
   "name": "python3"
  },
  "language_info": {
   "codemirror_mode": {
    "name": "ipython",
    "version": 3
   },
   "file_extension": ".py",
   "mimetype": "text/x-python",
   "name": "python",
   "nbconvert_exporter": "python",
   "pygments_lexer": "ipython3",
   "version": "3.9.15"
  }
 },
 "nbformat": 4,
 "nbformat_minor": 2
}
