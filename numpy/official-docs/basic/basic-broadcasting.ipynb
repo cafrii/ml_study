{
 "cells": [
  {
   "cell_type": "markdown",
   "metadata": {},
   "source": [
    "## Broadcasting\n",
    "https://numpy.org/doc/stable/user/basics.broadcasting.html#\n",
    "\n",
    "브로드캐스팅이라는 용어는 NumPy가 산술 연산 중에 서로 다른 모양의 배열을 처리하는 방식을 설명합니다. 특정 제약 조건에 따라 더 작은 배열은 더 큰 배열에 \"브로드캐스트\" 되어 호환되는 모양이 됩니다. 브로드캐스트는 루프가 Python 대신 C에서 발생하도록 배열 연산을 벡터화하는 수단을 제공합니다. 불필요한 데이터 사본을 만들지 않고 이를 수행하며 일반적으로 효율적인 알고리즘 구현으로 이어집니다. 그러나 브로드 캐스팅이 메모리를 비효율적으로 사용하여 계산 속도가 느려지는 나쁜 아이디어 인 경우가 있습니다.\n",
    "\n",
    "NumPy 연산은 일반적으로 요소별로 배열 쌍에서 수행됩니다. 가장 간단한 경우, 두 배열은 다음 예와 같이 정확히 동일한 shape을 가져야 합니다."
   ]
  },
  {
   "cell_type": "code",
   "execution_count": 9,
   "metadata": {},
   "outputs": [
    {
     "data": {
      "text/plain": [
       "array([2., 4., 6.])"
      ]
     },
     "execution_count": 9,
     "metadata": {},
     "output_type": "execute_result"
    }
   ],
   "source": [
    "import numpy as np\n",
    "a = np.array([1.0, 2.0, 3.0])\n",
    "b = np.array([2.0, 2.0, 2.0])\n",
    "a * b\n",
    "# array([2.,  4.,  6.])"
   ]
  },
  {
   "cell_type": "markdown",
   "metadata": {},
   "source": [
    "NumPy의 브로드캐스팅 규칙은 배열의 모양이 특정 제약 조건을 충족할 때 이 제약 조건을 완화합니다. 가장 간단한 브로드캐스팅 예는 배열과 스칼라 값이 연산에서 결합될 때 발생합니다."
   ]
  },
  {
   "cell_type": "code",
   "execution_count": 10,
   "metadata": {},
   "outputs": [
    {
     "data": {
      "text/plain": [
       "array([2., 4., 6.])"
      ]
     },
     "execution_count": 10,
     "metadata": {},
     "output_type": "execute_result"
    }
   ],
   "source": [
    "a = np.array([1.0, 2.0, 3.0])\n",
    "b = 2.0\n",
    "a * b\n",
    "# array([2.,  4.,  6.])"
   ]
  },
  {
   "cell_type": "markdown",
   "metadata": {},
   "source": [
    "결과는 b가 배열인 이전 예제와 동일합니다. 산술 연산 중에 스칼라 b가 a와 같은 shape의 배열로 늘어나는 것으로 생각할 수 있습니다. 그림1 에 표시된 대로 b의 새 요소는 단순히 원래 스칼라의 복사본입니다. 늘리는 비유는 개념적일 뿐입니다. \"NumPy는 실제로 복사본을 만들지 않고도\" 원래 스칼라 값을 사용할 만큼 똑똑하여, 브로드캐스팅 작업이 가능한 한 메모리와 계산 측면에서 효율적입니다.\n",
    "\n",
    "두 번째 예제의 코드는 첫 번째 예제보다 효율적입니다. 왜냐하면 브로드캐스트가 곱셈 중에 이동하는 메모리가 적기 때문입니다. (b는 배열이 아니라 스칼라입니다)."
   ]
  },
  {
   "cell_type": "markdown",
   "metadata": {},
   "source": [
    "### 일반 브로드캐스팅 규칙\n",
    "\n",
    "두 개의 배열에서 작업할 때 NumPy는 그 shape을 요소별로 비교합니다. 후행(즉, 가장 오른쪽) 차원에서 시작하여 왼쪽으로 작업합니다. 두 개의 차원은 다음과 같은 경우 호환됩니다.\n",
    "1. 두 shape 이 동일하거나\n",
    "2. 두 shape 중 하나는 1\n",
    "\n",
    "이러한 조건이 충족되지 않으면 배열의 모양이 호환되지 않는다는 것을 나타내는 예외가 발생합니다. <br>\n",
    "ValueError: operands could not be broadcast together\n",
    "\n",
    "입력 배열은 동일한 차원 수를 가질 필요가 없습니다. 결과 배열은 가장 큰 차원 수를 가진 입력 배열과 동일한 차원 수를 가지며, 각 차원의 크기는 입력 배열 중 해당 차원의 가장 큰 크기입니다. 누락된 차원은 크기가 1이라고 가정합니다.\n",
    "\n",
    "예를 들어, 256x256x3 RGB 값의 배열이 있고, 이미지의 각 색상 요소를 다른 값으로 스케일 하려면 (예: R은 x1.2, G는 x1, B는 x0.9), 이미지를 3개의 값이 있는 1차원 배열로 곱할 수 있습니다. 브로드캐스트 규칙에 따라 이러한 배열의 후행 축 크기를 정렬하면 호환됨을 알 수 있습니다.\n",
    "```\n",
    "Image  (3d array): 256 x 256 x 3\n",
    "Scale  (1d array):             3\n",
    "Result (3d array): 256 x 256 x 3\n",
    "```\n",
    "비교된 두 차원 중 하나가 1이면, 나머지 다른 하나가 사용됩니다. 즉, 크기가 1인 차원은 다른 차원과 일치하도록 늘어나거나 \"복사\" 됩니다.\n",
    "\n",
    "다음 예에서 A및 B배열은 모두 길이가 1인 축을 갖고 있으며 브로드캐스트 작업 중에 이 축이 더 큰 크기로 확장됩니다.\n",
    "```\n",
    "A      (4d array):  8 x 1 x 6 x 1\n",
    "B      (3d array):      7 x 1 x 5\n",
    "Result (4d array):  8 x 7 x 6 x 5\n",
    "```"
   ]
  },
  {
   "cell_type": "markdown",
   "metadata": {},
   "source": [
    "### 브로드캐스트 가능한 배열\n",
    "https://numpy.org/doc/stable/user/basics.broadcasting.html#broadcastable-arrays\n",
    "\n",
    "위의 규칙이 유효한 결과를 생성하는 경우, 배열 집합은 동일한 모양으로 \"브로드캐스트 가능\" 하다고 합니다.\n",
    "\n",
    "예를 들어, a.shape가 (5,1), b.shape가 (1,6), c.shape가 (6,), d.shape가 ()이면,\n",
    "d가 스칼라이고, a, b, c, d 는 모두 (5,6)의 차원으로 브로드캐스트 될 수 있습니다.\n",
    "\n",
    "- a는 (5,6) 배열처럼 작동합니다. a[:,0] 이 다른 열로 브로드캐스트 됩니다.\n",
    "- b는 (5,6) 배열처럼 작동합니다. b[0,:] 이 다른 행으로 브로드캐스트 됩니다.\n",
    "- c는 (1,6) 배열, 그다음 결국 (5,6) 처럼 작동합니다. c[:]가 모든 행과 열로 브로드캐스트 됩니다.\n",
    "- d는 단일 값이 반복되는 (5,6) 배열처럼 작동합니다.\n",
    "\n",
    "몇 가지 예를 더 들자면 다음과 같습니다.\n",
    "```\n",
    "A      (2d array):  5 x 4\n",
    "B      (1d array):      1\n",
    "Result (2d array):  5 x 4\n",
    "\n",
    "A      (2d array):  5 x 4\n",
    "B      (1d array):      4\n",
    "Result (2d array):  5 x 4\n",
    "\n",
    "A      (3d array):  15 x 3 x 5\n",
    "B      (3d array):  15 x 1 x 5\n",
    "Result (3d array):  15 x 3 x 5\n",
    "\n",
    "A      (3d array):  15 x 3 x 5\n",
    "B      (2d array):       3 x 5\n",
    "Result (3d array):  15 x 3 x 5\n",
    "\n",
    "A      (3d array):  15 x 3 x 5\n",
    "B      (2d array):       3 x 1\n",
    "Result (3d array):  15 x 3 x 5\n",
    "```\n",
    "\n",
    "브로드캐스트 되지 않는 모양의 예는 다음과 같습니다.\n",
    "```\n",
    "A      (1d array):  3\n",
    "B      (1d array):  4 # trailing dimensions do not match\n",
    "\n",
    "A      (2d array):      2 x 1\n",
    "B      (3d array):  8 x 4 x 3 # second from last dimensions mismatched\n",
    "```\n",
    "\n",
    "1차원 배열을 2차원 배열에 추가할 때 브로드 캐스팅하는 예 :"
   ]
  },
  {
   "cell_type": "code",
   "execution_count": 11,
   "metadata": {},
   "outputs": [
    {
     "name": "stdout",
     "output_type": "stream",
     "text": [
      "[[ 1.  2.  3.]\n",
      " [11. 12. 13.]\n",
      " [21. 22. 23.]\n",
      " [31. 32. 33.]]\n",
      "operands could not be broadcast together with shapes (4,3) (4,) \n"
     ]
    }
   ],
   "source": [
    "import numpy as np\n",
    "a = np.array([[ 0.0,  0.0,  0.0],\n",
    "              [10.0, 10.0, 10.0],\n",
    "              [20.0, 20.0, 20.0],\n",
    "              [30.0, 30.0, 30.0]])\n",
    "b = np.array([1.0, 2.0, 3.0])\n",
    "print(a + b)\n",
    "# array([[  1.,   2.,   3.],\n",
    "#         [11.,  12.,  13.],\n",
    "#         [21.,  22.,  23.],\n",
    "#         [31.,  32.,  33.]])\n",
    "b = np.array([1.0, 2.0, 3.0, 4.0])\n",
    "try:\n",
    "    print(a + b)\n",
    "    # Traceback (most recent call last):\n",
    "    # ValueError: operands could not be broadcast together with shapes (4,3) (4,)\n",
    "except Exception as e:\n",
    "    print(e)"
   ]
  },
  {
   "cell_type": "markdown",
   "metadata": {},
   "source": [
    "Broadcasting 은 두 배열의 외적(또는 다른 외적 연산)을 구하는 편리한 방법을 제공합니다. 다음 예는 두 개의 1차원 배열의 외적 추가 연산을 보여줍니다."
   ]
  },
  {
   "cell_type": "code",
   "execution_count": 12,
   "metadata": {},
   "outputs": [
    {
     "data": {
      "text/plain": [
       "array([[ 1.,  2.,  3.],\n",
       "       [11., 12., 13.],\n",
       "       [21., 22., 23.],\n",
       "       [31., 32., 33.]])"
      ]
     },
     "execution_count": 12,
     "metadata": {},
     "output_type": "execute_result"
    }
   ],
   "source": [
    "import numpy as np\n",
    "a = np.array([0.0, 10.0, 20.0, 30.0])\n",
    "b = np.array([1.0, 2.0, 3.0])\n",
    "a[:, np.newaxis] + b\n",
    "# array([[ 1.,   2.,   3.],\n",
    "#        [11.,  12.,  13.],\n",
    "#        [21.,  22.,  23.],\n",
    "#        [31.,  32.,  33.]])"
   ]
  },
  {
   "cell_type": "markdown",
   "metadata": {},
   "source": [
    "여기서 newaxis 인덱스 연산자는 a에 새로운 축을 삽입하여 2차원 4x1배열을 만듭니다.\n",
    "- 원래 (4,) 였는데, 새 축이 추가되어 (4,1) 이 된 것임. 데이터는 동일함.\n",
    "- 벡터가 행렬로 확장된 것임.\n",
    "- 정확한 표현은 아니지만, 행 벡터가 열 벡터로 바뀐 것 처럼 이해할 수도 있음.\n",
    "\n",
    "4x1 shape의 배열을 shape 이 (3,) 인 b와 결합하면 4x3 의 배열이 생성됩니다."
   ]
  },
  {
   "cell_type": "markdown",
   "metadata": {},
   "source": [
    "### 실제 예: 벡터 양자화\n",
    "\n",
    "실제 문제에서 브로드캐스트가 꽤 자주 등장합니다. 전형적인 예는 정보 이론, 분류 및 기타 관련 분야에서 사용되는 벡터 양자화(VQ) 알고리즘에서 발생합니다. VQ의 기본 연산은, VQ 전문 용어로 codes 라고 불리는, 점 집합에서 주어진 점(observation)에 가장 가까운 점을 찾는 것입니다. 아래에 표시된 매우 간단한 2차원 사례에서 observation의 값은 분류할 운동 선수의 체중과 키를 기술합니다. codes는 다른 운동 선수 클래스를 나타냅니다. 가장 가까운 지점을 찾으려면 observation 과 각 codes 사이의 거리를 계산해야 합니다. 가장 짧은 거리가 가장 잘 일치합니다. 이 예에서 codes[0]이 가장 가까운 클래스이며, 운동 선수가 농구 선수일 가능성이 높음을 나타냅니다."
   ]
  },
  {
   "cell_type": "code",
   "execution_count": 13,
   "metadata": {},
   "outputs": [
    {
     "data": {
      "text/plain": [
       "0"
      ]
     },
     "execution_count": 13,
     "metadata": {},
     "output_type": "execute_result"
    }
   ],
   "source": [
    "from numpy import array, argmin, sqrt, sum\n",
    "observation = array([111.0, 188.0])\n",
    "codes = array([[102.0, 203.0],\n",
    "               [132.0, 193.0],\n",
    "               [45.0, 155.0],\n",
    "               [57.0, 173.0]])\n",
    "diff = codes - observation    # the broadcast happens here\n",
    "dist = sqrt(sum(diff**2,axis=-1))\n",
    "argmin(dist)"
   ]
  },
  {
   "cell_type": "markdown",
   "metadata": {},
   "source": [
    "일반적으로, 데이터베이스에서 읽은 많은 수의 는 observations의 집합과 비교됩니다 codes. 다음 시나리오를 고려하세요.\n",
    "```\n",
    "Observation      (2d array):      10 x 3\n",
    "Codes            (3d array):   5 x 1 x 3\n",
    "Diff             (3d array):  5 x 10 x 3\n",
    "```\n",
    "3차원 배열 diff는 계산에 필요한 것이 아니라 브로드캐스팅 의 결과입니다. 큰 데이터 세트는 계산적으로 비효율적인 큰 중간 배열을 생성합니다. 대신, 위의 2차원 예제에서 코드를 둘러싼 Python 루프를 사용하여 각 관찰을 개별적으로 계산하는 경우 훨씬 더 작은 배열이 사용됩니다.\n",
    "\n",
    "브로드캐스팅은 C에서 매우 효율적으로 계산을 수행하는 짧고 일반적으로 직관적인 코드를 작성하기 위한 강력한 도구입니다. 그러나 브로드캐스팅이 특정 알고리즘에 대해 불필요하게 많은 양의 메모리를 사용하는 경우가 있습니다. 이러한 경우 알고리즘의 외부 루프를 Python으로 작성하는 것이 좋습니다. 이렇게 하면 브로드캐스트팅을 사용하는 알고리즘은 브로드캐스트의 차원 수가 증가함에 따라 해석하기가 더 어려워지는 경향이 있으므로 더 읽기 쉬운 코드가 생성될 수도 있습니다."
   ]
  }
 ],
 "metadata": {
  "kernelspec": {
   "display_name": "ml_39",
   "language": "python",
   "name": "python3"
  },
  "language_info": {
   "codemirror_mode": {
    "name": "ipython",
    "version": 3
   },
   "file_extension": ".py",
   "mimetype": "text/x-python",
   "name": "python",
   "nbconvert_exporter": "python",
   "pygments_lexer": "ipython3",
   "version": "3.9.15"
  }
 },
 "nbformat": 4,
 "nbformat_minor": 2
}
